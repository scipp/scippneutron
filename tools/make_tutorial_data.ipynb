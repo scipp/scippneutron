{
 "cells": [
  {
   "cell_type": "code",
   "execution_count": null,
   "id": "least-substance",
   "metadata": {},
   "outputs": [],
   "source": [
    "import numpy as np\n",
    "import scipp as sc\n",
    "import scippneutron as scn\n",
    "import urllib.request\n",
    "\n",
    "url = 'https://github.com/ess-dmsc-dram/loki_tube_scripts/raw/master/test/test_data/LARMOR00049338.nxs'\n",
    "filename, _ = urllib.request.urlretrieve(url)\n",
    "data = scn.load_with_mantid(filename=filename)\n",
    "edges = sc.array(dims=['tof'], unit='us', values=np.linspace(5.0, 100000.0, num=201))\n",
    "data = sc.rebin(data, 'tof', edges)\n",
    "for i in [1, 2, 3, 4, 5]:\n",
    "    mon = data.attrs[f'monitor{i}']\n",
    "    mon.value = sc.rebin(mon.value, 'tof', edges)\n",
    "data.to_hdf5(filename='loki-at-larmor.hdf5')"
   ]
  },
  {
   "cell_type": "code",
   "execution_count": null,
   "id": "5328874d-f101-43ea-82aa-41f97d360247",
   "metadata": {},
   "outputs": [],
   "source": [
    "import urllib\n",
    "\n",
    "url = 'http://198.74.56.37/ftp/external-data/MD5/d5ae38871d0a09a28ae01f85d969de1e'\n",
    "filename, _ = urllib.request.urlretrieve(url, filename='PG3_4844_event.nxs')"
   ]
  },
  {
   "cell_type": "code",
   "execution_count": null,
   "id": "71896365-76be-426d-986f-7aeffd8d3acb",
   "metadata": {},
   "outputs": [],
   "source": [
    "import scipp as sc\n",
    "import scippneutron as scn\n",
    "\n",
    "da = scn.load_with_mantid(filename=f'PG3_4844_event.nxs', load_pulse_times=True)\n",
    "\n",
    "# Fake d-spacing shift\n",
    "da = scn.convert(da, 'tof', 'dspacing', scatter=True)\n",
    "proton_charge = da.attrs['proton_charge'].value\n",
    "tmin = proton_charge.coords['time'].min()\n",
    "tmax = proton_charge.coords['time'].max()\n",
    "delta = sc.to_unit(tmax - tmin, 'us')\n",
    "delta.unit = ''\n",
    "scale = sc.to_unit(da.bins.coords['pulse_time'] - tmin, 'us') * sc.scalar(\n",
    "    1, unit='Angstrom/us'\n",
    ")\n",
    "da.bins.coords['dspacing'] += 0.02 * scale / delta\n",
    "da = scn.convert(da, 'dspacing', 'tof', scatter=True)\n",
    "da.coords['tof'] = da.coords['tof']['spectrum', 0]\n",
    "\n",
    "# Fake prompt pulse\n",
    "prompt_start = 4000.0 * sc.Unit('us')\n",
    "prompt_stop = 5000.0 * sc.Unit('us')\n",
    "tof = da.bins.coords['tof']\n",
    "da.bins.data *= sc.where(\n",
    "    (prompt_start <= tof) & (tof < prompt_stop),\n",
    "    1.0 + 3.0 * sc.exp(-(tof - prompt_start) / sc.scalar(200.0, unit='us')),\n",
    "    sc.scalar(1.0),\n",
    ")\n",
    "\n",
    "# Reduce data size to 1/3\n",
    "da['spectrum', 14100:].to_hdf5(filename='powder-event.h5')"
   ]
  }
 ],
 "metadata": {
  "kernelspec": {
   "display_name": "Python 3 (ipykernel)",
   "language": "python",
   "name": "python3"
  },
  "language_info": {
   "codemirror_mode": {
    "name": "ipython",
    "version": 3
   },
   "file_extension": ".py",
   "mimetype": "text/x-python",
   "name": "python",
   "nbconvert_exporter": "python",
   "pygments_lexer": "ipython3"
  }
 },
 "nbformat": 4,
 "nbformat_minor": 5
}
