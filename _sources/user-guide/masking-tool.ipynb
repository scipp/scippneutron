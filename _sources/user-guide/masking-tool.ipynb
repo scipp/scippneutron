{
 "cells": [
  {
   "cell_type": "markdown",
   "id": "0",
   "metadata": {},
   "source": [
    "# Interactive masking tool\n",
    "\n",
    "This notebook show how to use the interactive masking tool."
   ]
  },
  {
   "cell_type": "code",
   "execution_count": null,
   "id": "1",
   "metadata": {},
   "outputs": [],
   "source": [
    "%matplotlib widget\n",
    "from scippneutron import MaskingTool\n",
    "import plopp as pp\n",
    "import scipp as sc\n",
    "import numpy as np"
   ]
  },
  {
   "cell_type": "markdown",
   "id": "2",
   "metadata": {},
   "source": [
    "We generate some fake data:"
   ]
  },
  {
   "cell_type": "code",
   "execution_count": null,
   "id": "3",
   "metadata": {},
   "outputs": [],
   "source": [
    "rng = np.random.default_rng(seed=4321)\n",
    "position = 10.0 * rng.standard_normal(size=[50_000, 2])\n",
    "values = np.linalg.norm(position, axis=1)\n",
    "da = sc.DataArray(\n",
    "    data=sc.array(dims=[\"row\"], values=values, unit=\"K\"),\n",
    "    coords={\n",
    "        \"x\": sc.array(dims=[\"row\"], unit=\"m\", values=position[:, 0]),\n",
    "        \"y\": sc.array(dims=[\"row\"], unit=\"m\", values=position[:, 1]),\n",
    "    },\n",
    ").hist(y=300, x=300)\n",
    "da"
   ]
  },
  {
   "cell_type": "markdown",
   "id": "4",
   "metadata": {},
   "source": [
    "## Two-dimensional masks\n",
    "\n",
    "We then load it into the `MaskingTool`.\n",
    "\n",
    "**Instructions:**\n",
    "\n",
    "- Use the buttons in the top bar to add masks to the data\n",
    "- Left-click to add a new shape, and left-click again to persist the shape\n",
    "- Left-click a vertex to edit a shape\n",
    "- Right-click and hold to drag a shape\n",
    "- Middle-click (or Ctrl + left-click) to delete a shape\n",
    "- Save the masks to a file when the \"Save\" button is clicked"
   ]
  },
  {
   "cell_type": "code",
   "execution_count": null,
   "id": "5",
   "metadata": {},
   "outputs": [],
   "source": [
    "masking_tool = MaskingTool(da, norm=\"log\")"
   ]
  },
  {
   "cell_type": "code",
   "execution_count": null,
   "id": "6",
   "metadata": {
    "nbsphinx": "hidden"
   },
   "outputs": [],
   "source": [
    "r, v, h = masking_tool.controls\n",
    "\n",
    "r.value = True\n",
    "r._tool.click(-20, 5)\n",
    "r._tool.click(1, 30)\n",
    "\n",
    "v.value = True\n",
    "v._tool.click(7, 0)\n",
    "v._tool.click(15, 0)\n",
    "v._tool.click(20, 0)\n",
    "v._tool.click(30, 0)\n",
    "\n",
    "h.value = True\n",
    "h._tool.click(0, -20)\n",
    "h._tool.click(0, -10)\n",
    "\n",
    "masking_tool.filename.value = \"masks-2d.json\"\n",
    "\n",
    "def update(fig):\n",
    "    from ipywidgets import HBox\n",
    "\n",
    "    fig.children = [\n",
    "        fig.top_bar,\n",
    "        HBox([fig.left_bar, fig.canvas.to_image(), fig.right_bar]),\n",
    "        fig.bottom_bar,\n",
    "    ]\n",
    "\n",
    "update(masking_tool.fig)"
   ]
  },
  {
   "cell_type": "code",
   "execution_count": null,
   "id": "7",
   "metadata": {},
   "outputs": [],
   "source": [
    "masking_tool"
   ]
  },
  {
   "cell_type": "markdown",
   "id": "8",
   "metadata": {},
   "source": [
    "You can either save the masks to a file by filling in the text field and clicking the \"Save\" button,\n",
    "or get the masks as a `dict` by calling:"
   ]
  },
  {
   "cell_type": "code",
   "execution_count": null,
   "id": "9",
   "metadata": {},
   "outputs": [],
   "source": [
    "masking_tool.get_masks()"
   ]
  },
  {
   "cell_type": "markdown",
   "id": "10",
   "metadata": {},
   "source": [
    "## One-dimensional masks\n",
    "\n",
    "The tool also works with one-dimensional data.\n",
    "In this case, only the vertical span tool is active."
   ]
  },
  {
   "cell_type": "code",
   "execution_count": null,
   "id": "11",
   "metadata": {},
   "outputs": [],
   "source": [
    "masking_tool = MaskingTool(da.sum(\"y\"), norm=\"log\")"
   ]
  },
  {
   "cell_type": "code",
   "execution_count": null,
   "id": "12",
   "metadata": {
    "nbsphinx": "hidden"
   },
   "outputs": [],
   "source": [
    "v = masking_tool.controls[1]\n",
    "v.value = True\n",
    "v._tool.click(-40, 150)\n",
    "v._tool.click(-20, 150)\n",
    "v._tool.click(20, 150)\n",
    "v._tool.click(40, 150)\n",
    "\n",
    "masking_tool.filename.value = \"masks-1d.json\"\n",
    "\n",
    "update(masking_tool.fig)"
   ]
  },
  {
   "cell_type": "code",
   "execution_count": null,
   "id": "13",
   "metadata": {},
   "outputs": [],
   "source": [
    "masking_tool"
   ]
  },
  {
   "cell_type": "markdown",
   "id": "14",
   "metadata": {},
   "source": [
    "## Using the masks from the tool\n",
    "\n",
    "We will now show how we can connect the output of the masking tool to further computation,\n",
    "applying the masks and processing the data further.\n",
    "\n",
    "We first begin by setting up the same tool as above (in 2D)."
   ]
  },
  {
   "cell_type": "code",
   "execution_count": null,
   "id": "15",
   "metadata": {},
   "outputs": [],
   "source": [
    "masking_tool = MaskingTool(da, norm=\"log\")"
   ]
  },
  {
   "cell_type": "markdown",
   "id": "16",
   "metadata": {},
   "source": [
    "We then create a node that will listen to the changes in the masking tool and apply the masks onto the data before summing along the vertical dimension."
   ]
  },
  {
   "cell_type": "code",
   "execution_count": null,
   "id": "17",
   "metadata": {},
   "outputs": [],
   "source": [
    "def apply_masks(da, trigger_node):\n",
    "    # Get the current masks\n",
    "    masks = masking_tool.get_masks()\n",
    "    # Make a shallow copy and add the masks\n",
    "    out = da.copy(deep=False)\n",
    "    for name in masks:\n",
    "        cond = sc.ones(sizes=da.sizes, dtype=bool)\n",
    "        for dim, bounds in masks[name][\"bounds\"].items():\n",
    "            mids = sc.midpoints(da.coords[dim])\n",
    "            m = (\n",
    "                mids > sc.scalar(bounds[\"min\"][\"value\"], unit=bounds[\"min\"][\"unit\"])\n",
    "            ) & (mids < sc.scalar(bounds[\"max\"][\"value\"], unit=bounds[\"max\"][\"unit\"]))\n",
    "            cond = cond & m\n",
    "        out.masks[name] = cond\n",
    "    # Reduce data and return\n",
    "    return out.sum(\"y\")\n",
    "\n",
    "\n",
    "apply = pp.Node(apply_masks, da=da, trigger_node=masking_tool.masking_node)\n",
    "\n",
    "fig = pp.plot(apply, norm=\"log\")"
   ]
  },
  {
   "cell_type": "markdown",
   "id": "18",
   "metadata": {},
   "source": [
    "We now show the two figures, and changes in the tool should update the reduced result.\n",
    "Adding a rectangle lowers the signal in the same x range but does not bring it to zero.\n",
    "Adding a vertical span zeros the data."
   ]
  },
  {
   "cell_type": "code",
   "execution_count": null,
   "id": "19",
   "metadata": {
    "nbsphinx": "hidden"
   },
   "outputs": [],
   "source": [
    "r, v, h = masking_tool.controls\n",
    "\n",
    "r.value = True\n",
    "r._tool.click(-20, -5)\n",
    "r._tool.click(-5, 20)\n",
    "\n",
    "v.value = True\n",
    "v._tool.click(10, 0)\n",
    "v._tool.click(18, 0)\n",
    "\n",
    "update(masking_tool.fig)\n",
    "update(fig)"
   ]
  },
  {
   "cell_type": "code",
   "execution_count": null,
   "id": "20",
   "metadata": {},
   "outputs": [],
   "source": [
    "pp.widgets.Box([masking_tool.fig, fig])"
   ]
  }
 ],
 "metadata": {
  "kernelspec": {
   "display_name": "Python 3 (ipykernel)",
   "language": "python",
   "name": "python3"
  },
  "language_info": {
   "codemirror_mode": {
    "name": "ipython",
    "version": 3
   },
   "file_extension": ".py",
   "mimetype": "text/x-python",
   "name": "python",
   "nbconvert_exporter": "python",
   "pygments_lexer": "ipython3"
  }
 },
 "nbformat": 4,
 "nbformat_minor": 5
}
