{
 "cells": [
  {
   "cell_type": "markdown",
   "id": "0",
   "metadata": {
    "tags": []
   },
   "source": [
    "# Coordinate Transformations\n",
    "\n",
    "## About coordinate transformations\n",
    "\n",
    "There are a number of essential coordinate transformations specific to neutron-scattering such as conversion from time-of-flight to $\\lambda$ (wavelength) or $Q$ (momentum transfer).\n",
    "Such coordinate transformations are also frequently referred to as \"unit conversion\", but here we avoid this terminology, to clearly distinguish from [conversion of array units using](https://scipp.github.io/generated/functions/scipp.to_unit.html#scipp.to_unit) `sc.to_unit`.\n",
    "\n",
    "Scipp provides [coordinate transformations using](https://scipp.github.io/user-guide/coordinate-transformations.html) `sc.transform_coords`.\n",
    "Scippneutron defines concrete transformations for time-of-flight neutron scattering, as well as building blocks for customizing transformations.\n",
    "Both are discussed in the following.\n",
    "\n",
    "## Built-in transformations\n",
    "\n",
    "### Overview of time-of-flight transformations\n",
    "\n",
    "For background, we refer to PaN-learning on [Introduction to neutron scattering](https://e-learning.pan-training.eu/wiki/index.php/Introduction_to_neutron_scattering) and [Basics of neutron scattering](https://e-learning.pan-training.eu/wiki/index.php/Basics_of_neutron_scattering).\n",
    "Below we also describe the more direct approach.\n",
    "\n",
    "We define the beamline geometry as in this image:\n",
    "\n",
    "![image](../_static/beamline/beamline_coordinates_light.svg)\n",
    "\n",
    "Where the source position defines the point where $t=0$ (or vice versa).\n",
    "And $2\\theta$ is the scattering angle, as defined in Bragg's law, not to be confused with $\\theta_{\\mathsf{spherical}}$ in spherical coordinates.\n",
    "In many instruments the beam is roughly aligned with the $z$-axis, so $2\\theta = \\theta_{\\mathsf{spherical}}$.\n",
    "The factor of $2$ is a recurrent source of bugs.\n",
    "\n",
    "In addition:\n",
    "\n",
    "- $h$ is the Planck constant, $m_{\\mathsf{n}}$ is the neutron mass.\n",
    "- $d$ is the interplanar lattice spacing\n",
    "- $\\lambda$ is the de Broglie wavelength\n",
    "- $\\vec{Q}$ (`Q_vec` in code) is the momentum transfer and $Q$ its norm\n",
    "- $E$ is the energy\n",
    "\n",
    "In the special case of inelastic neutron scattering we have additionally:\n",
    "\n",
    "- $E_i$ is the known incident energy. This case is called *direct inelastic scattering*.\n",
    "  We define $t_0 = \\sqrt{L_1^2 \\cdot m_{\\mathsf{n}} / (2 E_i)}$\n",
    "- $E_f$ is the known final energy. This case is called *indirect inelastic scattering*.\n",
    "  We define $t_0 = \\sqrt{L_2^2 \\cdot m_{\\mathsf{n}} / (2 E_f)}$\n",
    "  In this case $E_f$ is actually determined by analyzer crystals in the secondary flight path.\n",
    "  It is assumed that the detector positions are set to the effective (neutronic) rather than physical positions, since the computation of $L_2$ assumes a straight line connection between sample and detectors.\n",
    "\n",
    "Conversions between these quantities are given by the following table:\n",
    "\n",
    "|Input coord |Output coord |Equation used for coord transformation |\n",
    "|---|---|:---|\n",
    "|`tof`|`dspacing`|$d = \\frac{\\lambda}{2\\sin(\\theta)} = \\frac{h \\cdot t}{L_{\\mathsf{total}} \\cdot m_{\\mathsf{n}} \\cdot 2 \\sin(\\theta)}$|\n",
    "| `tof`|`wavelength`|$\\lambda = \\frac{h \\cdot t}{m_{\\mathsf{n}} \\cdot L_{\\mathsf{total}}}$|\n",
    "|`wavelength`|`Q`|$Q = \\frac{4 \\pi \\sin(\\theta)}{\\lambda}$|\n",
    "|`Q`|`wavelength`|$\\lambda = \\frac{4 \\pi \\sin(\\theta)}{Q}$|\n",
    "|`wavelength`|`Q_vec`|$\\vec{Q} = \\vec{k}_i - \\vec{k}_f = \\frac{2\\pi}{\\lambda} \\left(\\hat{e}_i - \\hat{e}_f\\right)$|\n",
    "| `tof`|`energy`|$E = \\frac{m_{\\mathsf{n}}L^2_{\\mathsf{total}}}{2t^2}$|\n",
    "| `tof`|`energy_transfer` (direct)|$E = E_i - \\frac{m_{\\mathsf{n}}L^2_{\\mathsf{2}}}{2\\left(t-t_0\\right)^{2}}$|\n",
    "| `tof`|`energy_transfer` (indirect)|$E = \\frac{m_{\\mathsf{n}}L^2_{\\mathsf{1}}}{2\\left(t-t_0\\right)^{2}} - E_f$|\n",
    "\n",
    "See the reference of [scippneutron.conversion](../generated/modules/scippneutron.conversion.rst) for additional conversions and more details.\n",
    "\n",
    "### Transformation graphs\n",
    "\n",
    "The above table defines how an output coordinate such as `wavelength` is computed from inputs such as `Ltotal` and `tof`.\n",
    "In practice not all input data directly comes with all the required metadata.\n",
    "For example, instead of `Ltotal` the metadata may only contain `source_position`, `sample_position`, and `position`.\n",
    "These can then be used to compute derived metadata such as `Ltotal`.\n",
    "`transform_coords` can automatically do this by walking a transformation graph.\n",
    "\n",
    "The transformations typically require two components:\n",
    "\n",
    "1. A definition of the beamline geometry which defines, e.g., how scattering angles are to be computed from positions of beamline components such as sample and detector positions.\n",
    "2. A definition of the scattering kinematics and dynamics, e.g., how $\\lambda$ or $Q$ can be computed from time-of-flight for an elastic scattering process.\n",
    "\n",
    "Pre-defined standard components (transformation graphs and graph building blocks) are available in [scippneutron.conversion.graph](../generated/modules/scippneutron.conversion.graph.rst):"
   ]
  },
  {
   "cell_type": "code",
   "execution_count": null,
   "id": "1",
   "metadata": {},
   "outputs": [],
   "source": [
    "import scipp as sc\n",
    "from scippneutron.conversion import graph"
   ]
  },
  {
   "cell_type": "markdown",
   "id": "2",
   "metadata": {},
   "source": [
    "`graph.beamline.beamline` defines a \"simple\" (straight) time-of-flight beamline with source-, sample-, and detector positions.\n",
    "Two variants, with and without scattering are provided.\n",
    "\n",
    "Without scattering, the transformation graph is simple.\n",
    "This intended for use with monitors or imaging beamlines where no scattering from a sample occurs:"
   ]
  },
  {
   "cell_type": "code",
   "execution_count": null,
   "id": "3",
   "metadata": {},
   "outputs": [],
   "source": [
    "sc.show_graph(graph.beamline.beamline(scatter=False), simplified=True)"
   ]
  },
  {
   "cell_type": "markdown",
   "id": "4",
   "metadata": {},
   "source": [
    "The graph is to be read as follows.\n",
    "Starting with the node for the desired output coordinate, here `Ltotal`, `transform_coords` proceeds as follows:\n",
    "\n",
    "1. If `Ltotal` is found in the metadata, no transformation is performed.\n",
    "   Return `Ltotal`.\n",
    "2. If `Ltotal` is not found in the metadata,\n",
    "\n",
    "   1. For each input to the node (arrows pointing *to* the node, here `source_position` and `position`)  go to 1., i.e., either find the input, or compute it by continuing to walk upwards in the graph.\n",
    "   2. Compute `Ltotal` from the found or computed inputs and return it.\n",
    "   \n",
    "If the top of the graph is reached without finding all required inputs, the transformation fails.\n",
    "Refer to the scipp documentation on [Coordinate Transformations](https://scipp.github.io/user-guide/coordinate-transformations.html) for a more detailed explanation.\n",
    "\n",
    "A more complex example is `conversions.beamline` for a scattering process:"
   ]
  },
  {
   "cell_type": "code",
   "execution_count": null,
   "id": "5",
   "metadata": {},
   "outputs": [],
   "source": [
    "sc.show_graph(graph.beamline.beamline(scatter=True), simplified=True)"
   ]
  },
  {
   "cell_type": "markdown",
   "id": "6",
   "metadata": {},
   "source": [
    "In addition to defining how beamline parameters can be computed, a second building block defines how, e.g., $\\lambda$ or $Q$ can be computed from an input coordinate.\n",
    "There are four cases:\n",
    "\n",
    "- `conversions.kinematic` for straight propagation of neutrons, i.e., without any scattering process.\n",
    "  This is intended for use in combination with `conversions.beamline(scatter=False)`.\n",
    "- `conversions.elastic` for elastic scattering processes.\n",
    "- `conversions.direct_inelastic` for direct-inelastic scattering processes, i.e., for fixed incident energies.\n",
    "- `conversions.indirect_inelastic` for direct-inelastic scattering processes, i.e., fixed final energies, typically using analyzer crystals.\n",
    "\n",
    "The coordinate transformation logic defined by these four cases is as follows:"
   ]
  },
  {
   "cell_type": "code",
   "execution_count": null,
   "id": "7",
   "metadata": {},
   "outputs": [],
   "source": [
    "sc.show_graph(graph.tof.kinematic(\"tof\"), simplified=True)"
   ]
  },
  {
   "cell_type": "code",
   "execution_count": null,
   "id": "8",
   "metadata": {},
   "outputs": [],
   "source": [
    "sc.show_graph(graph.tof.elastic(\"tof\"), simplified=True)"
   ]
  },
  {
   "cell_type": "code",
   "execution_count": null,
   "id": "9",
   "metadata": {},
   "outputs": [],
   "source": [
    "sc.show_graph(graph.tof.direct_inelastic(\"tof\"), simplified=True)"
   ]
  },
  {
   "cell_type": "code",
   "execution_count": null,
   "id": "10",
   "metadata": {},
   "outputs": [],
   "source": [
    "sc.show_graph(graph.tof.indirect_inelastic(\"tof\"), simplified=True)"
   ]
  },
  {
   "cell_type": "markdown",
   "id": "11",
   "metadata": {},
   "source": [
    "Computing energy transfer for an indirect geometry instrument requires changes to the `beamline` graph to account for scattering off of the analyzers.\n",
    "This has not yet been implemented in ScippNeutron as the precise input coordinates for relevant instruments are unknown.\n",
    "But an example has been developed for a summer school [here](https://ess-dmsc-dram.github.io/dmsc-school/4-reduction/reduction-qens.html)."
   ]
  },
  {
   "cell_type": "markdown",
   "id": "12",
   "metadata": {},
   "source": [
    "### Performing a coordinate transformation\n",
    "\n",
    "The transformation graphs depicted above can now be used to transform time-of-flight data to, e.g., `wavelength`.\n",
    "We need to combine the two building blocks, the beamline transformation graph and the elastic scattering transformation graph, into a single graph:"
   ]
  },
  {
   "cell_type": "code",
   "execution_count": null,
   "id": "13",
   "metadata": {},
   "outputs": [],
   "source": [
    "import scipp as sc\n",
    "from scippneutron.conversion.graph.beamline import beamline\n",
    "from scippneutron.conversion.graph.tof import elastic\n",
    "\n",
    "graph = {**beamline(scatter=True), **elastic(\"tof\")}\n",
    "sc.show_graph(graph, simplified=True)"
   ]
  },
  {
   "cell_type": "markdown",
   "id": "14",
   "metadata": {},
   "source": [
    "We use the following powder diffraction data to demonstrate the conversion:"
   ]
  },
  {
   "cell_type": "code",
   "execution_count": null,
   "id": "15",
   "metadata": {},
   "outputs": [],
   "source": [
    "import scippneutron as scn\n",
    "import scippneutron.data\n",
    "\n",
    "da = scn.data.powder_sample()['data']\n",
    "da"
   ]
  },
  {
   "cell_type": "markdown",
   "id": "16",
   "metadata": {},
   "source": [
    "The result after applying the coordinate transformation is:"
   ]
  },
  {
   "cell_type": "code",
   "execution_count": null,
   "id": "17",
   "metadata": {},
   "outputs": [],
   "source": [
    "da.transform_coords(\"wavelength\", graph=graph)"
   ]
  },
  {
   "cell_type": "markdown",
   "id": "18",
   "metadata": {},
   "source": [
    "Note how `transform_coords` automatically handles event data."
   ]
  },
  {
   "cell_type": "markdown",
   "id": "19",
   "metadata": {
    "tags": []
   },
   "source": [
    "## Customizing transformations\n",
    "\n",
    "Many neutron beamlines are more complex than what is assumed by the simple built-in transformation graphs.\n",
    "The coordinate transformation mechanism is completely generic and is customizable.\n",
    "We provide four examples:\n",
    "\n",
    "1. [Gravity correction](#Gravity-correction) demonstrates how to replace a node in an existing graph.\n",
    "   The example takes into account a gravity drop of scattered neutrons when computing $2\\theta$.\n",
    "1. [Plane wave beam](#Plane-wave-beam) demonstrates how to replace a node in an existing graph.\n",
    "   The example computes $L_{\\text{total}}$ not using a straight-line definition (which assumes a point-like source) but instead used the direction of the incident beam.\n",
    "   This could be used for imaging beamlines to ensure that all image sensor pixels have identical wavelength coordinates.\n",
    "1. [Diffraction calibration](#Diffraction-calibration) demonstrates a completely custom transformation without use of pre-defined graphs.\n",
    "   The example uses calibration results to compute the interplanar lattice spacing $d$, instead of computing $d$ using positions of beamline components.\n",
    "1. [2-D Rietveld](#2-D-Rietveld) demonstrates how a new node is added to an existing graph.\n",
    "   The example computes $d_{\\text{perp}}$ and $d$ as used in 2-D Rietveld.\n",
    "   This also demonstrates how to continue working with data with multiple output coordinates using binning."
   ]
  },
  {
   "cell_type": "markdown",
   "id": "20",
   "metadata": {
    "tags": []
   },
   "source": [
    "### Gravity correction\n",
    "\n",
    "For techniques such as SANS which are probing low Q regions, the basic conversion approach may not be sufficient.\n",
    "A computation of $2\\theta$ may need to take into account gravity since the gravity drop after scattering is not negligible.\n",
    "This can be achieved by replacing the function for computation of `two_theta` that is defined as part of `conversion.graph.beamline.beamline(scatter=True)`.\n",
    "\n",
    "ScippNeutron provides [scn.conversion.beamline.scattering_angles_with_gravity](../generated/modules/scippneutron.conversion.beamline.scattering_angles_with_gravity.rst) which computes both the polar scattering angle `two_theta` and the azimuthal angle `phi`.\n",
    "To insert it into the graph, first remove the default function for `two_theta` and then insert `scattering_angles_with_gravity`: "
   ]
  },
  {
   "cell_type": "code",
   "execution_count": null,
   "id": "21",
   "metadata": {},
   "outputs": [],
   "source": [
    "from scippneutron.conversion import beamline, graph\n",
    "\n",
    "q_with_gravity = {**graph.beamline.beamline(scatter=True), **graph.tof.elastic_Q(\"tof\")}\n",
    "del q_with_gravity[\"two_theta\"]\n",
    "q_with_gravity[(\"two_theta\", \"phi\")] = beamline.scattering_angles_with_gravity"
   ]
  },
  {
   "cell_type": "markdown",
   "id": "22",
   "metadata": {},
   "source": [
    "The result is as follows:"
   ]
  },
  {
   "cell_type": "code",
   "execution_count": null,
   "id": "23",
   "metadata": {},
   "outputs": [],
   "source": [
    "sc.show_graph(q_with_gravity, simplified=True)"
   ]
  },
  {
   "cell_type": "markdown",
   "id": "24",
   "metadata": {},
   "source": [
    "We can use this to convert SANS data to $Q$.\n",
    "Our custom transformation graph requires a `gravity` input coordinate, so we define one.\n",
    "In this case (LARMOR beamline) \"up\" is along the `y` axis:"
   ]
  },
  {
   "cell_type": "code",
   "execution_count": null,
   "id": "25",
   "metadata": {
    "tags": []
   },
   "outputs": [],
   "source": [
    "import scippneutron as scn\n",
    "from scipp.constants import g\n",
    "\n",
    "da = scn.data.tutorial_dense_data()['detector']\n",
    "# Convert to bin centers so we can later bin into Q bins\n",
    "da.coords[\"tof\"] = 0.5 * (da.coords[\"tof\"][\"tof\", :-1] + da.coords[\"tof\"][\"tof\", 1:])\n",
    "da.coords[\"gravity\"] = sc.vector(value=[0, -1, 0]) * g\n",
    "da_gravity = da.transform_coords(\"Q\", graph=q_with_gravity)\n",
    "da_gravity"
   ]
  },
  {
   "cell_type": "markdown",
   "id": "26",
   "metadata": {},
   "source": [
    "As a final step we may then bin our data into $Q$ bins:"
   ]
  },
  {
   "cell_type": "code",
   "execution_count": null,
   "id": "27",
   "metadata": {},
   "outputs": [],
   "source": [
    "q_bins = sc.linspace(dim=\"Q\", unit=\"1/angstrom\", start=0.0, stop=15.0, num=100)\n",
    "da_gravity = da_gravity.flatten(to=\"Q\").hist(Q=q_bins)\n",
    "da_gravity.plot(norm=\"log\")"
   ]
  },
  {
   "cell_type": "markdown",
   "id": "28",
   "metadata": {
    "tags": []
   },
   "source": [
    "### Plane wave beam\n",
    "\n",
    "The built-in `conversion.graph.beamline.beamline(scatter=False)` assumes a straight line from source to detector, i.e., treats the source as a point.\n",
    "If we use this to compute `wavelength` for an imaging beamline this will result in different wavelengths for each image sensor pixel, which may be undesirable.\n",
    "We can define a custom `Ltotal` function to compute the average distance along the beam:"
   ]
  },
  {
   "cell_type": "code",
   "execution_count": null,
   "id": "29",
   "metadata": {},
   "outputs": [],
   "source": [
    "import scipp as sc\n",
    "from scippneutron.conversion import graph\n",
    "\n",
    "\n",
    "def Ltotal(incident_beam, source_position, position):\n",
    "    n = incident_beam / sc.norm(incident_beam)\n",
    "    projected = sc.dot(position, n) * n\n",
    "    return sc.norm(sc.mean(projected) - source_position)\n",
    "\n",
    "\n",
    "plane_graph = {**graph.beamline.incident_beam(), **graph.tof.kinematic(\"tof\")}\n",
    "plane_graph[\"Ltotal\"] = Ltotal\n",
    "sc.show_graph(plane_graph, simplified=True)"
   ]
  },
  {
   "cell_type": "markdown",
   "id": "30",
   "metadata": {},
   "source": [
    "Note how `Ltotal` uses the *mean* of the projected position to ensure that the coordinate transformation will produce a `wavelength` coordinate that does not depend on the pixel:"
   ]
  },
  {
   "cell_type": "code",
   "execution_count": null,
   "id": "31",
   "metadata": {},
   "outputs": [],
   "source": [
    "import scippneutron as scn\n",
    "\n",
    "da = scn.data.tutorial_dense_data()[\n",
    "    'detector'\n",
    "]  # Note that this is actually a SANS beamline, not an imaging beamline\n",
    "da_plane = da.transform_coords(\"wavelength\", graph=plane_graph)\n",
    "da_plane"
   ]
  },
  {
   "cell_type": "markdown",
   "id": "32",
   "metadata": {
    "tags": []
   },
   "source": [
    "### Diffraction calibration\n",
    "\n",
    "While the built-in conversion graphs support computation of $d$-spacing based on beamline component positions and time-of-flight, in practice it frequently is computed based parameters from a calibration file.\n",
    "We define a function `dspacing` to compute this:"
   ]
  },
  {
   "cell_type": "code",
   "execution_count": null,
   "id": "33",
   "metadata": {},
   "outputs": [],
   "source": [
    "import scipp as sc\n",
    "\n",
    "\n",
    "def dspacing(tof, tzero, difc):\n",
    "    difc = sc.reciprocal(difc)\n",
    "    return difc * (tof - tzero)\n",
    "\n",
    "\n",
    "calibration_graph = {\"dspacing\": dspacing}\n",
    "sc.show_graph(calibration_graph)"
   ]
  },
  {
   "cell_type": "markdown",
   "id": "34",
   "metadata": {},
   "source": [
    "We can then load powder data and set the required input coordinates from a corresponding calibration file:"
   ]
  },
  {
   "cell_type": "code",
   "execution_count": null,
   "id": "35",
   "metadata": {},
   "outputs": [],
   "source": [
    "import scippneutron as scn\n",
    "\n",
    "da = scn.data.powder_sample()['data']\n",
    "calibration = scn.data.powder_calibration()\n",
    "da.coords[\"tzero\"] = calibration[\"tzero\"].data\n",
    "da.coords[\"difc\"] = calibration[\"difc\"].data"
   ]
  },
  {
   "cell_type": "markdown",
   "id": "36",
   "metadata": {},
   "source": [
    "The coordinate transformation then yields:"
   ]
  },
  {
   "cell_type": "code",
   "execution_count": null,
   "id": "37",
   "metadata": {},
   "outputs": [],
   "source": [
    "da.transform_coords(\"dspacing\", graph=calibration_graph)"
   ]
  },
  {
   "cell_type": "markdown",
   "id": "38",
   "metadata": {
    "tags": []
   },
   "source": [
    "### 2-D Rietveld\n",
    "\n",
    "Powder diffraction data is typically converted to $d$-spacing for Rietveld refinement.\n",
    "A more advanced approach additionally requires data depending on $d_{\\perp}$ for a [2-D Rietveld refinement process](https://journals.iucr.org/j/issues/2017/03/00/pd5090/index.html).\n",
    "We define"
   ]
  },
  {
   "cell_type": "code",
   "execution_count": null,
   "id": "39",
   "metadata": {},
   "outputs": [],
   "source": [
    "def dspacing_perpendicular(wavelength, two_theta):\n",
    "    lambda_K = sc.scalar(1.0, unit=\"angstrom\")\n",
    "    return sc.sqrt(wavelength**2 - 2 * (lambda_K**2) * sc.log(sc.cos(0.5 * two_theta)))"
   ]
  },
  {
   "cell_type": "markdown",
   "id": "40",
   "metadata": {},
   "source": [
    "We then add this as a new node (new dict item) to a graph consisting of built-ins:"
   ]
  },
  {
   "cell_type": "code",
   "execution_count": null,
   "id": "41",
   "metadata": {},
   "outputs": [],
   "source": [
    "from scippneutron.conversion import graph\n",
    "\n",
    "graph = {**graph.beamline.beamline(scatter=True), **graph.tof.elastic(\"tof\")}\n",
    "graph[\"d\"] = \"dspacing\"  # rename to brief name\n",
    "graph[\"d_perp\"] = dspacing_perpendicular"
   ]
  },
  {
   "cell_type": "markdown",
   "id": "42",
   "metadata": {},
   "source": [
    "The result is:"
   ]
  },
  {
   "cell_type": "code",
   "execution_count": null,
   "id": "43",
   "metadata": {},
   "outputs": [],
   "source": [
    "import scipp as sc\n",
    "\n",
    "del graph[\"energy\"]  # not necessary, clarifies conversion graph\n",
    "del graph[\"Q\"]  # not necessary, clarifies conversion graph\n",
    "sc.show_graph(graph, simplified=True)"
   ]
  },
  {
   "cell_type": "markdown",
   "id": "44",
   "metadata": {},
   "source": [
    "We can then apply the transformation:"
   ]
  },
  {
   "cell_type": "code",
   "execution_count": null,
   "id": "45",
   "metadata": {},
   "outputs": [],
   "source": [
    "import scippneutron as scn\n",
    "\n",
    "da = scn.data.powder_sample()['data']\n",
    "da_d_d_perp = da.transform_coords([\"d\", \"d_perp\"], graph=graph)\n",
    "da_d_d_perp"
   ]
  },
  {
   "cell_type": "markdown",
   "id": "46",
   "metadata": {},
   "source": [
    "In this case the `tof` dimension has not been renamed/replaced, since there are *two* output coordinates that depend on it.\n",
    "We can bin this result into 2-D $d$ and $d_{\\perp}$ bins and remove the `spectrum` and `tof` dimensions:"
   ]
  },
  {
   "cell_type": "code",
   "execution_count": null,
   "id": "47",
   "metadata": {},
   "outputs": [],
   "source": [
    "da_d_d_perp.hist(d_perp=100, d=100).plot(norm=\"log\")"
   ]
  }
 ],
 "metadata": {
  "kernelspec": {
   "display_name": "Python 3 (ipykernel)",
   "language": "python",
   "name": "python3"
  },
  "language_info": {
   "codemirror_mode": {
    "name": "ipython",
    "version": 3
   },
   "file_extension": ".py",
   "mimetype": "text/x-python",
   "name": "python",
   "nbconvert_exporter": "python",
   "pygments_lexer": "ipython3",
   "version": "3.10.14"
  }
 },
 "nbformat": 4,
 "nbformat_minor": 5
}
