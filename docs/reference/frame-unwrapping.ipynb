{
 "cells": [
  {
   "attachments": {},
   "cell_type": "markdown",
   "id": "dcc5c0db-6295-4fe7-a951-881a22070be5",
   "metadata": {},
   "source": [
    "# Frame Unwrapping\n",
    "\n",
    "## Context\n",
    "\n",
    "At time-of-flight neutron sources recording event-mode, time-stamps of detected neutrons are written to files in an `NXevent_data` group.\n",
    "This contains two main time components, `event_time_zero` and `event_time_offset`.\n",
    "The sum of the two would typically yield the absolute detection time of the neutron.\n",
    "For computation of wavelengths or energies during data-reduction, a time-of-flight is required.\n",
    "In principle the time-of-flight could be equivalent to `event_time_offset`, and the emission time of the neutron to `event_time_zero`.\n",
    "Since an actual computation of time-of-flight would require knowledge about chopper settings, detector positions, and whether the scattering of the sample is elastic or inelastic, this may however not be the case in practice.\n",
    "Instead, the data acquisition system may, e.g., record the time at which the proton pulse hits the target as `event_time_zero`, with `event_time_offset` representing the offset since then.\n",
    "\n",
    "We refer to the process of \"unwrapping\" these time stamps into an actual time-of-flight as *frame unwrapping*, since `event_time_offset` \"wraps around\" with the period of the proton pulse and neutrons created by different proton pulses may be recorded with the *same* `event_time_zero`.\n",
    "The figures in the remainder of this document will clarify this."
   ]
  },
  {
   "cell_type": "markdown",
   "id": "d8a53e78-18a6-43ab-8b92-5c9af76d004d",
   "metadata": {},
   "source": [
    "## Default"
   ]
  },
  {
   "cell_type": "markdown",
   "id": "d49bd748-0b48-427f-a20b-4b7524c86581",
   "metadata": {},
   "source": [
    "In this case there is a 1:1 correspondence between source pulses and neutron pulses propagated to the sample and detectors."
   ]
  },
  {
   "cell_type": "code",
   "execution_count": null,
   "id": "5072cc02-36cd-47f0-887b-a58a0717cede",
   "metadata": {},
   "outputs": [],
   "source": [
    "from frameunwrapping import default_frame_diagram\n",
    "\n",
    "default_frame_diagram().show()"
   ]
  },
  {
   "cell_type": "markdown",
   "id": "aaf4cac3-6a54-44a2-95f7-a0518474589e",
   "metadata": {},
   "source": [
    "In the figure above the index `i` labels source pulses.\n",
    "We define:\n",
    "\n",
    "- $T_0^i$ is the `event_time_zero` recorded in an `NXevent_data` group.\n",
    "  These times are indicated by the vertical dotted lines.\n",
    "- $T_0^{i+1} = T_0^i + L_0$ where the frame length $L_0$ is defined by $L_0 = 1/f_0$, given a source frequency $f_0$.\n",
    "- $\\Delta T_0$ is the offset from $T_0^i$ at which the neutrons are \"emitted\".\n",
    "  This may be zero (or half the pulse length) if the full pulse length is used, but choppers such as resolution choppers may extract a section of the pulse that is not aligned with the start of the full pulse.\n",
    "  This offset can also be used to take into account a potential difference between the timing system's definition of the pulse time and the actual beginning of the neutron pulse exiting, e.g., the moderator.\n",
    "- The black solid line within the first pulse (blue) indicates a neutron detected at $T_0^{i+1} + \\Delta t$.\n",
    "  $\\Delta t$ is the `event_time_offset` in an `NXevent_data` group.\n",
    "  This value is recorded for every neutron and gives the offset from the latest (previous) `event_time_zero` ($T_0^j$), i.e., the time difference to the previous vertical dotted line.\n",
    "\n",
    "To compute the time-of-flight for a neutron, we need to identify which source pulse it originated from.\n",
    "Consider the shaded vertical band above, indicating the time during which arriving neutrons are associated with $T_0^{i+1}$.\n",
    "For, e.g., detector 1 when then observe:\n",
    "\n",
    "- First (small `event_time_offset` $\\Delta t$, to the left of the dashed black line) we see the slowest neutrons from N (in this case N=2) source pulses earlier.\n",
    "- Then (larger `event_time_offset` $\\Delta t$, to the right of the dashed black line) we see the fastest neutrons from N-1 (in this case N-1=1) source pulses earlier.\n",
    "- Typically there is is an intermediate region where no neutrons should be able to traverse the chopper cascade.\n",
    "  Neutrons detected in this time interval must thus be background from other sources.\n",
    "\n",
    "To compute the time-of-flight we add an integer multiple of the frame length to `event_time_offset`.\n",
    "Within a given frame (indicated above by a band between two dotted vertical lines, such as the grey shaded band) there is a *pivot time*:\n",
    "Neutrons with `event_time_offset` *before* the pivot time originated one source frame *before* neutrons *after* the pivot time.\n",
    "As illustrated in the figure, the pivot time $t_\\text{pivot}$ depends on the detector or rather the distance of the detector from the scattering position.\n",
    "\n",
    "The pivot time can be computed, e.g., by defining the minimum wavelength $\\lambda_{\\text{min}}$ that can propagate through the chopper cascade to reach a detector.\n",
    "This is indicated above by the dashed black line.\n",
    "The computation of the time-of-flight can then proceed as follows (see also illustration below):\n",
    "\n",
    "1. Given $\\lambda_\\text{min}$, we can compute the the corresponding $t_{\\text{min}}$ (`tof_min`), i.e., the time the fastest neutrons take from the source to the detector.\n",
    "   `tof_min` is detector-dependent.\n",
    "2. The pivot time `time_offset_pivot` is computed as $t_\\text{pivot} = (\\Delta T_0 + t_{\\text{min}})\\mod L_0$.\n",
    "3. The time-of-flight $t_\\text{tof}$ is computed as\n",
    "   $$\n",
    "   t_{\\text{tof}} =  t_{\\text{min}} - t_\\text{pivot} +\\Delta t + \n",
    "       \\begin{cases}\n",
    "       L_0, & \\text{for } \\Delta t \\lt t_\\text{pivot}\\\\\n",
    "       0, & \\text{for } \\Delta t \\ge t_\\text{pivot}\n",
    "       \\end{cases}\n",
    "   $$\n",
    "   \n",
    "Note that there are other valid definitions of $t_\\text{pivot}$, differing only in how neutrons in the intermediate \"background\" region (region between two pulses) are mapped to frames."
   ]
  },
  {
   "cell_type": "markdown",
   "id": "e9e31362-3464-4ccb-8499-7e7e2796ee0b",
   "metadata": {},
   "source": [
    "`scippneutron.tof.frames` provides utilities for performing such computations.\n",
    "The transformation graph looks as follows:"
   ]
  },
  {
   "cell_type": "code",
   "execution_count": null,
   "id": "66353e3c-ef2c-409f-a965-3478b035fdb3",
   "metadata": {},
   "outputs": [],
   "source": [
    "from scippneutron.tof import frames\n",
    "\n",
    "import scipp as sc\n",
    "\n",
    "sc.show_graph(frames.to_tof(), simplified=True)"
   ]
  },
  {
   "cell_type": "markdown",
   "id": "994575cf-a896-43f9-947f-ba16cd007841",
   "metadata": {},
   "source": [
    "Note how `time_offset` and `frame_period` are aliases for `event_time_offset` and `pulse_period`, respectively."
   ]
  },
  {
   "cell_type": "markdown",
   "id": "4b532f66-9119-4e65-8827-1ed2f4dcfbd0",
   "metadata": {},
   "source": [
    "## Pulse-skipping\n",
    "\n",
    "Choppers may be used to skip pulses, for the purpose of a simultaneous study of a wider wavelength range.\n",
    "Conceptually this looks as follows:"
   ]
  },
  {
   "cell_type": "code",
   "execution_count": null,
   "id": "14d7fbb9-db13-486b-a821-3e062b6eb688",
   "metadata": {},
   "outputs": [],
   "source": [
    "from frameunwrapping import frame_skipping_diagram\n",
    "\n",
    "frame_skipping_diagram().show()"
   ]
  },
  {
   "cell_type": "markdown",
   "id": "578444ae-edfa-4070-a00f-40afa2cdd92e",
   "metadata": {},
   "source": [
    "The transformation graph that was given above for the non-pulse-skipping mode is then extended as shown below.\n",
    "The difference is that `frame_period` and `time_offset` are now computed from additional input parameters:"
   ]
  },
  {
   "cell_type": "code",
   "execution_count": null,
   "id": "848e31ed-f0fb-4c6c-8cc9-9de943ffc707",
   "metadata": {},
   "outputs": [],
   "source": [
    "sc.show_graph(frames.to_tof(pulse_skipping=True), simplified=True)"
   ]
  },
  {
   "cell_type": "markdown",
   "id": "02baefcd-75d6-4833-bd30-31b37cd1cfef",
   "metadata": {},
   "source": [
    "For illustration, we create some fake event data:"
   ]
  },
  {
   "cell_type": "code",
   "execution_count": null,
   "id": "71dd5ef2-4fd7-4ff9-bbe1-2b898984f423",
   "metadata": {},
   "outputs": [],
   "source": [
    "import numpy as np\n",
    "from scippneutron.conversion import graph\n",
    "\n",
    "import scipp as sc\n",
    "\n",
    "N = 1_000_000\n",
    "Lmax = 160 * sc.Unit('m')\n",
    "tmax = 700 * sc.Unit('ms')\n",
    "pulse_period = 71.0 * sc.Unit('ms')\n",
    "frame_period = 2 * pulse_period\n",
    "wavmin = 5.0 * sc.Unit('angstrom')\n",
    "wavmax = 8.0 * sc.Unit('angstrom')\n",
    "# This fake data is for a frame_offset of 0.\n",
    "\n",
    "rng = np.random.default_rng(12345)\n",
    "\n",
    "\n",
    "def fake_frame(frame_number):\n",
    "    dims = ['event']\n",
    "    L = sc.array(dims=dims, values=rng.random(N)) * Lmax\n",
    "    t = sc.array(dims=dims, values=rng.random(N)) * tmax\n",
    "    table = sc.DataArray(sc.ones(dims=dims, shape=[N]), coords={'Ltotal': L, 'tof': t})\n",
    "    table = table.transform_coords('wavelength', graph=graph.tof.elastic(\"tof\"))\n",
    "    da = table.bin(wavelength=1).bins['wavelength', wavmin:wavmax]\n",
    "    return da.transform_coords(time=lambda tof: tof + frame_number * frame_period)\n",
    "\n",
    "\n",
    "da = sc.concat([fake_frame(i) for i in range(-2, 8)], 'dummy').bins.concat('dummy')\n",
    "\n",
    "da = da.bins['time', 0.0 * sc.Unit('ms') : 8 * frame_period]\n",
    "del da.attrs['time']  # avoid problems below with non-monotonic coord transform"
   ]
  },
  {
   "cell_type": "markdown",
   "id": "ee2e08b2-6e25-49c7-a2d4-07cf90b04496",
   "metadata": {},
   "source": [
    "Our fake data illustrates what we might observe when placing many neutron monitors along our beamline.\n",
    "Note that intensities are not modelled correctly, since this is irrelevant here:"
   ]
  },
  {
   "cell_type": "code",
   "execution_count": null,
   "id": "58a8627d-a538-48fe-bf69-fe497dd8e959",
   "metadata": {},
   "outputs": [],
   "source": [
    "da.hist(Ltotal=100, time=500).plot()"
   ]
  },
  {
   "cell_type": "markdown",
   "id": "fc5892a1-fc0f-4108-8c7d-e995d345bc35",
   "metadata": {},
   "source": [
    "We refer to each of the emitted bundles of neutrons as *frame*.\n",
    "\n",
    "In practice, NeXus files record event data using `NXevent_data`, and in particular the `event_time_zero` and `event_time_offset` fields.\n",
    "`event_time_zero` gives the time of the source pulse.\n",
    "When pulse-skipping is used, the neutrons from each *frame* may nevertheless be assigned to *pulses* in the NeXus files.\n",
    "That is, while we have a frame-period of $2 \\cdot 71~\\text{ms}$ (in this example), `event_time_zero` is in steps of $71~\\text{ms}$.\n",
    "The `event_time_offset` that we would obtain from a NeXus file thus records the modulus of the `time`:"
   ]
  },
  {
   "cell_type": "code",
   "execution_count": null,
   "id": "cab93a0a-88ea-41a1-8bf8-87e732395c8b",
   "metadata": {},
   "outputs": [],
   "source": [
    "wrapped = da.transform_coords(\n",
    "    event_time_offset=lambda time: time % pulse_period,\n",
    "    event_time_zero=lambda time: pulse_period * (time // pulse_period),\n",
    ")\n",
    "wrapped.hist(Ltotal=100, event_time_offset=100).plot()"
   ]
  },
  {
   "cell_type": "markdown",
   "id": "6835b51c-e4e4-4f65-ac5f-14d8df600fa3",
   "metadata": {},
   "source": [
    "If we consider only neutrons that arrive at the sample or detectors, and split them by their `event_time_zero`, we obtain:"
   ]
  },
  {
   "cell_type": "code",
   "execution_count": null,
   "id": "fd8c09bd-de49-46b5-8f34-e217815fb22b",
   "metadata": {},
   "outputs": [],
   "source": [
    "wrapped.group('event_time_zero').bins['Ltotal', 159.0 * sc.Unit('m') :].hist(\n",
    "    event_time_offset=100\n",
    ").plot()"
   ]
  },
  {
   "cell_type": "markdown",
   "id": "fa4971b8-3676-445d-b59b-f60c533a84ce",
   "metadata": {},
   "source": [
    "This shows a gap in every other *pulse*, corresponding to the gap between *frames*.\n",
    "Every other pulse shows no gap, since those pulses are completely within a frame.\n",
    "Note that all this depends on the detection point and, e.g., different sample-detector distances will lead to gaps at different locations or even pulses.\n",
    "\n",
    "We can now use [unwrap_frames](../generated/modules/scippneutron.tof.frames.unwrap_frames.rst) to \"unwrap\" our fake raw data (or actual data from a NeXus file):"
   ]
  },
  {
   "cell_type": "code",
   "execution_count": null,
   "id": "56881d7c-2d11-4efa-a3df-69c7b6041255",
   "metadata": {},
   "outputs": [],
   "source": [
    "from scippneutron.tof import unwrap_frames\n",
    "\n",
    "raw = wrapped.copy()\n",
    "del raw.bins.attrs['tof']  # Pretend we do not know 'tof' yet\n",
    "\n",
    "unwrapped = unwrap_frames(\n",
    "    raw,\n",
    "    pulse_period=pulse_period,\n",
    "    pulse_stride=2,\n",
    "    lambda_min=wavmin,\n",
    "    frame_offset=0.0 * sc.Unit('ms'),\n",
    "    first_pulse_time=0 * pulse_period,\n",
    ")\n",
    "unwrapped = unwrapped.hist(Ltotal=100, tof=200)\n",
    "unwrapped.plot()"
   ]
  },
  {
   "cell_type": "markdown",
   "id": "973b8629-fcd5-440b-9587-9cdce789737a",
   "metadata": {},
   "source": [
    "At the sample or a detector we would only see this for a particular `Ltotal`:"
   ]
  },
  {
   "cell_type": "code",
   "execution_count": null,
   "id": "d2b79068-d76b-4d91-af40-49962e1f4703",
   "metadata": {},
   "outputs": [],
   "source": [
    "unwrapped['Ltotal', -1].plot()"
   ]
  },
  {
   "attachments": {},
   "cell_type": "markdown",
   "id": "c492b24b-1c66-4f8b-a8d5-f8c9fa2563ac",
   "metadata": {},
   "source": [
    "### Failure cases \n",
    "\n",
    "At this point it is worth studying some failure cases that we may observe when incorrect parameters are given to `unwrap_frames`.\n",
    "Note that in all cases below we show a result for the entire `Ltotal` range from 0 to the maximum.\n",
    "In practice, values will only be available at a few distances (monitors and detectors), so it will be much harder to distinguish the failure cases."
   ]
  },
  {
   "cell_type": "markdown",
   "id": "e35b7e5a-cb53-469a-b0e1-56135968ee82",
   "metadata": {},
   "source": [
    "#### Pulse stride 1 instead of 2"
   ]
  },
  {
   "cell_type": "code",
   "execution_count": null,
   "id": "ea6cba38-8154-4f75-9f62-5ede8d971858",
   "metadata": {},
   "outputs": [],
   "source": [
    "unwrap_frames(\n",
    "    raw,\n",
    "    pulse_period=pulse_period,\n",
    "    pulse_stride=1,\n",
    "    lambda_min=wavmin,\n",
    "    frame_offset=0.0 * sc.Unit('ms'),\n",
    "    first_pulse_time=0 * pulse_period,\n",
    ").hist(Ltotal=100, tof=200).plot()"
   ]
  },
  {
   "cell_type": "markdown",
   "id": "68b057a9-619d-48c7-8e3a-0b9833378b79",
   "metadata": {},
   "source": [
    "#### Pulse stride 3 instead of 2"
   ]
  },
  {
   "cell_type": "code",
   "execution_count": null,
   "id": "fcd7ae4d-7328-483f-9a03-7e8f165ae66e",
   "metadata": {},
   "outputs": [],
   "source": [
    "unwrap_frames(\n",
    "    raw,\n",
    "    pulse_period=pulse_period,\n",
    "    pulse_stride=3,\n",
    "    lambda_min=wavmin,\n",
    "    frame_offset=0.0 * sc.Unit('ms'),\n",
    "    first_pulse_time=0 * pulse_period,\n",
    ").hist(Ltotal=100, tof=200).plot()"
   ]
  },
  {
   "cell_type": "markdown",
   "id": "7793be6f-12bd-464c-b858-cccd795a6a50",
   "metadata": {},
   "source": [
    "#### First pulse off by 1"
   ]
  },
  {
   "cell_type": "code",
   "execution_count": null,
   "id": "52fba858-8fa9-495d-b1a9-bdadc516fddf",
   "metadata": {},
   "outputs": [],
   "source": [
    "unwrap_frames(\n",
    "    raw,\n",
    "    pulse_period=pulse_period,\n",
    "    pulse_stride=2,\n",
    "    lambda_min=wavmin,\n",
    "    frame_offset=0.0 * sc.Unit('ms'),\n",
    "    first_pulse_time=1 * pulse_period,\n",
    ").hist(Ltotal=100, tof=200).plot()"
   ]
  },
  {
   "cell_type": "markdown",
   "id": "a5b9e854-9a1f-4dd7-aa8a-8ef70c427e36",
   "metadata": {},
   "source": [
    "#### Wrong frame offset"
   ]
  },
  {
   "cell_type": "code",
   "execution_count": null,
   "id": "a574dee5-55ab-4d06-a615-ba7ded64d6f3",
   "metadata": {},
   "outputs": [],
   "source": [
    "unwrap_frames(\n",
    "    raw,\n",
    "    pulse_period=pulse_period,\n",
    "    pulse_stride=2,\n",
    "    lambda_min=wavmin,\n",
    "    frame_offset=10.0 * sc.Unit('ms'),\n",
    "    first_pulse_time=0 * pulse_period,\n",
    ").hist(Ltotal=100, tof=200).plot()"
   ]
  },
  {
   "cell_type": "markdown",
   "id": "18be068d-8835-4dda-8bea-f852ebe351b4",
   "metadata": {},
   "source": [
    "#### Bad minimum wavelength"
   ]
  },
  {
   "cell_type": "code",
   "execution_count": null,
   "id": "dff75d90-b83d-4044-9a38-7a3a012aecb8",
   "metadata": {},
   "outputs": [],
   "source": [
    "unwrap_frames(\n",
    "    raw,\n",
    "    pulse_period=pulse_period,\n",
    "    pulse_stride=2,\n",
    "    lambda_min=0.8 * wavmin,\n",
    "    frame_offset=0.0 * sc.Unit('ms'),\n",
    "    first_pulse_time=0 * pulse_period,\n",
    ").hist(Ltotal=100, tof=200).plot()"
   ]
  },
  {
   "cell_type": "markdown",
   "id": "b1d30352-5836-435c-8fe2-3cd57a888d8f",
   "metadata": {
    "tags": []
   },
   "source": [
    "## Wavelength-frame multiplication\n",
    "\n",
    "This is not implemented yet."
   ]
  }
 ],
 "metadata": {
  "kernelspec": {
   "display_name": "Python 3 (ipykernel)",
   "language": "python",
   "name": "python3"
  },
  "language_info": {
   "codemirror_mode": {
    "name": "ipython",
    "version": 3
   },
   "file_extension": ".py",
   "mimetype": "text/x-python",
   "name": "python",
   "nbconvert_exporter": "python",
   "pygments_lexer": "ipython3"
  }
 },
 "nbformat": 4,
 "nbformat_minor": 5
}
