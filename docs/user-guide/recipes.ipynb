{
 "cells": [
  {
   "cell_type": "markdown",
   "id": "0",
   "metadata": {},
   "source": [
    "# Recipes: How do I ...?\n",
    "\n",
    "This page contains frequently used code-snippets (\"recipes\").\n",
    "Below, `da` refers to a data array.\n",
    "The examples generally assume that data is in \"tof\" unit (time-of-flight), i.e., no unit conversion was applied yet, and that there is a \"spectrum\" dimension in addition to the \"tof\" dimension.\n",
    "Replace these by the actual dimensions as required.\n",
    "\n",
    "## General\n",
    "\n",
    "### Compute total counts per pixel"
   ]
  },
  {
   "cell_type": "code",
   "execution_count": null,
   "id": "1",
   "metadata": {},
   "outputs": [],
   "source": [
    "counts = da.sum('tof')  # for histogrammed data\n",
    "counts = da.bins.sum().sum('tof')  # for binned event data"
   ]
  },
  {
   "cell_type": "markdown",
   "id": "2",
   "metadata": {},
   "source": [
    "## Event data\n",
    "### Compute number of events"
   ]
  },
  {
   "cell_type": "code",
   "execution_count": null,
   "id": "3",
   "metadata": {},
   "outputs": [],
   "source": [
    "da.bins.size()  # events per bin (ignoring event weights and event masks)\n",
    "da.bins.size().sum()  # total events from all non-masked bins"
   ]
  },
  {
   "cell_type": "markdown",
   "id": "4",
   "metadata": {},
   "source": [
    "If the events have been normalized the event weights may differ from 1 and `bins.sum()` should be used instead of `bins.size()`.\n",
    "This also respects event masks:"
   ]
  },
  {
   "cell_type": "code",
   "execution_count": null,
   "id": "5",
   "metadata": {},
   "outputs": [],
   "source": [
    "da.bins.sum()  # effective events per bin\n",
    "da.bins.sum().sum()  # total effective events from all non-masked bins"
   ]
  },
  {
   "cell_type": "markdown",
   "id": "6",
   "metadata": {},
   "source": [
    "### Mask a time-of-flight region such as a prompt-pulse"
   ]
  },
  {
   "cell_type": "code",
   "execution_count": null,
   "id": "7",
   "metadata": {},
   "outputs": [],
   "source": [
    "tof = sc.array(dims=['tof'], unit='ms', values=[tof_min, mask_start, mask_end, tof_max])\n",
    "da = da.bin(tof=tof)  # bin in 'tof', updating prior 'tof' binning if present\n",
    "da.masks['prompt_pulse'] = (tof >= tof['tof', 1]) & (tof < tof['tof', 2])"
   ]
  },
  {
   "cell_type": "markdown",
   "id": "8",
   "metadata": {},
   "source": [
    "## Plotting"
   ]
  },
  {
   "cell_type": "markdown",
   "id": "9",
   "metadata": {},
   "source": [
    "### Plot a single spectrum"
   ]
  },
  {
   "cell_type": "code",
   "execution_count": null,
   "id": "10",
   "metadata": {},
   "outputs": [],
   "source": [
    "da['spectrum', index].plot()  # plot spectrum with given index\n",
    "# plot spectrum with given spectrum-number, provided da.coords['spectrum'] exists\n",
    "da['spectrum', sc.scalar(spectrum_number)].plot()"
   ]
  },
  {
   "cell_type": "markdown",
   "id": "11",
   "metadata": {},
   "source": [
    "### Plot comparison of multiple spectra"
   ]
  },
  {
   "cell_type": "code",
   "execution_count": null,
   "id": "12",
   "metadata": {},
   "outputs": [],
   "source": [
    "spectra = {}\n",
    "spectra['name1'] = da1['spectrum', index1]\n",
    "spectra['name2'] = da1['spectrum', index2]\n",
    "spectra['name3'] = da2['spectrum', index3]\n",
    "sc.plot(spectra)"
   ]
  }
 ],
 "metadata": {
  "kernelspec": {
   "display_name": "Python 3 (ipykernel)",
   "language": "python",
   "name": "python3"
  },
  "language_info": {
   "codemirror_mode": {
    "name": "ipython",
    "version": 3
   },
   "file_extension": ".py",
   "mimetype": "text/x-python",
   "name": "python",
   "nbconvert_exporter": "python",
   "pygments_lexer": "ipython3",
   "version": "3.8.17"
  },
  "nbsphinx": {
   "execute": "never"
  }
 },
 "nbformat": 4,
 "nbformat_minor": 5
}
