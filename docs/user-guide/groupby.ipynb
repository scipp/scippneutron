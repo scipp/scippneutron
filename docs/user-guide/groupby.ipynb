{
 "cells": [
  {
   "cell_type": "markdown",
   "metadata": {},
   "source": [
    "# GroupBy\n",
    "\n",
    "\"Group by\" operations refers to an implementation of the \"split-apply-combine\" approach known from [pandas](https://pandas.pydata.org/pandas-docs/stable/user_guide/groupby.html) and [xarray](http://xarray.pydata.org/en/stable/groupby.html).\n",
    "We currently support only a limited number of operations that can be applied.\n",
    "\n",
    "## Grouping with bins\n",
    "\n",
    "Note that this notebook requires [Mantid](https://www.mantidproject.org/Main_Page).\n",
    "A [binder](https://mybinder.org/v2/gh/scipp/scipp-neutron-jupyter-demo/main) is available that can run this notebook.\n"
   ]
  },
  {
   "cell_type": "code",
   "execution_count": null,
   "metadata": {},
   "outputs": [],
   "source": [
    "import numpy as np\n",
    "import scipp as sc\n",
    "import scippneutron as scn"
   ]
  },
  {
   "cell_type": "code",
   "execution_count": null,
   "metadata": {},
   "outputs": [],
   "source": [
    "# Load event data. Here, we use `get_path` to find a data file that comes bundled\n",
    "# with scippneutron. Normally, we would simply pass a file path to `scn.load`.\n",
    "events = scn.load(scn.data.get_path('PG3_4844_event.nxs'), load_pulse_times=False)"
   ]
  },
  {
   "cell_type": "markdown",
   "metadata": {},
   "source": [
    "### Example 1 (dense data): split-sum-combine\n",
    "\n",
    "We histogram the event data:"
   ]
  },
  {
   "cell_type": "code",
   "execution_count": null,
   "metadata": {},
   "outputs": [],
   "source": [
    "pos_hist = events.hist(tof=400)"
   ]
  },
  {
   "cell_type": "markdown",
   "metadata": {},
   "source": [
    "A plot shows the shortcoming of the data representation.\n",
    "There is no physical meaning attached to the \"spectrum\" dimension and the plot is hard to interpret:"
   ]
  },
  {
   "cell_type": "code",
   "execution_count": null,
   "metadata": {},
   "outputs": [],
   "source": [
    "pos_hist.hist(spectrum=500).transpose().plot()"
   ]
  },
  {
   "cell_type": "markdown",
   "metadata": {},
   "source": [
    "To improve the plot, we first store the scattering angle as labels in the data array.\n",
    "Then we create a variable containing the desired target binning:"
   ]
  },
  {
   "cell_type": "code",
   "execution_count": null,
   "metadata": {},
   "outputs": [],
   "source": [
    "pos_hist.coords['two_theta'] = scn.two_theta(pos_hist)\n",
    "two_theta = sc.linspace(dim='two_theta', unit='rad', start=0.0, stop=np.pi, num=501)"
   ]
  },
  {
   "cell_type": "markdown",
   "metadata": {},
   "source": [
    "We use `scipp.groupby` with the desired bins and apply a `sum` over dimension `spectrum`:"
   ]
  },
  {
   "cell_type": "code",
   "execution_count": null,
   "metadata": {},
   "outputs": [],
   "source": [
    "theta_hist = pos_hist.groupby('two_theta', bins=two_theta).sum('spectrum')"
   ]
  },
  {
   "cell_type": "markdown",
   "metadata": {},
   "source": [
    "The result has `spectrum` replaced by the physically meaningful `two_theta` dimension and the resulting plot is easily interpretable:"
   ]
  },
  {
   "cell_type": "code",
   "execution_count": null,
   "metadata": {},
   "outputs": [],
   "source": [
    "theta_hist.plot()"
   ]
  },
  {
   "cell_type": "markdown",
   "metadata": {},
   "source": [
    "### Example 2 (event data): split-flatten-combine\n",
    "\n",
    "This is essentially the same as example 1 but avoids histogramming data too early.\n",
    "A plot of the original data is hard to interpret:"
   ]
  },
  {
   "cell_type": "code",
   "execution_count": null,
   "metadata": {},
   "outputs": [],
   "source": [
    "events.hist(spectrum=500, tof=400).plot()"
   ]
  },
  {
   "cell_type": "markdown",
   "metadata": {},
   "source": [
    "Again, we improve the plot by first storing the scattering angle as labels in the data array with the events.\n",
    "Then we create a variable containing the desired target binning:"
   ]
  },
  {
   "cell_type": "code",
   "execution_count": null,
   "metadata": {},
   "outputs": [],
   "source": [
    "events.coords['two_theta'] = scn.two_theta(events)\n",
    "two_theta = sc.linspace(dim='two_theta', unit='rad', start=0.0, stop=np.pi, num=501)"
   ]
  },
  {
   "cell_type": "markdown",
   "metadata": {},
   "source": [
    "We use `scipp.groupby` with the desired bins and apply a concatenation operation on dimension `spectrum`.\n",
    "This is the event-data equivalent to summing histograms:"
   ]
  },
  {
   "cell_type": "code",
   "execution_count": null,
   "metadata": {},
   "outputs": [],
   "source": [
    "theta_events = events.groupby('two_theta', bins=two_theta).concat('spectrum')"
   ]
  },
  {
   "cell_type": "markdown",
   "metadata": {},
   "source": [
    "The result has dimension `spectrum` replaced by the physically meaningful `two_theta` and results in the same plot as before with histogrammed data."
   ]
  },
  {
   "cell_type": "code",
   "execution_count": null,
   "metadata": {
    "tags": []
   },
   "outputs": [],
   "source": [
    "theta_events.hist(tof=400).plot()"
   ]
  }
 ],
 "metadata": {
  "kernelspec": {
   "display_name": "Python 3 (ipykernel)",
   "language": "python",
   "name": "python3"
  },
  "language_info": {
   "codemirror_mode": {
    "name": "ipython",
    "version": 3
   },
   "file_extension": ".py",
   "mimetype": "text/x-python",
   "name": "python",
   "nbconvert_exporter": "python",
   "pygments_lexer": "ipython3"
  }
 },
 "nbformat": 4,
 "nbformat_minor": 4
}
