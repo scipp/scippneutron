{
 "cells": [
  {
   "cell_type": "markdown",
   "metadata": {},
   "source": [
    "# From Mantid to Scipp\n",
    "## Data types\n",
    "### Workspaces\n",
    "\n",
    "| Mantid | Scipp |\n",
    "| ---| --- |\n",
    "| `Workspace2D` | `DataArray` |\n",
    "| `EventWorkspace` | `DataArray` |\n",
    "| `WorkspaceSingleValue` | `DataArray` |\n",
    "| `MDHistoWorkspace` | `DataArray` |\n",
    "| `MDEventWorkspace` | `DataArray` |\n",
    "| `TableWorkspace` | `Dataset` |\n",
    "| `WorkspaceGroup` | `Dataset` (aligned dimensions), otherwise Python `list` or `dict` |\n",
    "\n",
    "#### Notes\n",
    "- In many cases it may be desirable to use `Dataset` instead of `DataArray`.\n",
    "  You can easily create a `Dataset` directly from a `DataArray`.\n",
    "- Scipp takes basic geometric information from Mantid's instrument in the form of positions.\n",
    "  Detector grouping by spectrum is respected. Upon conversion, Scipp will perform spherical coordinate averaging for the group based on the beam direction, this preserves the average scattering angle between a group of detectors and the spectra representing the group.\n",
    "  This may yield slightly different detector and spectrum positions between what is natively stored in Mantid's instrument and Scipp.\n",
    "- Run and Sample are copied over to scipp from any MatrixWorkspace derived Workspaces.\n",
    "- Scipp (or rather conversion to scipp) is currently still incomplete and does not carry over all information from a workspace.\n",
    "\n",
    "### Other\n",
    "\n",
    "| Mantid | Scipp |\n",
    "| ---| --- |\n",
    "| `DetectorInfo` | `Dataset` |\n",
    "\n",
    "## Concepts\n",
    "\n",
    "Mantid's `MatrixWorkspace` (the common base class of `Workspace2D` and `EventWorkspace`) uses the terms \"X\", \"Y\", and \"E\" to refer to one of its axes, the data values, and the uncertainties.\n",
    "\n",
    "- Mantid stores **standard-deviations** in \"E\", whereas scipp stores **variances**.\n",
    "- Typically Mantid's \"X\" is the coordinate axis for the time-of-flight dimension, or the dimension derived from it.\n",
    "- Mantid's \"Y\" is not the axis for the second dimension, but the **data**.\n",
    "- Mantid's \"X\", \"Y\", and \"E\" are 1-D arrays of 1-D arrays, whereas scipp stores 2-D (or higher) arrays, if applicable.\n",
    "\n",
    "We have the following \"equivalence\":\n",
    "\n",
    "| Mantid | Scipp | comment |\n",
    "| ---| --- | --- |\n",
    "| `ws.readY(i)` | `data.values` |\n",
    "| `ws.readE(i)` | `data.variances` | square former, or `sqrt` latter |\n",
    "| `ws.readX(i)` | `data.coords['tof'].values` | dimension label may vary |\n",
    "| `ws.getAxis(0).getUnit()` | `data.coords['tof'].unit` | dimension label may vary |\n",
    "| `ws.getAxis(1)` | `data.coords['spectrum']` | dimension label may vary |\n",
    "\n",
    "Here `i` is the index along the second axis (axis index `1`).\n",
    "Mantid's `readX`, `readY`, and `readE` always return 1-D arrays, whereas the `values` and `variances` properties in scipp return a multi-dimensional array.\n",
    "That is, there is no actual equivalence.\n",
    "\n",
    "\n",
    "## Algorithms\n",
    "\n",
    "### Notes\n",
    "- In **Mantid** a Python variable referencing **a workspace is** under the hood **a global variable**.\n",
    "  Unless specified otherwise the variable name is the name of the workspace in the [AnalysisDataService](https://docs.mantidproject.org/nightly/concepts/AnalysisDataService.html).\n",
    "  For marginally more clarity, the examples in the following therefore use the string-based syntax for specifying output workspaces.\n",
    "  *In scipp there is no such limitation and everything behaves just like normal variables in Python.*\n",
    "- Unless stated otherwise, the following code examples assume datasets or data arrays have `'tof'` for what Mantid calls \"X\" and `'spectrum'` why Mantid calls \"Y\" or \"spectrum axis\".\n",
    "- There is no strict 1:1 equivalence between Mantid workspaces and functionality in scipp.\n",
    "  The examples below give the most common examples, but in many cases exceptions apply and detailed behavior may differ.\n",
    "  If in doubt, consult the Mantid algorithm documentation and the scipp documentation."
   ]
  },
  {
   "cell_type": "code",
   "execution_count": null,
   "metadata": {},
   "outputs": [],
   "source": [
    "import mantid.simpleapi as mantid\n",
    "import scipp as sc\n",
    "import scippneutron as scn\n",
    "import numpy as np"
   ]
  },
  {
   "cell_type": "markdown",
   "metadata": {},
   "source": [
    "### Test Data"
   ]
  },
  {
   "cell_type": "code",
   "execution_count": null,
   "metadata": {},
   "outputs": [],
   "source": [
    "input_bin_edges = mantid.CreateSampleWorkspace()\n",
    "input_point_data = mantid.ConvertToPointData(input_bin_edges)\n",
    "a_mantid = mantid.ExtractSpectra(input_point_data, StartWorkspaceIndex=0, EndWorkspaceIndex=10)\n",
    "b_mantid = mantid.ExtractSpectra(input_point_data, StartWorkspaceIndex=10, EndWorkspaceIndex=20)\n",
    "a_scipp = scn.from_mantid(a_mantid)\n",
    "b_scipp = scn.from_mantid(b_mantid)"
   ]
  },
  {
   "cell_type": "markdown",
   "metadata": {},
   "source": [
    "### Generic algorithms"
   ]
  },
  {
   "cell_type": "markdown",
   "metadata": {},
   "source": [
    "#### CloneWorkspace"
   ]
  },
  {
   "cell_type": "code",
   "execution_count": null,
   "metadata": {},
   "outputs": [],
   "source": [
    "cloned = mantid.CloneWorkspace(InputWorkspace=input_point_data, OutputWorkspace='copy')\n",
    "cloned"
   ]
  },
  {
   "cell_type": "markdown",
   "metadata": {},
   "source": [
    "Equivalent in scipp:"
   ]
  },
  {
   "cell_type": "code",
   "execution_count": null,
   "metadata": {},
   "outputs": [],
   "source": [
    "copy = a_scipp.copy()\n",
    "copy"
   ]
  },
  {
   "cell_type": "markdown",
   "metadata": {},
   "source": [
    "#### DeleteWorkspace"
   ]
  },
  {
   "cell_type": "code",
   "execution_count": null,
   "metadata": {},
   "outputs": [],
   "source": [
    "mantid.DeleteWorkspace(Workspace=cloned)"
   ]
  },
  {
   "cell_type": "markdown",
   "metadata": {},
   "source": [
    "Equivalent in scipp:"
   ]
  },
  {
   "cell_type": "code",
   "execution_count": null,
   "metadata": {},
   "outputs": [],
   "source": [
    "del copy"
   ]
  },
  {
   "cell_type": "markdown",
   "metadata": {},
   "source": [
    "#### ExtractSingleSpectrum"
   ]
  },
  {
   "cell_type": "code",
   "execution_count": null,
   "metadata": {},
   "outputs": [],
   "source": [
    "spec = mantid.ExtractSingleSpectrum(\n",
    "    InputWorkspace=input_point_data,\n",
    "    OutputWorkspace='spec',\n",
    "    WorkspaceIndex=7)"
   ]
  },
  {
   "cell_type": "markdown",
   "metadata": {},
   "source": [
    "Equivalent in scipp:"
   ]
  },
  {
   "cell_type": "code",
   "execution_count": null,
   "metadata": {},
   "outputs": [],
   "source": [
    "spec = a_scipp['spectrum', 7]"
   ]
  },
  {
   "cell_type": "markdown",
   "metadata": {},
   "source": [
    "If an actual *copy* is required use:"
   ]
  },
  {
   "cell_type": "code",
   "execution_count": null,
   "metadata": {},
   "outputs": [],
   "source": [
    "spec = a_scipp['spectrum', 7].copy()"
   ]
  },
  {
   "cell_type": "markdown",
   "metadata": {},
   "source": [
    "#### ExtractSpectra / CropWorkspace"
   ]
  },
  {
   "cell_type": "code",
   "execution_count": null,
   "metadata": {},
   "outputs": [],
   "source": [
    "mantid.ExtractSpectra(\n",
    "    InputWorkspace=input_point_data,\n",
    "    OutputWorkspace='spectra',\n",
    "    StartWorkspaceIndex=1,\n",
    "    EndWorkspaceIndex=4)"
   ]
  },
  {
   "cell_type": "markdown",
   "metadata": {},
   "source": [
    "Equivalent in scipp:"
   ]
  },
  {
   "cell_type": "code",
   "execution_count": null,
   "metadata": {},
   "outputs": [],
   "source": [
    "a_scipp['spectrum', 1:5]"
   ]
  },
  {
   "cell_type": "markdown",
   "metadata": {},
   "source": [
    "If an actual *copy* is required use:"
   ]
  },
  {
   "cell_type": "code",
   "execution_count": null,
   "metadata": {},
   "outputs": [],
   "source": [
    "spectra = a_scipp['spectrum', 1:5].copy()"
   ]
  },
  {
   "cell_type": "markdown",
   "metadata": {},
   "source": [
    "#### Transpose"
   ]
  },
  {
   "cell_type": "code",
   "execution_count": null,
   "metadata": {},
   "outputs": [],
   "source": [
    "mantid.Transpose(InputWorkspace=input_point_data, OutputWorkspace='data')"
   ]
  },
  {
   "cell_type": "markdown",
   "metadata": {},
   "source": [
    "Equivalent in scipp:\n",
    "Transposing is *implicit* and automatic based on dimension labels and not required for any of the common operations, including plotting."
   ]
  },
  {
   "cell_type": "markdown",
   "metadata": {},
   "source": [
    "#### AppendSpectra"
   ]
  },
  {
   "cell_type": "code",
   "execution_count": null,
   "metadata": {},
   "outputs": [],
   "source": [
    "mantid.AppendSpectra(\n",
    "    InputWorkspace1=a_mantid,\n",
    "    InputWorkspace2=b_mantid, OutputWorkspace='combined')"
   ]
  },
  {
   "cell_type": "markdown",
   "metadata": {},
   "source": [
    "Equivalent in scipp:"
   ]
  },
  {
   "cell_type": "code",
   "execution_count": null,
   "metadata": {},
   "outputs": [],
   "source": [
    "data = sc.concat([a_scipp, b_scipp], 'spectrum')"
   ]
  },
  {
   "cell_type": "markdown",
   "metadata": {},
   "source": [
    "#### ConjoinXRuns"
   ]
  },
  {
   "cell_type": "code",
   "execution_count": null,
   "metadata": {},
   "outputs": [],
   "source": [
    "mantid.ConjoinXRuns(\n",
    "    InputWorkspaces=['a_mantid','b_mantid'],\n",
    "    OutputWorkspace='data')"
   ]
  },
  {
   "cell_type": "markdown",
   "metadata": {},
   "source": [
    "Equivalent in scipp:"
   ]
  },
  {
   "cell_type": "code",
   "execution_count": null,
   "metadata": {},
   "outputs": [],
   "source": [
    "sc.concat([a_scipp, b_scipp], 'tof')"
   ]
  },
  {
   "cell_type": "markdown",
   "metadata": {},
   "source": [
    "#### ConjoinSpectra"
   ]
  },
  {
   "cell_type": "code",
   "execution_count": null,
   "metadata": {},
   "outputs": [],
   "source": [
    "mantid.ConjoinSpectra(\n",
    "    InputWorkspaces='a_mantid, b_mantid',\n",
    "    OutputWorkspace='out',\n",
    "    WorkspaceIndex=7)"
   ]
  },
  {
   "cell_type": "markdown",
   "metadata": {},
   "source": [
    "Equivalent in scipp:"
   ]
  },
  {
   "cell_type": "code",
   "execution_count": null,
   "metadata": {},
   "outputs": [],
   "source": [
    "sc.concat([a_scipp, b_scipp], 'spectra')['spectrum', 7]"
   ]
  },
  {
   "cell_type": "markdown",
   "metadata": {},
   "source": [
    "Or more efficiently"
   ]
  },
  {
   "cell_type": "code",
   "execution_count": null,
   "metadata": {},
   "outputs": [],
   "source": [
    "sc.concat([a_scipp['spectrum', 7], b_scipp['spectrum', 7]], 'spectrum')"
   ]
  },
  {
   "cell_type": "markdown",
   "metadata": {},
   "source": [
    "#### GroupWorkspaces"
   ]
  },
  {
   "cell_type": "code",
   "execution_count": null,
   "metadata": {},
   "outputs": [],
   "source": [
    "mantid.GroupWorkspaces(\n",
    "    InputWorkspaces='a_mantid, b_mantid',\n",
    "    OutputWorkspace='data')"
   ]
  },
  {
   "cell_type": "markdown",
   "metadata": {},
   "source": [
    "Equivalent in scipp:"
   ]
  },
  {
   "cell_type": "code",
   "execution_count": null,
   "metadata": {},
   "outputs": [],
   "source": [
    "sc.Dataset(data={\n",
    "    'data1':a_scipp,\n",
    "    'data2':a_scipp.copy()})"
   ]
  },
  {
   "cell_type": "markdown",
   "metadata": {},
   "source": [
    "This requires aligned dimensions (matching coordinates) in all input arrays. \n",
    "It is a more powerful concept than that provided by WorkspaceGroups, but restricted. \n",
    "Slicing for example can be applied to the whole dataset and items are handled accordingly. \n",
    "For a loose collection of objects, more similar to the WorkspaceGroup concept, \n",
    "use a Python `dict` or `list` for grouping unaligned data."
   ]
  },
  {
   "cell_type": "markdown",
   "metadata": {},
   "source": [
    "#### Rebin  `Workspace2D` into `Workspace2D`"
   ]
  },
  {
   "cell_type": "code",
   "execution_count": null,
   "metadata": {},
   "outputs": [],
   "source": [
    "mantid.Rebin(\n",
    "    InputWorkspace=input_point_data,\n",
    "    OutputWorkspace='histo',\n",
    "    Params='0,100,20000')"
   ]
  },
  {
   "cell_type": "markdown",
   "metadata": {},
   "source": [
    "Equivalent in scipp:"
   ]
  },
  {
   "cell_type": "code",
   "execution_count": null,
   "metadata": {},
   "outputs": [],
   "source": [
    "edges = sc.arange(dim='tof', unit='us', start=0.0, stop=20000.0, step=100.0)\n",
    "data = scn.from_mantid(input_bin_edges)\n",
    "sc.rebin(data, tof=edges)"
   ]
  },
  {
   "cell_type": "markdown",
   "metadata": {},
   "source": [
    "#### Rebin  `EventWorkspace` preserving events"
   ]
  },
  {
   "cell_type": "code",
   "execution_count": null,
   "metadata": {},
   "outputs": [],
   "source": [
    "event_workspace = mantid.CreateSampleWorkspace(WorkspaceType='Event')\n",
    "\n",
    "mantid.Rebin(\n",
    "    InputWorkspace=event_workspace,\n",
    "    OutputWorkspace='rebinned_events',\n",
    "    Params='0,100,20000',\n",
    "    PreserveEvents=True)"
   ]
  },
  {
   "cell_type": "markdown",
   "metadata": {},
   "source": [
    "Equivalent in scipp:"
   ]
  },
  {
   "cell_type": "code",
   "execution_count": null,
   "metadata": {},
   "outputs": [],
   "source": [
    "events = scn.from_mantid(event_workspace)\n",
    "tof_edges = sc.arange(dim='tof', unit='us', start=0.0, stop=20000.0, step=100.0)\n",
    "events.bin(tof=tof_edges)"
   ]
  },
  {
   "cell_type": "markdown",
   "metadata": {},
   "source": [
    "Or providing a bin size:"
   ]
  },
  {
   "cell_type": "code",
   "execution_count": null,
   "metadata": {},
   "outputs": [],
   "source": [
    "events = scn.from_mantid(event_workspace)\n",
    "events.bin(tof=100.0 * sc.Unit('us'))"
   ]
  },
  {
   "cell_type": "markdown",
   "metadata": {},
   "source": [
    "Or providing a bin count"
   ]
  },
  {
   "cell_type": "code",
   "execution_count": null,
   "metadata": {
    "tags": []
   },
   "outputs": [],
   "source": [
    "events = scn.from_mantid(event_workspace)\n",
    "events.bin(tof=201)"
   ]
  },
  {
   "cell_type": "markdown",
   "metadata": {},
   "source": [
    "#### Rebin  `EventWorkspace` into `Workspace2D`"
   ]
  },
  {
   "cell_type": "code",
   "execution_count": null,
   "metadata": {},
   "outputs": [],
   "source": [
    "mantid.Rebin(\n",
    "    InputWorkspace=event_workspace,\n",
    "    OutputWorkspace='histo',\n",
    "    Params=[0,100,20000],\n",
    "    PreserveEvents=False)"
   ]
  },
  {
   "cell_type": "markdown",
   "metadata": {},
   "source": [
    "Equivalent in scipp:"
   ]
  },
  {
   "cell_type": "code",
   "execution_count": null,
   "metadata": {},
   "outputs": [],
   "source": [
    "tof_edges = sc.arange(dim='tof', unit='us', start=0.0, stop=20000.0, step=100.0)\n",
    "events.hist(tof=tof_edges)"
   ]
  },
  {
   "cell_type": "markdown",
   "metadata": {},
   "source": [
    "#### Rebin with logarithmic bins"
   ]
  },
  {
   "cell_type": "code",
   "execution_count": null,
   "metadata": {},
   "outputs": [],
   "source": [
    "mantid.Rebin(\n",
    "    InputWorkspace=event_workspace,\n",
    "    OutputWorkspace='histo',\n",
    "    Params='2,-0.035,10')"
   ]
  },
  {
   "cell_type": "markdown",
   "metadata": {},
   "source": [
    "Equivalent in scipp:"
   ]
  },
  {
   "cell_type": "code",
   "execution_count": null,
   "metadata": {},
   "outputs": [],
   "source": [
    "edges = sc.geomspace(dim='tof', unit='us', start=2, stop=10, num=100)\n",
    "events.bin(tof=edges)"
   ]
  },
  {
   "cell_type": "markdown",
   "metadata": {},
   "source": [
    "Bin edges in scipp can be created from an arbitrary array with increasing values, the use of `numpy.geomspace` is simply one example for generating bins spaced evenly on a log scale."
   ]
  },
  {
   "cell_type": "markdown",
   "metadata": {},
   "source": [
    "<div class=\"alert alert-info\">\n",
    "\n",
    "**Note**\n",
    "\n",
    "Both scipp and Mantid support binary and in-place operations such as + and +=.\n",
    "Mantid's binary operations call underlying algorithms as part of their implementation.\n",
    "This makes it difficult to change some default behaviour, for example if you want to prevent output workspaces from being registered in Mantid's Analysis Data Service.\n",
    "\n",
    "</div>"
   ]
  },
  {
   "cell_type": "markdown",
   "metadata": {},
   "source": [
    "#### Scale (multiplication)"
   ]
  },
  {
   "cell_type": "code",
   "execution_count": null,
   "metadata": {},
   "outputs": [],
   "source": [
    "mantid.Scale(\n",
    "    InputWorkspace=input_point_data,\n",
    "    OutputWorkspace=input_point_data, \n",
    "    Factor=7.5,\n",
    "    Operation=\"Multiply\")"
   ]
  },
  {
   "cell_type": "markdown",
   "metadata": {},
   "source": [
    "Equivalent in scipp:"
   ]
  },
  {
   "cell_type": "code",
   "execution_count": null,
   "metadata": {},
   "outputs": [],
   "source": [
    "a_scipp *= 7.5\n",
    "a_scipp"
   ]
  },
  {
   "cell_type": "markdown",
   "metadata": {},
   "source": [
    "#### Scale (addition)"
   ]
  },
  {
   "cell_type": "code",
   "execution_count": null,
   "metadata": {},
   "outputs": [],
   "source": [
    "mantid.Scale(\n",
    "    InputWorkspace=input_point_data,\n",
    "    OutputWorkspace='summed', \n",
    "    Factor=7.5,\n",
    "    Operation=\"Add\")"
   ]
  },
  {
   "cell_type": "markdown",
   "metadata": {},
   "source": [
    "Equivalent in scipp:"
   ]
  },
  {
   "cell_type": "code",
   "execution_count": null,
   "metadata": {},
   "outputs": [],
   "source": [
    "a_scipp += 7.5 * sc.units.counts\n",
    "a_scipp"
   ]
  },
  {
   "cell_type": "markdown",
   "metadata": {},
   "source": [
    "If the data is not dimensionless, the correct unit must be specified:"
   ]
  },
  {
   "cell_type": "code",
   "execution_count": null,
   "metadata": {},
   "outputs": [],
   "source": [
    "a_scipp.data.unit = sc.units.us\n",
    "try:\n",
    "    a_scipp += 7.5\n",
    "except RuntimeError as err:\n",
    "    print(str(err))\n",
    "a_scipp += 7.5 * sc.units.us # This is fine now RHS has units"
   ]
  },
  {
   "cell_type": "markdown",
   "metadata": {},
   "source": [
    "Mantid does not have this safety net."
   ]
  },
  {
   "cell_type": "markdown",
   "metadata": {},
   "source": [
    "#### ScaleX"
   ]
  },
  {
   "cell_type": "code",
   "execution_count": null,
   "metadata": {},
   "outputs": [],
   "source": [
    "mantid.ScaleX(\n",
    "    InputWorkspace=input_point_data,\n",
    "    OutputWorkspace='output', \n",
    "    Factor=7.5,\n",
    "    Operation=\"Multiply\")"
   ]
  },
  {
   "cell_type": "markdown",
   "metadata": {},
   "source": [
    "Equivalent in scipp:"
   ]
  },
  {
   "cell_type": "code",
   "execution_count": null,
   "metadata": {},
   "outputs": [],
   "source": [
    "data.coords['tof'] *= 7.5"
   ]
  },
  {
   "cell_type": "markdown",
   "metadata": {},
   "source": [
    "#### SumSpectra"
   ]
  },
  {
   "cell_type": "code",
   "execution_count": null,
   "metadata": {},
   "outputs": [],
   "source": [
    "mantid.SumSpectra(\n",
    "    InputWorkspace=input_point_data,\n",
    "    OutputWorkspace='summed',\n",
    "    StartWorkspaceIndex=7,\n",
    "    EndWorkspaceIndex=88)"
   ]
  },
  {
   "cell_type": "markdown",
   "metadata": {},
   "source": [
    "Equivalent in scipp:"
   ]
  },
  {
   "cell_type": "code",
   "execution_count": null,
   "metadata": {},
   "outputs": [],
   "source": [
    "sc.sum(a_scipp['spectrum', 7:89], 'spectrum')"
   ]
  },
  {
   "cell_type": "markdown",
   "metadata": {},
   "source": [
    "### Neutron-scattering specific algorithms\n",
    "#### ConvertUnits"
   ]
  },
  {
   "cell_type": "code",
   "execution_count": null,
   "metadata": {},
   "outputs": [],
   "source": [
    "mantid.ConvertUnits(InputWorkspace=input_point_data, OutputWorkspace='dspacing', Target='dSpacing')"
   ]
  },
  {
   "cell_type": "markdown",
   "metadata": {},
   "source": [
    "Equivalent in scipp:"
   ]
  },
  {
   "cell_type": "code",
   "execution_count": null,
   "metadata": {},
   "outputs": [],
   "source": [
    "scn.convert(a_scipp, 'tof', 'dspacing', scatter=True)"
   ]
  },
  {
   "cell_type": "markdown",
   "metadata": {},
   "source": [
    "<div class=\"alert alert-info\">\n",
    "\n",
    "**Note**\n",
    "    \n",
    "scipp has no equivalent to the `EMode` and `EFixed` settings of `ConvertUnits`.\n",
    "Instead, this information is read from the input data, if available (note that currently only elastic scattering is supported).\n",
    "    \n",
    "</div>"
   ]
  },
  {
   "cell_type": "markdown",
   "metadata": {},
   "source": [
    "<div class=\"alert alert-info\">\n",
    "\n",
    "**Note**\n",
    "\n",
    "The `scippneutron` module also provides a `to_mantid` function, which has limited support for converting scipp data to Mantid workspaces.\n",
    "Because scipp offers a more flexible container than a Workspace, in particular MatrixWorkspace, it is not always possible to exactly convert all information to Mantid workspaces.\n",
    "\n",
    "</div>"
   ]
  }
 ],
 "metadata": {
  "kernelspec": {
   "display_name": "Python 3 (ipykernel)",
   "language": "python",
   "name": "python3"
  },
  "language_info": {
   "codemirror_mode": {
    "name": "ipython",
    "version": 3
   },
   "file_extension": ".py",
   "mimetype": "text/x-python",
   "name": "python",
   "nbconvert_exporter": "python",
   "pygments_lexer": "ipython3"
  }
 },
 "nbformat": 4,
 "nbformat_minor": 4
}
