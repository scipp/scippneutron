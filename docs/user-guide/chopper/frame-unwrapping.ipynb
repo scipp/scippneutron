{
 "cells": [
  {
   "attachments": {},
   "cell_type": "markdown",
   "id": "0",
   "metadata": {},
   "source": [
    "# Frame Unwrapping\n",
    "\n",
    "## Context\n",
    "\n",
    "At time-of-flight neutron sources recording event-mode, time-stamps of detected neutrons are written to files in an `NXevent_data` group.\n",
    "This contains two main time components, `event_time_zero` and `event_time_offset`.\n",
    "The sum of the two would typically yield the absolute detection time of the neutron.\n",
    "For computation of wavelengths or energies during data-reduction, a time-of-flight is required.\n",
    "In principle the time-of-flight could be equivalent to `event_time_offset`, and the emission time of the neutron to `event_time_zero`.\n",
    "Since an actual computation of time-of-flight would require knowledge about chopper settings, detector positions, and whether the scattering of the sample is elastic or inelastic, this may however not be the case in practice.\n",
    "Instead, the data acquisition system may, e.g., record the time at which the proton pulse hits the target as `event_time_zero`, with `event_time_offset` representing the offset since then.\n",
    "\n",
    "We refer to the process of \"unwrapping\" these time stamps into an actual time-of-flight as *frame unwrapping*, since `event_time_offset` \"wraps around\" with the period of the proton pulse and neutrons created by different proton pulses may be recorded with the *same* `event_time_zero`.\n",
    "The figures in the remainder of this document will clarify this."
   ]
  },
  {
   "cell_type": "markdown",
   "id": "1",
   "metadata": {},
   "source": [
    "## Default mode"
   ]
  },
  {
   "cell_type": "markdown",
   "id": "2",
   "metadata": {},
   "source": [
    "Often there is a 1:1 correspondence between source pulses and neutron pulses propagated to the sample and detectors."
   ]
  },
  {
   "cell_type": "code",
   "execution_count": null,
   "id": "3",
   "metadata": {},
   "outputs": [],
   "source": [
    "from frameunwrapping import default_frame_diagram\n",
    "\n",
    "default_frame_diagram().show()"
   ]
  },
  {
   "cell_type": "markdown",
   "id": "4",
   "metadata": {},
   "source": [
    "In the figure above the index `i` labels source pulses.\n",
    "We define:\n",
    "\n",
    "- $T_0^i$ is the `event_time_zero` recorded in an `NXevent_data` group.\n",
    "  These times are indicated by the vertical dotted lines.\n",
    "- $T_0^{i+1} = T_0^i + L_0$ where the frame length $L_0$ is defined by $L_0 = 1/f_0$, given a source frequency $f_0$.\n",
    "- $\\Delta T_0$ is the offset from $T_0^i$ at which the neutrons are \"emitted\".\n",
    "  This may be zero (or half the pulse length) if the full pulse length is used, but choppers such as resolution choppers may extract a section of the pulse that is not aligned with the start of the full pulse.\n",
    "  This offset can also be used to take into account a potential difference between the timing system's definition of the pulse time and the actual beginning of the neutron pulse exiting, e.g., the moderator.\n",
    "- The black solid line within the first pulse (blue) indicates a neutron detected at $T_0^{i+1} + \\Delta t$.\n",
    "  $\\Delta t$ is the `event_time_offset` in an `NXevent_data` group.\n",
    "  This value is recorded for every neutron and gives the offset from the latest (previous) `event_time_zero` ($T_0^j$), i.e., the time difference to the previous vertical dotted line.\n",
    "\n",
    "To compute the time-of-flight for a neutron, we need to identify which source pulse it originated from.\n",
    "Consider the shaded vertical band above, indicating the time during which arriving neutrons are associated with $T_0^{i+1}$.\n",
    "For, e.g., detector 1 we observe:\n",
    "\n",
    "- First (small `event_time_offset` $\\Delta t$, to the left of the dashed black line) we see the slowest neutrons from N (in this case N=2) source pulses earlier.\n",
    "- Then (larger `event_time_offset` $\\Delta t$, to the right of the dashed black line) we see the fastest neutrons from N-1 (in this case N-1=1) source pulses earlier.\n",
    "- Typically there is is an intermediate region where no neutrons should be able to traverse the chopper cascade.\n",
    "  Neutrons detected in this time interval must thus be background from other sources.\n",
    "\n",
    "To compute the time-of-flight we first add an integer multiple of the frame length to `event_time_offset` (and subtract the equivalent from `event_time_zero`).\n",
    "Within a given frame (indicated above by a band between two dotted vertical lines, such as the grey shaded band) there is a *pivot time*:\n",
    "Neutrons with `event_time_offset` *before* the pivot time originated one source frame *before* neutrons *after* the pivot time.\n",
    "As illustrated in the figure, the pivot time $t_\\text{pivot}$ depends on the detector or rather the distance of the detector (or monitor) from the scattering position.\n"
   ]
  },
  {
   "cell_type": "markdown",
   "id": "5",
   "metadata": {},
   "source": [
    "### Unwrapping \n",
    "The pivot time and the resulting offsets can be computed from the properties of the source pulse and the chopper cascade, using the [scippneutron.tof.unwrap](https://scipp.github.io/scippneutron/generated/modules/scippneutron.tof.unwrap.html) module:\n"
   ]
  },
  {
   "cell_type": "code",
   "execution_count": null,
   "id": "6",
   "metadata": {},
   "outputs": [],
   "source": [
    "import sciline as sl\n",
    "from scippneutron.tof import unwrap"
   ]
  },
  {
   "cell_type": "markdown",
   "id": "7",
   "metadata": {},
   "source": [
    "The module performs the following transformations for unwrapping the time stamps:"
   ]
  },
  {
   "cell_type": "code",
   "execution_count": null,
   "id": "8",
   "metadata": {},
   "outputs": [],
   "source": [
    "pl = sl.Pipeline(unwrap.unwrap_providers())\n",
    "pl.visualize(unwrap.UnwrappedData)"
   ]
  },
  {
   "cell_type": "markdown",
   "id": "9",
   "metadata": {},
   "source": [
    "It is currently unclear if the simple chopper-cascade model used in the current implementation is sufficient for all use-cases.\n",
    "In practice it may be that `FrameBounds` will be defined or provided differently."
   ]
  },
  {
   "cell_type": "markdown",
   "id": "10",
   "metadata": {},
   "source": [
    "### Time-of-flight computation\n",
    "\n",
    "After unwrapping, the time-of-flight can be computed by defining an origin time and a distance $L_1$.\n",
    "If we, e.g., define the start of time-of-flight at a chopper, we must also adapt the distance $L_1$ between the origin and the sample which will be used later on to compute, e.g., the wavelength or energy of the neutron.\n",
    "If defined via, e.g., a calibration, this can also be used to deal with curved guides or other non-linearities in the neutron path."
   ]
  },
  {
   "cell_type": "code",
   "execution_count": null,
   "id": "11",
   "metadata": {},
   "outputs": [],
   "source": [
    "pl = sl.Pipeline(unwrap.time_of_flight_providers())\n",
    "pl.visualize(unwrap.TofData)"
   ]
  },
  {
   "cell_type": "markdown",
   "id": "12",
   "metadata": {},
   "source": [
    "### Time-of-flight origin\n",
    "\n",
    "The origin time (used above) could be defined by a chopper, a calibration, or even set by hand.\n",
    "The module currently provides a naive definition via the chopper cascade:"
   ]
  },
  {
   "cell_type": "code",
   "execution_count": null,
   "id": "13",
   "metadata": {},
   "outputs": [],
   "source": [
    "pl = sl.Pipeline(unwrap.time_of_flight_origin_from_choppers_providers())\n",
    "pl.visualize(unwrap.TimeOfFlightOrigin)"
   ]
  },
  {
   "cell_type": "markdown",
   "id": "14",
   "metadata": {},
   "source": [
    "With WFM we have the following task graph:"
   ]
  },
  {
   "cell_type": "code",
   "execution_count": null,
   "id": "15",
   "metadata": {},
   "outputs": [],
   "source": [
    "pl = sl.Pipeline(unwrap.time_of_flight_origin_from_choppers_providers(wfm=True))\n",
    "pl.visualize(unwrap.TimeOfFlightOrigin)"
   ]
  },
  {
   "cell_type": "markdown",
   "id": "16",
   "metadata": {},
   "source": [
    "## Pulse-skipping mode\n",
    "\n",
    "Choppers may be used to skip pulses, for the purpose of a simultaneous study of a wider wavelength range.\n",
    "Conceptually this looks as follows:"
   ]
  },
  {
   "cell_type": "code",
   "execution_count": null,
   "id": "17",
   "metadata": {},
   "outputs": [],
   "source": [
    "from frameunwrapping import frame_skipping_diagram\n",
    "\n",
    "frame_skipping_diagram().show()"
   ]
  },
  {
   "cell_type": "markdown",
   "id": "18",
   "metadata": {},
   "source": [
    "The task graph that was given above for the non-pulse-skipping mode is then extended as shown below:"
   ]
  },
  {
   "cell_type": "code",
   "execution_count": null,
   "id": "19",
   "metadata": {},
   "outputs": [],
   "source": [
    "pl = sl.Pipeline(unwrap.unwrap_providers(pulse_skipping=True))\n",
    "pl.visualize(unwrap.UnwrappedData)"
   ]
  }
 ],
 "metadata": {
  "kernelspec": {
   "display_name": "Python 3 (ipykernel)",
   "language": "python",
   "name": "python3"
  },
  "language_info": {
   "codemirror_mode": {
    "name": "ipython",
    "version": 3
   },
   "file_extension": ".py",
   "mimetype": "text/x-python",
   "name": "python",
   "nbconvert_exporter": "python",
   "pygments_lexer": "ipython3",
   "version": "3.10.0"
  }
 },
 "nbformat": 4,
 "nbformat_minor": 5
}
