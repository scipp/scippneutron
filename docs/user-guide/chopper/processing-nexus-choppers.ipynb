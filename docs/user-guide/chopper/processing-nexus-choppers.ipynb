{
 "cells": [
  {
   "cell_type": "markdown",
   "id": "0",
   "metadata": {},
   "source": [
    "# Processing NeXus Choppers\n",
    "\n",
    "When choppers are loaded from NeXus, they typically contain a number of fields that need to be processed before they can be used for computing wavelength ranges, etc.\n",
    "This guide shows how to extract the relevant data from such a NeXus chopper and create a [scippneutron.chopper.DiskChopper](../../generated/modules/scippneutron.chopper.disk_chopper.DiskChopper.rst) object."
   ]
  },
  {
   "cell_type": "code",
   "execution_count": null,
   "id": "1",
   "metadata": {},
   "outputs": [],
   "source": [
    "import matplotlib.pyplot as plt\n",
    "import scipp as sc"
   ]
  },
  {
   "cell_type": "markdown",
   "id": "2",
   "metadata": {},
   "source": [
    "Here, we use fake data which roughly represents what a real chopper loaded from NeXus looks like.\n",
    "ScippNeutron has a function for generating this data:"
   ]
  },
  {
   "cell_type": "code",
   "execution_count": null,
   "id": "3",
   "metadata": {},
   "outputs": [],
   "source": [
    "from scippneutron.data import chopper_mockup\n",
    "\n",
    "chopper = chopper_mockup()\n",
    "chopper"
   ]
  },
  {
   "cell_type": "markdown",
   "id": "4",
   "metadata": {},
   "source": [
    "We can see that there is some information about the slits and geometry of the chopper as well as some timing-related data.\n",
    "Take a look at the [NXdisk_chopper](https://manual.nexusformat.org/classes/base_classes/NXdisk_chopper.html) documentation for an overview of the fields.\n",
    "\n",
    "In this case, there already is a `position`.\n",
    "This typically needs to be computed first, see [scippnexus.compute_positions](https://scipp.github.io/scippnexus/generated/functions/scippnexus.compute_positions.html).\n",
    "\n",
    "Some fields are nested data groups which happens when a NeXus file contains `NXlog`s.\n",
    "We can extract the relevant arrays from them using [extract_chopper_from_nexus](../../generated/modules/scippneutron.chopper.nexus_chopper.extract_chopper_from_nexus.rst):"
   ]
  },
  {
   "cell_type": "code",
   "execution_count": null,
   "id": "5",
   "metadata": {},
   "outputs": [],
   "source": [
    "from scippneutron.chopper import extract_chopper_from_nexus\n",
    "\n",
    "chopper = extract_chopper_from_nexus(chopper)\n",
    "chopper"
   ]
  },
  {
   "cell_type": "markdown",
   "id": "6",
   "metadata": {},
   "source": [
    "Some data varies with time, which can complicate the data processing.\n",
    "Instead, we compute corresponding time-independent quantities from the raw chopper data.\n",
    "\n",
    "## Identify In-phase Regions\n",
    "\n",
    "Frame unwrapping is only feasible when the chopper is in-phase with the neutron source pulses because, otherwise, the wavelength frames vary pulse-by-pulse.\n",
    "To identify regions where the chopper is in-phase, we first find plateaus in the `rotation_speed` which is the rotation frequency of the chopper."
   ]
  },
  {
   "cell_type": "code",
   "execution_count": null,
   "id": "7",
   "metadata": {},
   "outputs": [],
   "source": [
    "rotation_speed = chopper['rotation_speed']\n",
    "rotation_speed.name = 'rotation_speed'\n",
    "rotation_speed"
   ]
  },
  {
   "cell_type": "markdown",
   "id": "8",
   "metadata": {},
   "source": [
    "The chopper has a long region of near-constant rotation speed surrounded by spin-up and spin-down regions:"
   ]
  },
  {
   "cell_type": "code",
   "execution_count": null,
   "id": "9",
   "metadata": {},
   "outputs": [],
   "source": [
    "rotation_speed.plot(markersize=2)"
   ]
  },
  {
   "cell_type": "markdown",
   "id": "10",
   "metadata": {},
   "source": [
    "We use [find_plateaus](../../generated/modules/scippneutron.chopper.filtering.find_plateaus.rst) and [collapse_plateaus](../../generated/modules/scippneutron.chopper.filtering.collapse_plateaus.rst) to find those plateaus.\n",
    "Note the `atol` and `min_n_points` parameters, they need to be tuned for the specific input data.\n",
    "\n",
    "<div class=\"alert alert-warning\">\n",
    "\n",
    "**Warning**\n",
    "\n",
    "``find_plateaus`` can potentially falsely identify regions with a small but steady slope as a plateau.\n",
    "See the function's documentation for details.\n",
    "\n",
    "</div>"
   ]
  },
  {
   "cell_type": "code",
   "execution_count": null,
   "id": "11",
   "metadata": {},
   "outputs": [],
   "source": [
    "from scippneutron.chopper import collapse_plateaus, find_plateaus\n",
    "\n",
    "plateaus = find_plateaus(rotation_speed, atol=sc.scalar(1e-3, unit='Hz / s'), min_n_points=10)\n",
    "plateaus = collapse_plateaus(plateaus)\n",
    "plateaus"
   ]
  },
  {
   "cell_type": "markdown",
   "id": "12",
   "metadata": {},
   "source": [
    "`find_plateaus` found two plateaus that we can plot with the following helper function:"
   ]
  },
  {
   "cell_type": "code",
   "execution_count": null,
   "id": "13",
   "metadata": {},
   "outputs": [],
   "source": [
    "def plot_plateaus(raw_data: sc.DataArray, plateaus: sc.DataArray) -> None:\n",
    "    fig, ax = plt.subplots(1)\n",
    "    raw_data.plot(ax=ax, markersize=2)\n",
    "    for plateau in plateaus:\n",
    "        i = plateau.coords['plateau'].value\n",
    "        da = sc.DataArray(\n",
    "            plateau.data.broadcast(dims=['time'], shape=[2]),\n",
    "            coords={'time': plateau.coords['time']},\n",
    "            name=f'Plateau {i}')\n",
    "        da.plot(ax=ax, ls='-', marker='|', c=f'C{i + 1}')"
   ]
  },
  {
   "cell_type": "code",
   "execution_count": null,
   "id": "14",
   "metadata": {},
   "outputs": [],
   "source": [
    "plot_plateaus(rotation_speed, plateaus)"
   ]
  },
  {
   "cell_type": "markdown",
   "id": "15",
   "metadata": {},
   "source": [
    "In this case, the source has a frequency of 14Hz which means that plateau 0 is in phase.\n",
    "But plateau 1 is not, it is a short region where the chopper slowed down before fully stopping.\n",
    "\n",
    "We can use [filter_in_phase](../../generated/modules/scippneutron.chopper.filtering.filter_in_phase.rst) to remove all out-of-phase plateaus:"
   ]
  },
  {
   "cell_type": "code",
   "execution_count": null,
   "id": "16",
   "metadata": {},
   "outputs": [],
   "source": [
    "pulse_frequency = sc.scalar(14.0, unit='Hz')"
   ]
  },
  {
   "cell_type": "code",
   "execution_count": null,
   "id": "17",
   "metadata": {},
   "outputs": [],
   "source": [
    "from scippneutron.chopper import filter_in_phase\n",
    "\n",
    "frequency_in_phase = filter_in_phase(\n",
    "    plateaus,\n",
    "    reference=pulse_frequency,\n",
    "    rtol=sc.scalar(1e-3))\n",
    "frequency_in_phase"
   ]
  },
  {
   "cell_type": "code",
   "execution_count": null,
   "id": "18",
   "metadata": {},
   "outputs": [],
   "source": [
    "plot_plateaus(rotation_speed, frequency_in_phase)"
   ]
  },
  {
   "cell_type": "markdown",
   "id": "19",
   "metadata": {},
   "source": [
    "## Extract Plateau\n",
    "\n",
    "Since there is only one plateau left, we can simply index into it to get the chopper frequency:"
   ]
  },
  {
   "cell_type": "code",
   "execution_count": null,
   "id": "20",
   "metadata": {},
   "outputs": [],
   "source": [
    "frequency = frequency_in_phase['plateau', 0]\n",
    "frequency"
   ]
  },
  {
   "cell_type": "markdown",
   "id": "21",
   "metadata": {},
   "source": [
    "Next, we need the TDC timestamps for the in-phase region:"
   ]
  },
  {
   "cell_type": "code",
   "execution_count": null,
   "id": "22",
   "metadata": {},
   "outputs": [],
   "source": [
    "tdc = chopper['top_dead_center']\n",
    "tdc"
   ]
  },
  {
   "cell_type": "code",
   "execution_count": null,
   "id": "23",
   "metadata": {},
   "outputs": [],
   "source": [
    "low = frequency.coords['time'][0]\n",
    "high = frequency.coords['time'][1]\n",
    "tdc_in_phase = tdc[(tdc > low) & (tdc < high)]\n",
    "tdc_in_phase"
   ]
  },
  {
   "cell_type": "markdown",
   "id": "24",
   "metadata": {},
   "source": [
    "We can check that the rate at which the TDC triggers is indeed close to 14Hz."
   ]
  },
  {
   "cell_type": "code",
   "execution_count": null,
   "id": "25",
   "metadata": {},
   "outputs": [],
   "source": [
    "diff = tdc_in_phase[1:] - tdc_in_phase[:-1]\n",
    "rate = 1 / diff.to(unit='s', dtype='float64')\n",
    "rate.min(), rate.max()"
   ]
  },
  {
   "cell_type": "markdown",
   "id": "26",
   "metadata": {},
   "source": [
    "## Compute Chopper Phase\n",
    "\n",
    "`DiskChopper` does not use TDC directly for time calculations but instead the chopper phase $\\phi$.\n",
    "According to the [disk chopper docs](../../generated/modules/scippneutron.chopper.disk_chopper.rst), the phase is defined as\n",
    "$$\\phi = \\omega (t_0 + \\delta_t - T_0),$$\n",
    "where $t_0$ is a TDC timestamp and $T_0$ a pulse time.\n",
    "\n",
    "We already determined the TDC timestamps above.\n",
    "In practice, we would get $T_0$ from the input NeXus file, but here, we simply make one up:"
   ]
  },
  {
   "cell_type": "code",
   "execution_count": null,
   "id": "27",
   "metadata": {},
   "outputs": [],
   "source": [
    "pulse_time = sc.datetime('2023-01-19T08:12:03.442912915', unit='ns')"
   ]
  },
  {
   "cell_type": "markdown",
   "id": "28",
   "metadata": {},
   "source": [
    "<div class=\"alert alert-info\">\n",
    "\n",
    "**Note**\n",
    "\n",
    "The pulse time is typically an array of timestamps and it can be difficult to determine which pulse goes with which chopper period.\n",
    "While the choice is technically arbitrary, the times calculated by `DiskChopper` are relative to the chosen pulse time.\n",
    "\n",
    "If the chopper rotates at the pulse frequency or an integer multiple of it, we can select any pulse time and TDC timestamp and simply use `phase = phase % (2 * sc.constants.pi)` below.\n",
    "This corresponds to selecting the pulse and TDC times that are closest to each other.\n",
    "\n",
    "</div>\n",
    "\n",
    "(We multiply by 1 rad to get the proper `rad*Hz` unit in `omega`.)"
   ]
  },
  {
   "cell_type": "code",
   "execution_count": null,
   "id": "29",
   "metadata": {},
   "outputs": [],
   "source": [
    "omega = 2*sc.constants.pi * frequency.data * sc.scalar(1, unit='rad')\n",
    "phase = omega * (tdc_in_phase[0] + chopper['delay'].data - pulse_time)\n",
    "phase = phase.to(unit='rad')\n",
    "phase"
   ]
  },
  {
   "cell_type": "markdown",
   "id": "30",
   "metadata": {},
   "source": [
    "## Build `DiskChopper`\n",
    "\n",
    "Finally, we can assemble all data into a [scippneutron.chopper.DiskChopper](../../generated/modules/scippneutron.chopper.disk_chopper.DiskChopper.rst) object.\n",
    "\n",
    "The rotation speed gets rounded (resulting in 14Hz) because `DiskChopper` requires it to be a near exact integer multiple of the pulse frequency or vice versa:\n",
    "\n",
    "- `rotation_speed = N * pulse_frequency`\n",
    "- `rotation_speed = pulse_frequency / N`\n",
    "\n",
    "where `N` is an integer number."
   ]
  },
  {
   "cell_type": "code",
   "execution_count": null,
   "id": "31",
   "metadata": {},
   "outputs": [],
   "source": [
    "processed = chopper.copy()\n",
    "processed['rotation_speed'] = sc.round(frequency.data)\n",
    "processed['phase'] = phase"
   ]
  },
  {
   "cell_type": "markdown",
   "id": "32",
   "metadata": {},
   "source": [
    "The input data does not contain a beam position (the angle between the beam and TDC).\n",
    "This probably means that it is 0.\n",
    "But since `DiskChopper` does not make that assumption we have to be explicit:"
   ]
  },
  {
   "cell_type": "code",
   "execution_count": null,
   "id": "33",
   "metadata": {},
   "outputs": [],
   "source": [
    "processed['beam_position'] = sc.scalar(0.0, unit='rad')"
   ]
  },
  {
   "cell_type": "code",
   "execution_count": null,
   "id": "34",
   "metadata": {},
   "outputs": [],
   "source": [
    "from scippneutron.chopper import DiskChopper\n",
    "\n",
    "disk_chopper = DiskChopper.from_nexus(processed)\n",
    "disk_chopper"
   ]
  }
 ],
 "metadata": {
  "kernelspec": {
   "display_name": "Python 3 (ipykernel)",
   "language": "python",
   "name": "python3"
  },
  "language_info": {
   "codemirror_mode": {
    "name": "ipython",
    "version": 3
   },
   "file_extension": ".py",
   "mimetype": "text/x-python",
   "name": "python",
   "nbconvert_exporter": "python",
   "pygments_lexer": "ipython3"
  }
 },
 "nbformat": 4,
 "nbformat_minor": 5
}
