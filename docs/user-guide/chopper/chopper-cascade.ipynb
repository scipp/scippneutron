{
 "cells": [
  {
   "cell_type": "markdown",
   "metadata": {},
   "source": [
    "# Chopper Cascades\n",
    "\n",
    "## Overview\n",
    "\n",
    "The [chopper_cascade module](https://scipp.github.io/scippneutron/generated/modules/scippneutron.tof.chopper_cascade.html) provides utilities for computing time and wavelength bounds of a neutron pulse (or sub-pulses) propagating through a chopper cascade.\n",
    "This is useful for designing chopper systems, as well as predicting the data recorded when using techniques such as wavelength-frame multiplication (WFM).\n",
    "\n",
    "It is currently under development and not fully functional."
   ]
  },
  {
   "cell_type": "markdown",
   "metadata": {},
   "source": [
    "## Example: WFM chopper cascade\n",
    "\n",
    "As an example, consider the WFM chopper cascade from [the tof package documentation](https://tof.readthedocs.io/en/stable/short-example.html).\n",
    "The choppers are defined in Scippneutron's `fakes.tof` submodule:"
   ]
  },
  {
   "cell_type": "code",
   "execution_count": null,
   "metadata": {},
   "outputs": [],
   "source": [
    "from scippneutron.tof import chopper_cascade, fakes\n",
    "import scipp as sc\n",
    "import matplotlib as mpl\n",
    "\n",
    "mpl.rcParams['figure.dpi'] = 300\n",
    "choppers = fakes.wfm_choppers"
   ]
  },
  {
   "cell_type": "markdown",
   "metadata": {},
   "source": [
    "We can now initialize a frame-sequence and apply the chopper cascade to it:"
   ]
  },
  {
   "cell_type": "code",
   "execution_count": null,
   "metadata": {},
   "outputs": [],
   "source": [
    "frames = chopper_cascade.FrameSequence.from_source_pulse(\n",
    "    time_min=sc.scalar(0.0, unit='ms'),\n",
    "    time_max=sc.scalar(4.0, unit='ms'),  # ESS pulse is 3 ms, but it has a tail\n",
    "    wavelength_min=sc.scalar(0.0, unit='angstrom'),\n",
    "    wavelength_max=sc.scalar(10.0, unit='angstrom'),\n",
    ")\n",
    "frames = frames.chop(choppers.values())\n",
    "at_sample = frames.propagate_to(sc.scalar(26.0, unit='m'))\n",
    "\n",
    "at_sample.draw()"
   ]
  },
  {
   "cell_type": "markdown",
   "metadata": {},
   "source": [
    "We can also draw a chopper acceptance diagram, which is essentially the same as above, but propagated back to the source pulse distance:"
   ]
  },
  {
   "cell_type": "code",
   "execution_count": null,
   "metadata": {},
   "outputs": [],
   "source": [
    "frames.acceptance_diagram()"
   ]
  },
  {
   "cell_type": "markdown",
   "metadata": {},
   "source": [
    "## Frame unwrapping\n",
    "\n",
    "For unwrapping frames, we need the bounds of the entire frame, to determine times at which to cut.\n",
    "Since $L_2$ can be different for every detector, this cutting time is different for every detector.\n",
    "We can compute the frame bounds at a common distance, e.g., the sample, and propagate the bounds to the detectors:"
   ]
  },
  {
   "cell_type": "code",
   "execution_count": null,
   "metadata": {},
   "outputs": [],
   "source": [
    "bounds = at_sample[-1].bounds()\n",
    "chopper_cascade.propagate_times(\n",
    "    time=bounds['time'],\n",
    "    wavelength=bounds['wavelength'],\n",
    "    distance=sc.linspace('L2', 1.0, 2.0, 100, unit='m'),\n",
    ")"
   ]
  },
  {
   "cell_type": "markdown",
   "metadata": {},
   "source": [
    "For WFM, we need to compute subframe time cutting points.\n",
    "Again, $L_2$ can be different for every detector, so we need to compute the cutting points for every detector:"
   ]
  },
  {
   "cell_type": "code",
   "execution_count": null,
   "metadata": {},
   "outputs": [],
   "source": [
    "bounds = at_sample[-1].subbounds()\n",
    "bounds"
   ]
  },
  {
   "cell_type": "code",
   "execution_count": null,
   "metadata": {},
   "outputs": [],
   "source": [
    "chopper_cascade.propagate_times(\n",
    "    time=bounds['time'],\n",
    "    wavelength=bounds['wavelength'],\n",
    "    distance=sc.linspace('L2', 1.0, 2.0, 100, unit='m'),\n",
    ")"
   ]
  },
  {
   "cell_type": "markdown",
   "metadata": {},
   "source": [
    "Note that subframes may in principle overlap, and this may depend on the detector.\n",
    "We therefore call `subframe_bounds` at a common location and propagate the result, otherwise we would get a different number of subframes for different detectors."
   ]
  }
 ],
 "metadata": {
  "kernelspec": {
   "display_name": "dev310",
   "language": "python",
   "name": "python3"
  },
  "language_info": {
   "codemirror_mode": {
    "name": "ipython",
    "version": 3
   },
   "file_extension": ".py",
   "mimetype": "text/x-python",
   "name": "python",
   "nbconvert_exporter": "python",
   "pygments_lexer": "ipython3",
   "version": "3.10.12"
  }
 },
 "nbformat": 4,
 "nbformat_minor": 2
}
