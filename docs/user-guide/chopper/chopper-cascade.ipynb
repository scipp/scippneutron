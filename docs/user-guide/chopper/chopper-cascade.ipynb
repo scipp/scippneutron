{
 "cells": [
  {
   "cell_type": "markdown",
   "metadata": {},
   "source": [
    "# Chopper Cascades\n",
    "\n",
    "## Overview\n",
    "\n",
    "The [chopper_cascade module](https://scipp.github.io/scippneutron/generated/modules/scippneutron.tof.chopper_cascade.html) provides utilities for computing time and wavelength bounds of a neutron pulse (or sub-pulses) propagating through a chopper cascade.\n",
    "This is useful for designing chopper systems, as well as predicting the data recorded when using techniques such as wavelength-frame multiplication (WFM).\n",
    "\n",
    "It is currently under development and not fully functional."
   ]
  },
  {
   "cell_type": "markdown",
   "metadata": {},
   "source": [
    "## Example: WFM chopper cascade\n",
    "\n",
    "As an example, consider the WFM chopper cascade from [the tof package documentation](https://tof.readthedocs.io/en/stable/short-example.html)."
   ]
  },
  {
   "cell_type": "code",
   "execution_count": null,
   "metadata": {},
   "outputs": [],
   "source": [
    "from scippneutron.tof import chopper_cascade\n",
    "import scipp as sc\n",
    "import matplotlib as mpl\n",
    "\n",
    "mpl.rcParams['figure.dpi'] = 300"
   ]
  },
  {
   "cell_type": "markdown",
   "metadata": {},
   "source": [
    "### Defining choppers\n",
    "\n",
    "Choppers are defined by their position along the beam path,\n",
    "and the opening and closing times of their cutouts."
   ]
  },
  {
   "cell_type": "code",
   "execution_count": null,
   "metadata": {},
   "outputs": [],
   "source": [
    "params = {'wfm1': {'open': [-0.000396, 0.001286, 0.005786, 0.008039, 0.010133, 0.012080, 0.013889, 0.015571],\n",
    "                   'close': [0.000654, 0.002464, 0.006222, 0.008646, 0.010899, 0.012993, 0.014939, 0.016750],\n",
    "                   'distance': 6.6},\n",
    "          'wfm2': {'open': [0.000654, 0.002451, 0.006222, 0.008645, 0.010898, 0.012993, 0.014940, 0.016737],\n",
    "                   'close': [0.001567, 0.003641, 0.006658, 0.009252, 0.011664, 0.013759, 0.015853, 0.017927],\n",
    "                   'distance': 7.1},\n",
    "          'foc1': {'open': [-0.000139, 0.002460, 0.006796, 0.010020, 0.012733, 0.015263, 0.017718, 0.020317],\n",
    "                   'close': [0.000640, 0.003671, 0.007817, 0.011171, 0.013814, 0.016146, 0.018497, 0.021528],\n",
    "                   'distance': 8.8},\n",
    "          'foc2': {'open': [-0.000306, 0.010939, 0.016495, 0.021733, 0.026416, 0.030880, 0.035409],\n",
    "                   'close': [0.002582, 0.014570, 0.020072, 0.024730, 0.029082, 0.033316, 0.038297],\n",
    "                   'distance': 15.9}\n",
    "         }\n",
    "\n",
    "choppers = sc.DataGroup(\n",
    "    {name: chopper_cascade.Chopper(\n",
    "        distance=sc.scalar(param['distance'], unit='m'),\n",
    "        time_open=sc.array(dims=('cutout',), values=param['open'], unit='s'),\n",
    "        time_close=sc.array(dims=('cutout',), values=param['close'], unit='s')\n",
    "    ) for name, param in params.items()}\n",
    ")"
   ]
  },
  {
   "cell_type": "markdown",
   "metadata": {},
   "source": [
    "We can now initialize a frame-sequence and apply the chopper cascade to it:"
   ]
  },
  {
   "cell_type": "code",
   "execution_count": null,
   "metadata": {},
   "outputs": [],
   "source": [
    "frames = chopper_cascade.FrameSequence.from_source_pulse(\n",
    "    time_min=sc.scalar(0.0, unit='ms'),\n",
    "    time_max=sc.scalar(4.0, unit='ms'),  # ESS pulse is 3 ms, but it has a tail\n",
    "    wavelength_min=sc.scalar(0.0, unit='angstrom'),\n",
    "    wavelength_max=sc.scalar(10.0, unit='angstrom'),\n",
    ")\n",
    "frames = frames.chop(choppers.values())\n",
    "at_sample = frames.propagate_to(sc.scalar(26.0, unit='m'))\n",
    "\n",
    "at_sample.draw()"
   ]
  },
  {
   "cell_type": "markdown",
   "metadata": {},
   "source": [
    "We can also draw a chopper acceptance diagram, which is essentially the same as above, but propagated back to the source pulse distance:"
   ]
  },
  {
   "cell_type": "code",
   "execution_count": null,
   "metadata": {},
   "outputs": [],
   "source": [
    "frames.acceptance_diagram()"
   ]
  },
  {
   "cell_type": "markdown",
   "metadata": {},
   "source": [
    "## Frame unwrapping\n",
    "\n",
    "For unwrapping frames, we need the bounds of the entire frame, to determine times at which to cut.\n",
    "Since $L_2$ can be different for every detector, this cutting time is different for every detector.\n",
    "We can compute the frame bounds at a common distance, e.g., the sample, and propagate the bounds to the detectors:"
   ]
  },
  {
   "cell_type": "code",
   "execution_count": null,
   "metadata": {},
   "outputs": [],
   "source": [
    "bounds = at_sample[-1].bounds()\n",
    "chopper_cascade.propagate_times(\n",
    "    time=bounds['time'],\n",
    "    wavelength=bounds['wavelength'],\n",
    "    distance=sc.linspace('L2', 1.0, 2.0, 100, unit='m'),\n",
    ")"
   ]
  },
  {
   "cell_type": "markdown",
   "metadata": {},
   "source": [
    "For WFM, we need to compute subframe time cutting points.\n",
    "Again, $L_2$ can be different for every detector, so we need to compute the cutting points for every detector:"
   ]
  },
  {
   "cell_type": "code",
   "execution_count": null,
   "metadata": {},
   "outputs": [],
   "source": [
    "bounds = at_sample[-1].subbounds()\n",
    "bounds"
   ]
  },
  {
   "cell_type": "code",
   "execution_count": null,
   "metadata": {},
   "outputs": [],
   "source": [
    "chopper_cascade.propagate_times(\n",
    "    time=bounds['time'],\n",
    "    wavelength=bounds['wavelength'],\n",
    "    distance=sc.linspace('L2', 1.0, 2.0, 100, unit='m'),\n",
    ")"
   ]
  },
  {
   "cell_type": "markdown",
   "metadata": {},
   "source": [
    "Note that subframes may in principle overlap, and this may depend on the detector.\n",
    "We therefore call `subframe_bounds` at a common location and propagate the result, otherwise we would get a different number of subframes for different detectors."
   ]
  }
 ],
 "metadata": {
  "kernelspec": {
   "display_name": "Python 3 (ipykernel)",
   "language": "python",
   "name": "python3"
  },
  "language_info": {
   "codemirror_mode": {
    "name": "ipython",
    "version": 3
   },
   "file_extension": ".py",
   "mimetype": "text/x-python",
   "name": "python",
   "nbconvert_exporter": "python",
   "pygments_lexer": "ipython3"
  }
 },
 "nbformat": 4,
 "nbformat_minor": 4
}
