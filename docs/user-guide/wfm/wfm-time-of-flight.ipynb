{
 "cells": [
  {
   "cell_type": "markdown",
   "id": "0",
   "metadata": {},
   "source": [
    "# Computing time-of-flight for WFM data\n",
    "\n",
    "Wavelength-frame-multiplication (WFM) is a technique commonly used at long-pulse facilities to improve the resolution of the results measured at the neutron detectors.\n",
    "See for example the article by [Schmakat et al. (2020)](https://www.sciencedirect.com/science/article/pii/S0168900220308640) for a description of how WFM works.\n",
    "\n",
    "In this notebook, we show how to use Scippneutron's `tof` module to find the boundaries of the WFM frames, and apply a time correction to each frame,\n",
    "in order to obtain more accurate a time-of-flight coordinate, from which a wavelength can be computed."
   ]
  },
  {
   "cell_type": "code",
   "execution_count": null,
   "id": "1",
   "metadata": {},
   "outputs": [],
   "source": [
    "import numpy as np\n",
    "import plopp as pp\n",
    "import scipp as sc\n",
    "import sciline as sl\n",
    "from scippneutron.chopper import DiskChopper\n",
    "from scippneutron.tof import unwrap\n",
    "from scippneutron.tof import chopper_cascade"
   ]
  },
  {
   "cell_type": "markdown",
   "id": "2",
   "metadata": {},
   "source": [
    "## Setting up the beamline\n",
    "\n",
    "### Creating the beamline choppers\n",
    "\n",
    "We begin by defining the chopper settings for our beamline.\n",
    "In principle, the chopper setting could simply be read from a NeXus file.\n",
    "\n",
    "For this example, we create choppers modeled on the [V20 ESS beamline at HZB](https://www.sciencedirect.com/science/article/pii/S0168900216309597).\n",
    "It consists of 5 choppers:\n",
    "\n",
    "- 2 WFM choppers\n",
    "- 2 frame-overlap choppers\n",
    "- 1 pulse-overlap chopper\n",
    "\n",
    "The first 4 choppers have 6 openings (also known as cutouts),\n",
    "while the last one only has a single opening."
   ]
  },
  {
   "cell_type": "code",
   "execution_count": null,
   "id": "3",
   "metadata": {},
   "outputs": [],
   "source": [
    "wfm1 = DiskChopper(\n",
    "    frequency=sc.scalar(-70.0, unit=\"Hz\"),\n",
    "    beam_position=sc.scalar(0.0, unit=\"deg\"),\n",
    "    phase=sc.scalar(-47.10, unit=\"deg\"),\n",
    "    axle_position=sc.vector(value=[0, 0, 6.6], unit=\"m\"),\n",
    "    slit_begin=sc.array(\n",
    "        dims=[\"cutout\"],\n",
    "        values=np.array([83.71, 140.49, 193.26, 242.32, 287.91, 330.3]) + 15.0,\n",
    "        unit=\"deg\",\n",
    "    ),\n",
    "    slit_end=sc.array(\n",
    "        dims=[\"cutout\"],\n",
    "        values=np.array([94.7, 155.79, 212.56, 265.33, 314.37, 360.0]) + 15.0,\n",
    "        unit=\"deg\",\n",
    "    ),\n",
    "    slit_height=sc.scalar(10.0, unit=\"cm\"),\n",
    "    radius=sc.scalar(30.0, unit=\"cm\"),\n",
    ")\n",
    "\n",
    "wfm2 = DiskChopper(\n",
    "    frequency=sc.scalar(-70.0, unit=\"Hz\"),\n",
    "    beam_position=sc.scalar(0.0, unit=\"deg\"),\n",
    "    phase=sc.scalar(-76.76, unit=\"deg\"),\n",
    "    axle_position=sc.vector(value=[0, 0, 7.1], unit=\"m\"),\n",
    "    slit_begin=sc.array(\n",
    "        dims=[\"cutout\"],\n",
    "        values=np.array([65.04, 126.1, 182.88, 235.67, 284.73, 330.32]) + 15.0,\n",
    "        unit=\"deg\",\n",
    "    ),\n",
    "    slit_end=sc.array(\n",
    "        dims=[\"cutout\"],\n",
    "        values=np.array([76.03, 141.4, 202.18, 254.97, 307.74, 360.0]) + 15.0,\n",
    "        unit=\"deg\",\n",
    "    ),\n",
    "    slit_height=sc.scalar(10.0, unit=\"cm\"),\n",
    "    radius=sc.scalar(30.0, unit=\"cm\"),\n",
    ")\n",
    "\n",
    "foc1 = DiskChopper(\n",
    "    frequency=sc.scalar(-56.0, unit=\"Hz\"),\n",
    "    beam_position=sc.scalar(0.0, unit=\"deg\"),\n",
    "    phase=sc.scalar(-62.40, unit=\"deg\"),\n",
    "    axle_position=sc.vector(value=[0, 0, 8.8], unit=\"m\"),\n",
    "    slit_begin=sc.array(\n",
    "        dims=[\"cutout\"],\n",
    "        values=np.array([74.6, 139.6, 194.3, 245.3, 294.8, 347.2]),\n",
    "        unit=\"deg\",\n",
    "    ),\n",
    "    slit_end=sc.array(\n",
    "        dims=[\"cutout\"],\n",
    "        values=np.array([95.2, 162.8, 216.1, 263.1, 310.5, 371.6]),\n",
    "        unit=\"deg\",\n",
    "    ),\n",
    "    slit_height=sc.scalar(10.0, unit=\"cm\"),\n",
    "    radius=sc.scalar(30.0, unit=\"cm\"),\n",
    ")\n",
    "\n",
    "foc2 = DiskChopper(\n",
    "    frequency=sc.scalar(-28.0, unit=\"Hz\"),\n",
    "    beam_position=sc.scalar(0.0, unit=\"deg\"),\n",
    "    phase=sc.scalar(-12.27, unit=\"deg\"),\n",
    "    axle_position=sc.vector(value=[0, 0, 15.9], unit=\"m\"),\n",
    "    slit_begin=sc.array(\n",
    "        dims=[\"cutout\"],\n",
    "        values=np.array([98.0, 154.0, 206.8, 255.0, 299.0, 344.65]),\n",
    "        unit=\"deg\",\n",
    "    ),\n",
    "    slit_end=sc.array(\n",
    "        dims=[\"cutout\"],\n",
    "        values=np.array([134.6, 190.06, 237.01, 280.88, 323.56, 373.76]),\n",
    "        unit=\"deg\",\n",
    "    ),\n",
    "    slit_height=sc.scalar(10.0, unit=\"cm\"),\n",
    "    radius=sc.scalar(30.0, unit=\"cm\"),\n",
    ")\n",
    "\n",
    "pol = DiskChopper(\n",
    "    frequency=sc.scalar(-14.0, unit=\"Hz\"),\n",
    "    beam_position=sc.scalar(0.0, unit=\"deg\"),\n",
    "    phase=sc.scalar(0.0, unit=\"deg\"),\n",
    "    axle_position=sc.vector(value=[0, 0, 17.0], unit=\"m\"),\n",
    "    slit_begin=sc.array(\n",
    "        dims=[\"cutout\"],\n",
    "        values=np.array([40.0]),\n",
    "        unit=\"deg\",\n",
    "    ),\n",
    "    slit_end=sc.array(\n",
    "        dims=[\"cutout\"],\n",
    "        values=np.array([240.0]),\n",
    "        unit=\"deg\",\n",
    "    ),\n",
    "    slit_height=sc.scalar(10.0, unit=\"cm\"),\n",
    "    radius=sc.scalar(30.0, unit=\"cm\"),\n",
    ")\n",
    "\n",
    "disk_choppers = {\"wfm1\": wfm1, \"wfm2\": wfm2, \"foc1\": foc1, \"foc2\": foc2, \"pol\": pol}"
   ]
  },
  {
   "cell_type": "markdown",
   "id": "4",
   "metadata": {},
   "source": [
    "It is possible to visualize the properties of the choppers by inspecting their `repr`:"
   ]
  },
  {
   "cell_type": "code",
   "execution_count": null,
   "id": "5",
   "metadata": {},
   "outputs": [],
   "source": [
    "wfm1"
   ]
  },
  {
   "cell_type": "markdown",
   "id": "6",
   "metadata": {},
   "source": [
    "### Adding a detector\n",
    "\n",
    "We also have a detector, which we place 26 meters away from the source."
   ]
  },
  {
   "cell_type": "code",
   "execution_count": null,
   "id": "7",
   "metadata": {},
   "outputs": [],
   "source": [
    "Ltotal = sc.scalar(26.0, unit=\"m\")"
   ]
  },
  {
   "cell_type": "markdown",
   "id": "8",
   "metadata": {},
   "source": [
    "### Convert the choppers\n",
    "\n",
    "Lastly, we convert our disk choppers to a simpler chopper representation used by the `chopper_cascade` module. "
   ]
  },
  {
   "cell_type": "code",
   "execution_count": null,
   "id": "9",
   "metadata": {},
   "outputs": [],
   "source": [
    "choppers = {\n",
    "    key: chopper_cascade.Chopper.from_disk_chopper(\n",
    "        chop, pulse_frequency=sc.scalar(14.0, unit=\"Hz\"), npulses=1\n",
    "    )\n",
    "    for key, chop in disk_choppers.items()\n",
    "}"
   ]
  },
  {
   "cell_type": "markdown",
   "id": "10",
   "metadata": {},
   "source": [
    "## Creating some neutron events\n",
    "\n",
    "We create a semi-realistic set of neutron events based on the ESS pulse."
   ]
  },
  {
   "cell_type": "code",
   "execution_count": null,
   "id": "11",
   "metadata": {},
   "outputs": [],
   "source": [
    "from scippneutron.tof.fakes import FakeBeamlineEss\n",
    "\n",
    "ess_beamline = FakeBeamlineEss(\n",
    "    choppers=choppers,\n",
    "    monitors={\"detector\": Ltotal},\n",
    "    run_length=sc.scalar(1 / 14, unit=\"s\") * 14,\n",
    "    events_per_pulse=200_000,\n",
    ")"
   ]
  },
  {
   "cell_type": "markdown",
   "id": "12",
   "metadata": {},
   "source": [
    "The initial birth times and wavelengths of the generated neutrons can be visualized (for a single pulse):"
   ]
  },
  {
   "cell_type": "code",
   "execution_count": null,
   "id": "13",
   "metadata": {},
   "outputs": [],
   "source": [
    "one_pulse = ess_beamline.source.data[\"pulse\", 0]\n",
    "one_pulse.hist(time=300).plot() + one_pulse.hist(wavelength=300).plot()"
   ]
  },
  {
   "cell_type": "markdown",
   "id": "14",
   "metadata": {},
   "source": [
    "From this fake beamline, we extract the raw neutron signal at our detector:"
   ]
  },
  {
   "cell_type": "code",
   "execution_count": null,
   "id": "15",
   "metadata": {},
   "outputs": [],
   "source": [
    "raw_data = ess_beamline.get_monitor(\"detector\")\n",
    "\n",
    "# Visualize\n",
    "raw_data.hist(event_time_offset=300).sum(\"pulse\").plot()"
   ]
  },
  {
   "cell_type": "markdown",
   "id": "16",
   "metadata": {},
   "source": [
    "The total number of neutrons in our sample data that make it through the to detector is:"
   ]
  },
  {
   "cell_type": "code",
   "execution_count": null,
   "id": "17",
   "metadata": {},
   "outputs": [],
   "source": [
    "raw_data.sum().value"
   ]
  },
  {
   "cell_type": "markdown",
   "id": "18",
   "metadata": {},
   "source": [
    "## Using the chopper cascade to chop the pulse\n",
    "\n",
    "The `chopper_cascade` module can now be used to chop a pulse of neutrons using the choppers created above."
   ]
  },
  {
   "cell_type": "markdown",
   "id": "19",
   "metadata": {},
   "source": [
    "### Create a pulse of neutrons\n",
    "\n",
    "We then create a (fake) pulse of neutrons, whose time and wavelength ranges cover our ESS pulse above:"
   ]
  },
  {
   "cell_type": "code",
   "execution_count": null,
   "id": "20",
   "metadata": {},
   "outputs": [],
   "source": [
    "time_min = sc.scalar(0.0, unit='ms')\n",
    "time_max = sc.scalar(3.4, unit='ms')\n",
    "wavs_min = sc.scalar(0.01, unit='angstrom')\n",
    "wavs_max = sc.scalar(10.0, unit='angstrom')\n",
    "\n",
    "frames = chopper_cascade.FrameSequence.from_source_pulse(\n",
    "    time_min=time_min,\n",
    "    time_max=time_max,\n",
    "    wavelength_min=wavs_min,\n",
    "    wavelength_max=wavs_max,\n",
    ")"
   ]
  },
  {
   "cell_type": "markdown",
   "id": "21",
   "metadata": {},
   "source": [
    "### Propagate the neutrons through the choppers\n",
    "\n",
    "We are now able to propagate the pulse of neutrons through the chopper cascade,\n",
    "chopping away the parts of the pulse that do not make it through.\n",
    "\n",
    "For this, we need to decide how far we want to propagate the neutrons, by choosing a distance to our detector.\n",
    "We set this to 32 meters here."
   ]
  },
  {
   "cell_type": "code",
   "execution_count": null,
   "id": "22",
   "metadata": {},
   "outputs": [],
   "source": [
    "# Chop the frames\n",
    "frames = frames.chop(choppers.values())\n",
    "\n",
    "# Propagate the neutrons to the detector\n",
    "at_sample = frames.propagate_to(Ltotal)\n",
    "\n",
    "# Visualize the results\n",
    "cascade_fig, cascade_ax = at_sample.draw()"
   ]
  },
  {
   "cell_type": "markdown",
   "id": "23",
   "metadata": {},
   "source": [
    "We can now see that at the detector (pink color), we have 6 sub-pulses of neutrons,\n",
    "where the longest wavelength of one frame is very close to the shortest wavelength of the next frame."
   ]
  },
  {
   "cell_type": "markdown",
   "id": "24",
   "metadata": {},
   "source": [
    "## Computing the time-of-flight coordinate using Sciline\n",
    "\n",
    "### Setting up the workflow\n",
    "\n",
    "We will now construct a workflow to compute the `time-of-flight` coordinate from the neutron events above,\n",
    "taking into account the choppers in the beamline."
   ]
  },
  {
   "cell_type": "code",
   "execution_count": null,
   "id": "25",
   "metadata": {},
   "outputs": [],
   "source": [
    "workflow = sl.Pipeline(\n",
    "    unwrap.unwrap_providers()\n",
    "    + unwrap.time_of_flight_providers()\n",
    "    + unwrap.time_of_flight_origin_from_choppers_providers(wfm=True)\n",
    ")\n",
    "\n",
    "workflow[unwrap.PulsePeriod] = sc.reciprocal(ess_beamline.source.frequency)\n",
    "workflow[unwrap.PulseStride | None] = None\n",
    "workflow[unwrap.SourceTimeRange] = time_min, time_max\n",
    "workflow[unwrap.SourceWavelengthRange] = wavs_min, wavs_max\n",
    "workflow[unwrap.Choppers] = choppers\n",
    "\n",
    "workflow[unwrap.Ltotal] = Ltotal\n",
    "workflow[unwrap.RawData] = raw_data\n",
    "\n",
    "workflow.visualize(unwrap.TofData)"
   ]
  },
  {
   "cell_type": "markdown",
   "id": "26",
   "metadata": {},
   "source": [
    "### Checking the frame bounds\n",
    "\n",
    "We can check that the bounds for the frames the workflow computes agrees with the chopper-cascade diagram"
   ]
  },
  {
   "cell_type": "code",
   "execution_count": null,
   "id": "27",
   "metadata": {},
   "outputs": [],
   "source": [
    "bounds = workflow.compute(unwrap.FrameAtDetector).subbounds()\n",
    "bounds"
   ]
  },
  {
   "cell_type": "code",
   "execution_count": null,
   "id": "28",
   "metadata": {},
   "outputs": [],
   "source": [
    "for b in sc.collapse(bounds[\"time\"], keep=\"bound\").values():\n",
    "    cascade_ax.axvspan(\n",
    "        b[0].to(unit=\"ms\").value,\n",
    "        b[1].to(unit=\"ms\").value,\n",
    "        color=\"gray\",\n",
    "        alpha=0.3,\n",
    "        zorder=-5,\n",
    "    )\n",
    "\n",
    "cascade_fig"
   ]
  },
  {
   "attachments": {},
   "cell_type": "markdown",
   "id": "29",
   "metadata": {},
   "source": [
    "There should be one vertical band matching the extent of each pink polygon, which there is.\n",
    "\n",
    "### Computing a time-of-flight coordinate\n",
    "\n",
    "We will now use our workflow to obtain our event data with a time-of-flight coordinate:"
   ]
  },
  {
   "cell_type": "code",
   "execution_count": null,
   "id": "30",
   "metadata": {},
   "outputs": [],
   "source": [
    "tofs = workflow.compute(unwrap.TofData)\n",
    "tofs"
   ]
  },
  {
   "cell_type": "markdown",
   "id": "31",
   "metadata": {},
   "source": [
    "Histogramming the data for a plot should show a profile with 6 bumps that correspond to the frames:"
   ]
  },
  {
   "cell_type": "code",
   "execution_count": null,
   "id": "32",
   "metadata": {},
   "outputs": [],
   "source": [
    "edges = sc.linspace(\"tof\", 0.005, 0.05, 300, unit=\"s\")\n",
    "tofs.bins.concat().hist(tof=edges).plot()"
   ]
  },
  {
   "cell_type": "markdown",
   "id": "33",
   "metadata": {},
   "source": [
    "### Converting to wavelength\n",
    "\n",
    "We can now convert our new time-of-flight coordinate to a neutron wavelength, using `tranform_coords`:"
   ]
  },
  {
   "cell_type": "code",
   "execution_count": null,
   "id": "34",
   "metadata": {},
   "outputs": [],
   "source": [
    "from scippneutron.conversion.graph.beamline import beamline\n",
    "from scippneutron.conversion.graph.tof import elastic\n",
    "\n",
    "# Perform coordinate transformation\n",
    "graph = {**beamline(scatter=False), **elastic(\"tof\")}\n",
    "wav_wfm = tofs.transform_coords(\"wavelength\", graph=graph)\n",
    "\n",
    "# Define wavelength bin edges\n",
    "wavs = sc.linspace(\"wavelength\", 2, 10, 301, unit=\"angstrom\")\n",
    "\n",
    "wav_wfm.hist(wavelength=wavs).sum(\"pulse\").plot()"
   ]
  },
  {
   "cell_type": "markdown",
   "id": "35",
   "metadata": {},
   "source": [
    "### Comparing to the ground truth\n",
    "\n",
    "As a consistency check, because we actually know the wavelengths of the neutrons we created,\n",
    "we can compare the true neutron wavelengths to those we computed above."
   ]
  },
  {
   "cell_type": "code",
   "execution_count": null,
   "id": "36",
   "metadata": {},
   "outputs": [],
   "source": [
    "ground_truth = ess_beamline.model_result[\"detector\"].data.flatten(to=\"event\")\n",
    "ground_truth = ground_truth[~ground_truth.masks[\"blocked_by_others\"]]\n",
    "\n",
    "pp.plot(\n",
    "    {\n",
    "        \"wfm\": wav_wfm.hist(wavelength=wavs).sum(\"pulse\"),\n",
    "        \"ground_truth\": ground_truth.hist(wavelength=wavs),\n",
    "    }\n",
    ")"
   ]
  }
 ],
 "metadata": {
  "kernelspec": {
   "display_name": "Python 3 (ipykernel)",
   "language": "python",
   "name": "python3"
  },
  "language_info": {
   "codemirror_mode": {
    "name": "ipython",
    "version": 3
   },
   "file_extension": ".py",
   "mimetype": "text/x-python",
   "name": "python",
   "nbconvert_exporter": "python",
   "pygments_lexer": "ipython3"
  }
 },
 "nbformat": 4,
 "nbformat_minor": 5
}
