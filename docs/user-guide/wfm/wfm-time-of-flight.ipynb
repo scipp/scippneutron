{
 "cells": [
  {
   "cell_type": "markdown",
   "id": "0",
   "metadata": {},
   "source": [
    "# Computing time-of-flight for WFM data\n",
    "\n",
    "Wavelength-frame-multiplication (WFM) is a technique commonly used at long-pulse facilities to improve the resolution of the results measured at the neutron detectors.\n",
    "See for example the article by [Schmakat et al. (2020)](https://www.sciencedirect.com/science/article/pii/S0168900220308640) for a description of how WFM works.\n",
    "\n",
    "In this notebook, we show how to use Scippneutron's `tof` module to find the boundaries of the WFM frames, and apply a time correction to each frame,\n",
    "in order to obtain more accurate a time-of-flight coordinate, from which a wavelength can be computed."
   ]
  },
  {
   "cell_type": "code",
   "execution_count": null,
   "id": "1",
   "metadata": {},
   "outputs": [],
   "source": [
    "import numpy as np\n",
    "import plopp as pp\n",
    "import scipp as sc\n",
    "import sciline as sl\n",
    "from scippneutron.chopper import DiskChopper\n",
    "from scippneutron.tof import unwrap"
   ]
  },
  {
   "cell_type": "markdown",
   "id": "2",
   "metadata": {},
   "source": [
    "## Setting up the beamline\n",
    "\n",
    "### Creating the beamline choppers\n",
    "\n",
    "We begin by defining the chopper settings for our beamline.\n",
    "In principle, the chopper setting could simply be read from a NeXus file.\n",
    "\n",
    "For this example, we create choppers modeled on the [V20 ESS beamline at HZB](https://www.sciencedirect.com/science/article/pii/S0168900216309597).\n",
    "It consists of 5 choppers:\n",
    "\n",
    "- 2 WFM choppers\n",
    "- 2 frame-overlap choppers\n",
    "- 1 pulse-overlap chopper\n",
    "\n",
    "The first 4 choppers have 6 openings (also known as cutouts),\n",
    "while the last one only has a single opening."
   ]
  },
  {
   "cell_type": "code",
   "execution_count": null,
   "id": "3",
   "metadata": {},
   "outputs": [],
   "source": [
    "wfm1 = DiskChopper(\n",
    "    frequency=sc.scalar(-70.0, unit=\"Hz\"),\n",
    "    beam_position=sc.scalar(0.0, unit=\"deg\"),\n",
    "    phase=sc.scalar(-47.10, unit=\"deg\"),\n",
    "    axle_position=sc.vector(value=[0, 0, 6.6], unit=\"m\"),\n",
    "    slit_begin=sc.array(\n",
    "        dims=[\"cutout\"],\n",
    "        values=np.array([83.71, 140.49, 193.26, 242.32, 287.91, 330.3]) + 15.0,\n",
    "        unit=\"deg\",\n",
    "    ),\n",
    "    slit_end=sc.array(\n",
    "        dims=[\"cutout\"],\n",
    "        values=np.array([94.7, 155.79, 212.56, 265.33, 314.37, 360.0]) + 15.0,\n",
    "        unit=\"deg\",\n",
    "    ),\n",
    "    slit_height=sc.scalar(10.0, unit=\"cm\"),\n",
    "    radius=sc.scalar(30.0, unit=\"cm\"),\n",
    ")\n",
    "\n",
    "wfm2 = DiskChopper(\n",
    "    frequency=sc.scalar(-70.0, unit=\"Hz\"),\n",
    "    beam_position=sc.scalar(0.0, unit=\"deg\"),\n",
    "    phase=sc.scalar(-76.76, unit=\"deg\"),\n",
    "    axle_position=sc.vector(value=[0, 0, 7.1], unit=\"m\"),\n",
    "    slit_begin=sc.array(\n",
    "        dims=[\"cutout\"],\n",
    "        values=np.array([65.04, 126.1, 182.88, 235.67, 284.73, 330.32]) + 15.0,\n",
    "        unit=\"deg\",\n",
    "    ),\n",
    "    slit_end=sc.array(\n",
    "        dims=[\"cutout\"],\n",
    "        values=np.array([76.03, 141.4, 202.18, 254.97, 307.74, 360.0]) + 15.0,\n",
    "        unit=\"deg\",\n",
    "    ),\n",
    "    slit_height=sc.scalar(10.0, unit=\"cm\"),\n",
    "    radius=sc.scalar(30.0, unit=\"cm\"),\n",
    ")\n",
    "\n",
    "foc1 = DiskChopper(\n",
    "    frequency=sc.scalar(-56.0, unit=\"Hz\"),\n",
    "    beam_position=sc.scalar(0.0, unit=\"deg\"),\n",
    "    phase=sc.scalar(-62.40, unit=\"deg\"),\n",
    "    axle_position=sc.vector(value=[0, 0, 8.8], unit=\"m\"),\n",
    "    slit_begin=sc.array(\n",
    "        dims=[\"cutout\"],\n",
    "        values=np.array([74.6, 139.6, 194.3, 245.3, 294.8, 347.2]),\n",
    "        unit=\"deg\",\n",
    "    ),\n",
    "    slit_end=sc.array(\n",
    "        dims=[\"cutout\"],\n",
    "        values=np.array([95.2, 162.8, 216.1, 263.1, 310.5, 371.6]),\n",
    "        unit=\"deg\",\n",
    "    ),\n",
    "    slit_height=sc.scalar(10.0, unit=\"cm\"),\n",
    "    radius=sc.scalar(30.0, unit=\"cm\"),\n",
    ")\n",
    "\n",
    "foc2 = DiskChopper(\n",
    "    frequency=sc.scalar(-28.0, unit=\"Hz\"),\n",
    "    beam_position=sc.scalar(0.0, unit=\"deg\"),\n",
    "    phase=sc.scalar(-12.27, unit=\"deg\"),\n",
    "    axle_position=sc.vector(value=[0, 0, 15.9], unit=\"m\"),\n",
    "    slit_begin=sc.array(\n",
    "        dims=[\"cutout\"],\n",
    "        values=np.array([98.0, 154.0, 206.8, 255.0, 299.0, 344.65]),\n",
    "        unit=\"deg\",\n",
    "    ),\n",
    "    slit_end=sc.array(\n",
    "        dims=[\"cutout\"],\n",
    "        values=np.array([134.6, 190.06, 237.01, 280.88, 323.56, 373.76]),\n",
    "        unit=\"deg\",\n",
    "    ),\n",
    "    slit_height=sc.scalar(10.0, unit=\"cm\"),\n",
    "    radius=sc.scalar(30.0, unit=\"cm\"),\n",
    ")\n",
    "\n",
    "pol = DiskChopper(\n",
    "    frequency=sc.scalar(-14.0, unit=\"Hz\"),\n",
    "    beam_position=sc.scalar(0.0, unit=\"deg\"),\n",
    "    phase=sc.scalar(0.0, unit=\"deg\"),\n",
    "    axle_position=sc.vector(value=[0, 0, 17.0], unit=\"m\"),\n",
    "    slit_begin=sc.array(\n",
    "        dims=[\"cutout\"],\n",
    "        values=np.array([40.0]),\n",
    "        unit=\"deg\",\n",
    "    ),\n",
    "    slit_end=sc.array(\n",
    "        dims=[\"cutout\"],\n",
    "        values=np.array([240.0]),\n",
    "        unit=\"deg\",\n",
    "    ),\n",
    "    slit_height=sc.scalar(10.0, unit=\"cm\"),\n",
    "    radius=sc.scalar(30.0, unit=\"cm\"),\n",
    ")\n",
    "\n",
    "disk_choppers = {\"wfm1\": wfm1, \"wfm2\": wfm2, \"foc1\": foc1, \"foc2\": foc2, \"pol\": pol}"
   ]
  },
  {
   "cell_type": "markdown",
   "id": "4",
   "metadata": {},
   "source": [
    "It is possible to visualize the properties of the choppers by inspecting their `repr`:"
   ]
  },
  {
   "cell_type": "code",
   "execution_count": null,
   "id": "5",
   "metadata": {},
   "outputs": [],
   "source": [
    "wfm1"
   ]
  },
  {
   "cell_type": "markdown",
   "id": "6",
   "metadata": {},
   "source": [
    "### Adding a detector\n",
    "\n",
    "We also have a detector, which we place 26 meters away from the source."
   ]
  },
  {
   "cell_type": "code",
   "execution_count": null,
   "id": "7",
   "metadata": {},
   "outputs": [],
   "source": [
    "Ltotal = sc.scalar(26.0, unit=\"m\")"
   ]
  },
  {
   "cell_type": "markdown",
   "id": "8",
   "metadata": {},
   "source": [
    "## Creating some neutron events\n",
    "\n",
    "We create a semi-realistic set of neutron events based on the ESS pulse."
   ]
  },
  {
   "cell_type": "code",
   "execution_count": null,
   "id": "9",
   "metadata": {},
   "outputs": [],
   "source": [
    "from scippneutron.tof.fakes import FakeBeamlineEss\n",
    "\n",
    "ess_beamline = FakeBeamlineEss(\n",
    "    choppers=disk_choppers,\n",
    "    monitors={\"detector\": Ltotal},\n",
    "    run_length=sc.scalar(1 / 14, unit=\"s\") * 14,\n",
    "    events_per_pulse=200_000,\n",
    ")"
   ]
  },
  {
   "cell_type": "markdown",
   "id": "10",
   "metadata": {},
   "source": [
    "The initial birth times and wavelengths of the generated neutrons can be visualized (for a single pulse):"
   ]
  },
  {
   "cell_type": "code",
   "execution_count": null,
   "id": "11",
   "metadata": {},
   "outputs": [],
   "source": [
    "one_pulse = ess_beamline.source.data[\"pulse\", 0]\n",
    "one_pulse.hist(time=300).plot() + one_pulse.hist(wavelength=300).plot()"
   ]
  },
  {
   "cell_type": "markdown",
   "id": "12",
   "metadata": {},
   "source": [
    "From this fake beamline, we extract the raw neutron signal at our detector:"
   ]
  },
  {
   "cell_type": "code",
   "execution_count": null,
   "id": "13",
   "metadata": {},
   "outputs": [],
   "source": [
    "raw_data = ess_beamline.get_monitor(\"detector\")[0]\n",
    "\n",
    "# Visualize\n",
    "raw_data.hist(event_time_offset=300).sum(\"pulse\").plot()"
   ]
  },
  {
   "cell_type": "markdown",
   "id": "14",
   "metadata": {},
   "source": [
    "The total number of neutrons in our sample data that make it through the to detector is:"
   ]
  },
  {
   "cell_type": "code",
   "execution_count": null,
   "id": "15",
   "metadata": {},
   "outputs": [],
   "source": [
    "raw_data.sum().value"
   ]
  },
  {
   "cell_type": "markdown",
   "id": "16",
   "metadata": {},
   "source": [
    "## Computing time-of-flight\n",
    "\n",
    "The chopper information is next used to construct a lookup table that provides an estimate of the real time-of-flight as a function of neutron time-of-arrival.\n",
    "\n",
    "We use the `tof` module to propagate a pulse of neutrons through the chopper system to the detectors,\n",
    "and predict the most likely neutron wavelength for a given time-of-arrival and distance from source.\n",
    "\n",
    "From this,\n",
    "we build a lookup table on which bilinear interpolation is used to compute a wavelength (and its corresponding time-of-flight)\n",
    "for every neutron event.\n",
    "\n",
    "### Setting up the workflow"
   ]
  },
  {
   "cell_type": "code",
   "execution_count": null,
   "id": "17",
   "metadata": {},
   "outputs": [],
   "source": [
    "workflow = sl.Pipeline(unwrap.providers(), params=unwrap.params())\n",
    "\n",
    "workflow[unwrap.Facility] = \"ess\"\n",
    "workflow[unwrap.Choppers] = disk_choppers\n",
    "workflow[unwrap.RawData] = raw_data\n",
    "workflow[unwrap.Ltotal] = Ltotal\n",
    "workflow[unwrap.NumberOfNeutrons] = 3_000_000\n",
    "\n",
    "workflow.visualize(unwrap.TofData)"
   ]
  },
  {
   "cell_type": "markdown",
   "id": "18",
   "metadata": {},
   "source": [
    "### Inspecting the lookup table\n",
    "\n",
    "The workflow first runs a `tof` simulation using the chopper parameters above,\n",
    "and the result is stored in `SimulationResults` (see graph above).\n",
    "\n",
    "From these simulated neutrons, we create figures displaying the neutron wavelengths and time-of-flight,\n",
    "as a function of arrival time at the detector.\n",
    "\n",
    "This is the basis for creating our lookup table."
   ]
  },
  {
   "cell_type": "code",
   "execution_count": null,
   "id": "19",
   "metadata": {},
   "outputs": [],
   "source": [
    "sim = workflow.compute(unwrap.SimulationResults)\n",
    "# Compute time-of-arrival at the detector\n",
    "tarrival = sim.time_of_arrival + ((Ltotal - sim.distance) / sim.speed).to(unit=\"us\")\n",
    "# Compute time-of-flight at the detector\n",
    "tflight = (Ltotal / sim.speed).to(unit=\"us\")\n",
    "\n",
    "events = sc.DataArray(\n",
    "    data=sim.weight,\n",
    "    coords={\"wavelength\": sim.wavelength, \"toa\": tarrival, \"tof\": tflight},\n",
    ")\n",
    "fig1 = events.hist(wavelength=300, toa=300).plot(norm=\"log\")\n",
    "fig2 = events.hist(tof=300, toa=300).plot(norm=\"log\")\n",
    "fig1 + fig2"
   ]
  },
  {
   "cell_type": "markdown",
   "id": "20",
   "metadata": {},
   "source": [
    "The lookup table is then obtained by computing the weighted mean of the time-of-flight inside each time-of-arrival bin.\n",
    "\n",
    "This is illustrated by the orange line in the figure below:"
   ]
  },
  {
   "cell_type": "code",
   "execution_count": null,
   "id": "21",
   "metadata": {},
   "outputs": [],
   "source": [
    "table = workflow.compute(unwrap.TimeOfFlightLookupTable)\n",
    "\n",
    "# Overlay mean on the figure above\n",
    "table[\"distance\", 1].plot(ax=fig2.ax, color=\"C1\")\n",
    "\n",
    "# Zoom in\n",
    "fig2.canvas.xrange = 40000, 50000\n",
    "fig2.canvas.yrange = 35000, 50000\n",
    "fig2"
   ]
  },
  {
   "attachments": {},
   "cell_type": "markdown",
   "id": "22",
   "metadata": {},
   "source": [
    "### Computing a time-of-flight coordinate\n",
    "\n",
    "We will now use our workflow to obtain our event data with a time-of-flight coordinate:"
   ]
  },
  {
   "cell_type": "code",
   "execution_count": null,
   "id": "23",
   "metadata": {},
   "outputs": [],
   "source": [
    "tofs = workflow.compute(unwrap.TofData)\n",
    "tofs"
   ]
  },
  {
   "cell_type": "markdown",
   "id": "24",
   "metadata": {},
   "source": [
    "Histogramming the data for a plot should show a profile with 6 bumps that correspond to the frames:"
   ]
  },
  {
   "cell_type": "code",
   "execution_count": null,
   "id": "25",
   "metadata": {},
   "outputs": [],
   "source": [
    "edges = sc.linspace(\"tof\", 0.005, 0.05, 300, unit=\"s\")\n",
    "tofs.bins.concat().hist(tof=edges).plot()"
   ]
  },
  {
   "cell_type": "markdown",
   "id": "26",
   "metadata": {},
   "source": [
    "### Converting to wavelength\n",
    "\n",
    "We can now convert our new time-of-flight coordinate to a neutron wavelength, using `tranform_coords`:"
   ]
  },
  {
   "cell_type": "code",
   "execution_count": null,
   "id": "27",
   "metadata": {},
   "outputs": [],
   "source": [
    "from scippneutron.conversion.graph.beamline import beamline\n",
    "from scippneutron.conversion.graph.tof import elastic\n",
    "\n",
    "# Perform coordinate transformation\n",
    "graph = {**beamline(scatter=False), **elastic(\"tof\")}\n",
    "wav_wfm = tofs.transform_coords(\"wavelength\", graph=graph)\n",
    "\n",
    "# Define wavelength bin edges\n",
    "wavs = sc.linspace(\"wavelength\", 2, 10, 301, unit=\"angstrom\")\n",
    "\n",
    "wav_wfm.hist(wavelength=wavs).sum(\"pulse\").plot()"
   ]
  },
  {
   "cell_type": "markdown",
   "id": "28",
   "metadata": {},
   "source": [
    "### Comparing to the ground truth\n",
    "\n",
    "As a consistency check, because we actually know the wavelengths of the neutrons we created,\n",
    "we can compare the true neutron wavelengths to those we computed above."
   ]
  },
  {
   "cell_type": "code",
   "execution_count": null,
   "id": "29",
   "metadata": {},
   "outputs": [],
   "source": [
    "ground_truth = ess_beamline.model_result[\"detector\"].data.flatten(to=\"event\")\n",
    "ground_truth = ground_truth[~ground_truth.masks[\"blocked_by_others\"]]\n",
    "\n",
    "pp.plot(\n",
    "    {\n",
    "        \"wfm\": wav_wfm.hist(wavelength=wavs).sum(\"pulse\"),\n",
    "        \"ground_truth\": ground_truth.hist(wavelength=wavs),\n",
    "    }\n",
    ")"
   ]
  }
 ],
 "metadata": {
  "kernelspec": {
   "display_name": "Python 3 (ipykernel)",
   "language": "python",
   "name": "python3"
  },
  "language_info": {
   "codemirror_mode": {
    "name": "ipython",
    "version": 3
   },
   "file_extension": ".py",
   "mimetype": "text/x-python",
   "name": "python",
   "nbconvert_exporter": "python",
   "pygments_lexer": "ipython3"
  }
 },
 "nbformat": 4,
 "nbformat_minor": 5
}
