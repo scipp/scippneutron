{
 "cells": [
  {
   "cell_type": "markdown",
   "id": "0",
   "metadata": {},
   "source": [
    "# DREAM in WFM mode\n",
    "\n",
    "In this notebook, we show how to use Scippneutron's `tof` module to find the boundaries of the WFM frames for the DREAM instrument.\n",
    "We then apply a time correction to each frame to compute a time-of-flight coordinate, from which a wavelength can be derived."
   ]
  },
  {
   "cell_type": "code",
   "execution_count": null,
   "id": "1",
   "metadata": {},
   "outputs": [],
   "source": [
    "import plopp as pp\n",
    "import scipp as sc\n",
    "import sciline as sl\n",
    "from scippneutron.chopper import DiskChopper\n",
    "from scippneutron.tof import unwrap\n",
    "from scippneutron.tof import chopper_cascade"
   ]
  },
  {
   "cell_type": "markdown",
   "id": "2",
   "metadata": {},
   "source": [
    "## Setting up the beamline\n",
    "\n",
    "### Creating the beamline choppers\n",
    "\n",
    "We begin by defining the chopper settings for our beamline.\n",
    "In principle, the chopper setting could simply be read from a NeXus file.\n",
    "\n",
    "The DREAM instrument has\n",
    "\n",
    "- 2 pulse-shaping choppers (PSC)\n",
    "- 1 overlap chopper (OC)\n",
    "- 1 band-control chopper (BCC)\n",
    "- 1 T0 chopper"
   ]
  },
  {
   "cell_type": "code",
   "execution_count": null,
   "id": "3",
   "metadata": {},
   "outputs": [],
   "source": [
    "psc1 = DiskChopper(\n",
    "    frequency=sc.scalar(14.0, unit=\"Hz\"),\n",
    "    beam_position=sc.scalar(0.0, unit=\"deg\"),\n",
    "    phase=sc.scalar(286 - 180, unit=\"deg\"),\n",
    "    axle_position=sc.vector(value=[0, 0, 6.145], unit=\"m\"),\n",
    "    slit_begin=sc.array(\n",
    "        dims=[\"cutout\"],\n",
    "        values=[-1.23, 70.49, 84.765, 113.565, 170.29, 271.635, 286.035, 301.17],\n",
    "        unit=\"deg\",\n",
    "    ),\n",
    "    slit_end=sc.array(\n",
    "        dims=[\"cutout\"],\n",
    "        values=[1.23, 73.51, 88.035, 116.835, 175.31, 275.565, 289.965, 303.63],\n",
    "        unit=\"deg\",\n",
    "    ),\n",
    "    slit_height=sc.scalar(10.0, unit=\"cm\"),\n",
    "    radius=sc.scalar(30.0, unit=\"cm\"),\n",
    ")\n",
    "\n",
    "psc2 = DiskChopper(\n",
    "    frequency=sc.scalar(-14.0, unit=\"Hz\"),\n",
    "    beam_position=sc.scalar(0.0, unit=\"deg\"),\n",
    "    phase=sc.scalar(-236, unit=\"deg\"),\n",
    "    axle_position=sc.vector(value=[0, 0, 6.155], unit=\"m\"),\n",
    "    slit_begin=sc.array(\n",
    "        dims=[\"cutout\"],\n",
    "        values=[-1.23, 27.0, 55.8, 142.385, 156.765, 214.115, 257.23, 315.49],\n",
    "        unit=\"deg\",\n",
    "    ),\n",
    "    slit_end=sc.array(\n",
    "        dims=[\"cutout\"],\n",
    "        values=[1.23, 30.6, 59.4, 145.615, 160.035, 217.885, 261.17, 318.11],\n",
    "        unit=\"deg\",\n",
    "    ),\n",
    "    slit_height=sc.scalar(10.0, unit=\"cm\"),\n",
    "    radius=sc.scalar(30.0, unit=\"cm\"),\n",
    ")\n",
    "\n",
    "oc = DiskChopper(\n",
    "    frequency=sc.scalar(14.0, unit=\"Hz\"),\n",
    "    beam_position=sc.scalar(0.0, unit=\"deg\"),\n",
    "    phase=sc.scalar(297 - 180 - 90, unit=\"deg\"),\n",
    "    axle_position=sc.vector(value=[0, 0, 6.174], unit=\"m\"),\n",
    "    slit_begin=sc.array(dims=[\"cutout\"], values=[-27.6 * 0.5], unit=\"deg\"),\n",
    "    slit_end=sc.array(dims=[\"cutout\"], values=[27.6 * 0.5], unit=\"deg\"),\n",
    "    slit_height=sc.scalar(10.0, unit=\"cm\"),\n",
    "    radius=sc.scalar(30.0, unit=\"cm\"),\n",
    ")\n",
    "\n",
    "bcc = DiskChopper(\n",
    "    frequency=sc.scalar(112.0, unit=\"Hz\"),\n",
    "    beam_position=sc.scalar(0.0, unit=\"deg\"),\n",
    "    phase=sc.scalar(240 - 180, unit=\"deg\"),\n",
    "    axle_position=sc.vector(value=[0, 0, 9.78], unit=\"m\"),\n",
    "    slit_begin=sc.array(dims=[\"cutout\"], values=[-36.875, 143.125], unit=\"deg\"),\n",
    "    slit_end=sc.array(dims=[\"cutout\"], values=[36.875, 216.875], unit=\"deg\"),\n",
    "    slit_height=sc.scalar(10.0, unit=\"cm\"),\n",
    "    radius=sc.scalar(30.0, unit=\"cm\"),\n",
    ")\n",
    "\n",
    "t0 = DiskChopper(\n",
    "    frequency=sc.scalar(28.0, unit=\"Hz\"),\n",
    "    beam_position=sc.scalar(0.0, unit=\"deg\"),\n",
    "    phase=sc.scalar(280 - 180, unit=\"deg\"),\n",
    "    axle_position=sc.vector(value=[0, 0, 13.05], unit=\"m\"),\n",
    "    slit_begin=sc.array(dims=[\"cutout\"], values=[-314.9 * 0.5], unit=\"deg\"),\n",
    "    slit_end=sc.array(dims=[\"cutout\"], values=[314.9 * 0.5], unit=\"deg\"),\n",
    "    slit_height=sc.scalar(10.0, unit=\"cm\"),\n",
    "    radius=sc.scalar(30.0, unit=\"cm\"),\n",
    ")\n",
    "\n",
    "disk_choppers = {\"psc1\": psc1, \"psc2\": psc2, \"oc\": oc, \"bcc\": bcc, \"t0\": t0}"
   ]
  },
  {
   "cell_type": "markdown",
   "id": "4",
   "metadata": {},
   "source": [
    "It is possible to visualize the properties of the choppers by inspecting their `repr`:"
   ]
  },
  {
   "cell_type": "code",
   "execution_count": null,
   "id": "5",
   "metadata": {},
   "outputs": [],
   "source": [
    "psc2"
   ]
  },
  {
   "cell_type": "markdown",
   "id": "6",
   "metadata": {},
   "source": [
    "### Adding a detector"
   ]
  },
  {
   "cell_type": "code",
   "execution_count": null,
   "id": "7",
   "metadata": {},
   "outputs": [],
   "source": [
    "Ltotal = sc.scalar(76.55 + 1.125, unit=\"m\")"
   ]
  },
  {
   "cell_type": "markdown",
   "id": "8",
   "metadata": {},
   "source": [
    "### Convert the choppers\n",
    "\n",
    "Lastly, we convert our disk choppers to a simpler chopper representation used by the `chopper_cascade` module. "
   ]
  },
  {
   "cell_type": "code",
   "execution_count": null,
   "id": "9",
   "metadata": {},
   "outputs": [],
   "source": [
    "choppers = {\n",
    "    key: chopper_cascade.Chopper.from_disk_chopper(\n",
    "        chop,\n",
    "        pulse_frequency=sc.scalar(14.0, unit=\"Hz\"),\n",
    "        npulses=1,\n",
    "    )\n",
    "    for key, chop in disk_choppers.items()\n",
    "}"
   ]
  },
  {
   "cell_type": "markdown",
   "id": "10",
   "metadata": {},
   "source": [
    "## Creating some neutron events\n",
    "\n",
    "We create a semi-realistic set of neutron events based on the ESS pulse."
   ]
  },
  {
   "cell_type": "code",
   "execution_count": null,
   "id": "11",
   "metadata": {},
   "outputs": [],
   "source": [
    "from scippneutron.tof.fakes import FakeBeamlineEss\n",
    "\n",
    "ess_beamline = FakeBeamlineEss(\n",
    "    choppers=choppers,\n",
    "    monitors={\"detector\": Ltotal},\n",
    "    run_length=sc.scalar(1 / 14, unit=\"s\") * 4,\n",
    "    events_per_pulse=200_000,\n",
    ")"
   ]
  },
  {
   "cell_type": "markdown",
   "id": "12",
   "metadata": {},
   "source": [
    "The initial birth times and wavelengths of the generated neutrons can be visualized (for a single pulse):"
   ]
  },
  {
   "cell_type": "code",
   "execution_count": null,
   "id": "13",
   "metadata": {},
   "outputs": [],
   "source": [
    "one_pulse = ess_beamline.source.data[\"pulse\", 0]\n",
    "one_pulse.hist(time=300).plot() + one_pulse.hist(wavelength=300).plot()"
   ]
  },
  {
   "cell_type": "code",
   "execution_count": null,
   "id": "14",
   "metadata": {},
   "outputs": [],
   "source": [
    "ess_beamline.model_result.plot()"
   ]
  },
  {
   "cell_type": "markdown",
   "id": "15",
   "metadata": {},
   "source": [
    "From this fake beamline, we extract the raw neutron signal at our detector:"
   ]
  },
  {
   "cell_type": "code",
   "execution_count": null,
   "id": "16",
   "metadata": {},
   "outputs": [],
   "source": [
    "raw_data = ess_beamline.get_monitor(\"detector\")\n",
    "\n",
    "# Visualize\n",
    "raw_data.hist(event_time_offset=300).sum(\"pulse\").plot()"
   ]
  },
  {
   "cell_type": "markdown",
   "id": "17",
   "metadata": {},
   "source": [
    "The total number of neutrons in our sample data that make it through the to detector is:"
   ]
  },
  {
   "cell_type": "code",
   "execution_count": null,
   "id": "18",
   "metadata": {},
   "outputs": [],
   "source": [
    "raw_data.sum().value"
   ]
  },
  {
   "cell_type": "markdown",
   "id": "19",
   "metadata": {},
   "source": [
    "## Using the chopper cascade to chop the pulse\n",
    "\n",
    "The `chopper_cascade` module can now be used to chop a pulse of neutrons using the choppers created above."
   ]
  },
  {
   "cell_type": "markdown",
   "id": "20",
   "metadata": {},
   "source": [
    "### Create a pulse of neutrons\n",
    "\n",
    "We then create a (fake) pulse of neutrons, whose time and wavelength ranges are close to that of our ESS pulse above:"
   ]
  },
  {
   "cell_type": "code",
   "execution_count": null,
   "id": "21",
   "metadata": {},
   "outputs": [],
   "source": [
    "pulse_tmin = one_pulse.coords[\"time\"].min()\n",
    "pulse_tmax = one_pulse.coords[\"time\"].max()\n",
    "pulse_wmin = one_pulse.coords[\"wavelength\"].min()\n",
    "pulse_wmax = one_pulse.coords[\"wavelength\"].max()\n",
    "\n",
    "frames = chopper_cascade.FrameSequence.from_source_pulse(\n",
    "    time_min=pulse_tmin,\n",
    "    time_max=pulse_tmax,\n",
    "    wavelength_min=pulse_wmin,\n",
    "    wavelength_max=pulse_wmax,\n",
    ")"
   ]
  },
  {
   "cell_type": "markdown",
   "id": "22",
   "metadata": {},
   "source": [
    "### Propagate the neutrons through the choppers\n",
    "\n",
    "We are now able to propagate the pulse of neutrons through the chopper cascade,\n",
    "chopping away the parts of the pulse that do not make it through.\n",
    "\n",
    "For this, we need to decide how far we want to propagate the neutrons, by choosing a distance to our detector.\n",
    "We set this to 32 meters here."
   ]
  },
  {
   "cell_type": "code",
   "execution_count": null,
   "id": "23",
   "metadata": {},
   "outputs": [],
   "source": [
    "# Chop the frames\n",
    "chopped = frames.chop(choppers.values())\n",
    "\n",
    "# Propagate the neutrons to the detector\n",
    "at_sample = chopped.propagate_to(Ltotal)\n",
    "\n",
    "# Visualize the results\n",
    "cascade_fig, cascade_ax = at_sample.draw()"
   ]
  },
  {
   "cell_type": "markdown",
   "id": "24",
   "metadata": {},
   "source": [
    "We can now see that at the detector (pink color), we have 2 sub-pulses of neutrons,\n",
    "where the longest wavelength of one frame is very close to the shortest wavelength of the next frame."
   ]
  },
  {
   "cell_type": "markdown",
   "id": "25",
   "metadata": {},
   "source": [
    "## Computing the time-of-flight coordinate using Sciline\n",
    "\n",
    "### Setting up the workflow\n",
    "\n",
    "We will now construct a workflow to compute the `time-of-flight` coordinate from the neutron events above,\n",
    "taking into account the choppers in the beamline."
   ]
  },
  {
   "cell_type": "code",
   "execution_count": null,
   "id": "26",
   "metadata": {},
   "outputs": [],
   "source": [
    "workflow = sl.Pipeline(\n",
    "    unwrap.unwrap_providers()\n",
    "    + unwrap.time_of_flight_providers()\n",
    "    + unwrap.time_of_flight_origin_from_choppers_providers(wfm=True)\n",
    ")\n",
    "\n",
    "workflow[unwrap.PulsePeriod] = sc.reciprocal(ess_beamline.source.frequency)\n",
    "workflow[unwrap.PulseStride | None] = None\n",
    "workflow[unwrap.SourceTimeRange] = pulse_tmin, pulse_tmax\n",
    "workflow[unwrap.SourceWavelengthRange] = pulse_wmin, pulse_wmax\n",
    "workflow[unwrap.Choppers] = choppers\n",
    "\n",
    "workflow[unwrap.Ltotal] = Ltotal\n",
    "workflow[unwrap.RawData] = raw_data\n",
    "\n",
    "workflow.visualize(unwrap.TofData)"
   ]
  },
  {
   "cell_type": "markdown",
   "id": "27",
   "metadata": {},
   "source": [
    "### Checking the frame bounds\n",
    "\n",
    "We can check that the bounds for the frames the workflow computes agrees with the chopper-cascade diagram"
   ]
  },
  {
   "cell_type": "code",
   "execution_count": null,
   "id": "28",
   "metadata": {},
   "outputs": [],
   "source": [
    "bounds = workflow.compute(unwrap.CleanFrameAtDetector).subbounds()\n",
    "bounds"
   ]
  },
  {
   "cell_type": "code",
   "execution_count": null,
   "id": "29",
   "metadata": {},
   "outputs": [],
   "source": [
    "for b in sc.collapse(bounds[\"time\"], keep=\"bound\").values():\n",
    "    cascade_ax.axvspan(\n",
    "        b[0].to(unit=\"ms\").value,\n",
    "        b[1].to(unit=\"ms\").value,\n",
    "        color=\"gray\",\n",
    "        alpha=0.2,\n",
    "        zorder=-5,\n",
    "    )\n",
    "\n",
    "cascade_fig"
   ]
  },
  {
   "attachments": {},
   "cell_type": "markdown",
   "id": "30",
   "metadata": {},
   "source": [
    "There should be one vertical band matching the extent of each pink polygon, which there is.\n",
    "\n",
    "### Computing a time-of-flight coordinate\n",
    "\n",
    "We will now use our workflow to obtain our event data with a time-of-flight coordinate:"
   ]
  },
  {
   "cell_type": "code",
   "execution_count": null,
   "id": "31",
   "metadata": {},
   "outputs": [],
   "source": [
    "tofs = workflow.compute(unwrap.TofData)\n",
    "tofs"
   ]
  },
  {
   "cell_type": "markdown",
   "id": "32",
   "metadata": {},
   "source": [
    "Histogramming the data for a plot should show a profile with 6 bumps that correspond to the frames:"
   ]
  },
  {
   "cell_type": "code",
   "execution_count": null,
   "id": "33",
   "metadata": {},
   "outputs": [],
   "source": [
    "tofs.bins.concat().hist(tof=300).plot()"
   ]
  },
  {
   "cell_type": "markdown",
   "id": "34",
   "metadata": {},
   "source": [
    "### Converting to wavelength\n",
    "\n",
    "We can now convert our new time-of-flight coordinate to a neutron wavelength, using `tranform_coords`:"
   ]
  },
  {
   "cell_type": "code",
   "execution_count": null,
   "id": "35",
   "metadata": {},
   "outputs": [],
   "source": [
    "from scippneutron.conversion.graph.beamline import beamline\n",
    "from scippneutron.conversion.graph.tof import elastic\n",
    "\n",
    "# Perform coordinate transformation\n",
    "graph = {**beamline(scatter=False), **elastic(\"tof\")}\n",
    "wav_wfm = tofs.transform_coords(\"wavelength\", graph=graph)\n",
    "\n",
    "# Define wavelength bin edges\n",
    "wavs = sc.linspace(\"wavelength\", 0.8, 4.6, 201, unit=\"angstrom\")\n",
    "\n",
    "wav_wfm.hist(wavelength=wavs).sum(\"pulse\").plot()"
   ]
  },
  {
   "cell_type": "markdown",
   "id": "36",
   "metadata": {},
   "source": [
    "### Comparing to the ground truth\n",
    "\n",
    "As a consistency check, because we actually know the wavelengths of the neutrons we created,\n",
    "we can compare the true neutron wavelengths to those we computed above."
   ]
  },
  {
   "cell_type": "code",
   "execution_count": null,
   "id": "37",
   "metadata": {},
   "outputs": [],
   "source": [
    "ground_truth = ess_beamline.model_result[\"detector\"].data.flatten(to=\"event\")\n",
    "ground_truth = ground_truth[~ground_truth.masks[\"blocked_by_others\"]]\n",
    "\n",
    "pp.plot(\n",
    "    {\n",
    "        \"wfm\": wav_wfm.hist(wavelength=wavs).sum(\"pulse\"),\n",
    "        \"ground_truth\": ground_truth.hist(wavelength=wavs),\n",
    "    }\n",
    ")"
   ]
  },
  {
   "cell_type": "markdown",
   "id": "38",
   "metadata": {},
   "source": [
    "## Multiple detector pixels\n",
    "\n",
    "It is also possible to compute the neutron time-of-flight for multiple detector pixels at once,\n",
    "where every pixel has different frame bounds\n",
    "(because every pixel is at a different distance from the source).\n",
    "\n",
    "In our setup, we simply propagate the same neutrons to multiple detector pixels,\n",
    "as if they were not absorbed by the first pixel they meet."
   ]
  },
  {
   "cell_type": "code",
   "execution_count": null,
   "id": "39",
   "metadata": {},
   "outputs": [],
   "source": [
    "Ltotal = sc.array(dims=['detector_number'], values=[77.675, 76.0], unit='m')\n",
    "monitors = {\n",
    "        f\"detector{i}\": ltot for i, ltot in enumerate(Ltotal)\n",
    "    }\n",
    "\n",
    "ess_beamline = FakeBeamlineEss(\n",
    "    choppers=choppers,\n",
    "    monitors=monitors,\n",
    "    run_length=sc.scalar(1 / 14, unit=\"s\") * 4,\n",
    "    events_per_pulse=200_000,\n",
    ")"
   ]
  },
  {
   "cell_type": "markdown",
   "id": "40",
   "metadata": {},
   "source": [
    "Our raw data has now a `detector_number` dimension of length 2.\n",
    "\n",
    "We can plot the neutron `event_time_offset` for the two detector pixels and see that the offsets are shifted to the left for the pixel that is closest to the source."
   ]
  },
  {
   "cell_type": "code",
   "execution_count": null,
   "id": "41",
   "metadata": {},
   "outputs": [],
   "source": [
    "raw_data = sc.concat(\n",
    "        [ess_beamline.get_monitor(key) for key in monitors.keys()],\n",
    "        dim='detector_number',\n",
    "    )\n",
    "\n",
    "# Visualize\n",
    "pp.plot(sc.collapse(raw_data.hist(event_time_offset=300).sum(\"pulse\"), keep='event_time_offset'))"
   ]
  },
  {
   "cell_type": "markdown",
   "id": "42",
   "metadata": {},
   "source": [
    "Computing time-of-flight is done in the same way as above.\n",
    "We need to remember to update our workflow:"
   ]
  },
  {
   "cell_type": "code",
   "execution_count": null,
   "id": "43",
   "metadata": {},
   "outputs": [],
   "source": [
    "# Update workflow\n",
    "workflow[unwrap.Ltotal] = Ltotal\n",
    "workflow[unwrap.RawData] = raw_data\n",
    "\n",
    "# Compute tofs and wavelengths\n",
    "tofs = workflow.compute(unwrap.TofData)\n",
    "wav_wfm = tofs.transform_coords(\"wavelength\", graph=graph)\n",
    "\n",
    "# Compare in plot\n",
    "ground_truth = []\n",
    "for det in ess_beamline.monitors:\n",
    "    data = ess_beamline.model_result[det.name].data.flatten(to=\"event\")\n",
    "    ground_truth.append(data[~data.masks[\"blocked_by_others\"]])\n",
    "\n",
    "figs = [\n",
    "    pp.plot(\n",
    "        {\n",
    "            \"wfm\": wav_wfm['detector_number', i].bins.concat().hist(wavelength=wavs),\n",
    "            \"ground_truth\": ground_truth[i].hist(wavelength=wavs),\n",
    "        }, title=f\"Pixel {i+1}\"\n",
    "    ) for i in range(len(Ltotal))\n",
    "]\n",
    "\n",
    "figs[0] + figs[1]"
   ]
  },
  {
   "cell_type": "markdown",
   "id": "44",
   "metadata": {},
   "source": [
    "## Handling time overlap between subframes\n",
    "\n",
    "In some (relatively rare) cases, where a chopper cascade is slightly ill-defined,\n",
    "it is sometimes possible for some subframes to overlap in time with other subframes.\n",
    "\n",
    "This is basically when neutrons passed through different pulse-shaping chopper openings,\n",
    "but arrive at the same time at the detector.\n",
    "\n",
    "In this case, it is actually not possible to accurately determine the wavelength of the neutrons.\n",
    "ScippNeutron handles this by clipping the overlapping regions and throwing away any neutrons that lie within it.\n",
    "\n",
    "To simulate this, we modify slightly the phase and the cutouts of the band-control chopper:"
   ]
  },
  {
   "cell_type": "code",
   "execution_count": null,
   "id": "45",
   "metadata": {},
   "outputs": [],
   "source": [
    "disk_choppers['bcc'] = DiskChopper(\n",
    "    frequency=sc.scalar(112.0, unit=\"Hz\"),\n",
    "    beam_position=sc.scalar(0.0, unit=\"deg\"),\n",
    "    phase=sc.scalar(240 - 180, unit=\"deg\"),\n",
    "    axle_position=sc.vector(value=[0, 0, 9.78], unit=\"m\"),\n",
    "    slit_begin=sc.array(dims=[\"cutout\"], values=[-36.875, 143.125], unit=\"deg\"),\n",
    "    slit_end=sc.array(dims=[\"cutout\"], values=[46.875, 216.875], unit=\"deg\"),\n",
    "    slit_height=sc.scalar(10.0, unit=\"cm\"),\n",
    "    radius=sc.scalar(30.0, unit=\"cm\"),\n",
    ")\n",
    "\n",
    "\n",
    "# Update the choppers\n",
    "choppers = {\n",
    "    key: chopper_cascade.Chopper.from_disk_chopper(\n",
    "        chop,\n",
    "        pulse_frequency=sc.scalar(14.0, unit=\"Hz\"),\n",
    "        npulses=1,\n",
    "    )\n",
    "    for key, chop in disk_choppers.items()\n",
    "}\n",
    "\n",
    "# Go back to a single detector pixel\n",
    "Ltotal = sc.scalar(76.55 + 1.125, unit=\"m\")\n",
    "\n",
    "ess_beamline = FakeBeamlineEss(\n",
    "    choppers=choppers,\n",
    "    monitors={\"detector\": Ltotal},\n",
    "    run_length=sc.scalar(1 / 14, unit=\"s\") * 4,\n",
    "    events_per_pulse=200_000,\n",
    ")\n",
    "\n",
    "ess_beamline.model_result.plot()"
   ]
  },
  {
   "cell_type": "markdown",
   "id": "46",
   "metadata": {},
   "source": [
    "We can now see that there is no longer a gap between the two frames at the center of each pulse (green region).\n",
    "\n",
    "Another way of looking at this is making the chopper-cascade diagram and zooming in on the last frame (pink),\n",
    "which also show overlap in time:"
   ]
  },
  {
   "cell_type": "code",
   "execution_count": null,
   "id": "47",
   "metadata": {},
   "outputs": [],
   "source": [
    "# Chop the frames\n",
    "chopped = frames.chop(choppers.values())\n",
    "\n",
    "# Propagate the neutrons to the detector\n",
    "at_sample = chopped.propagate_to(Ltotal)\n",
    "\n",
    "# Visualize the results\n",
    "cascade_fig, cascade_ax = at_sample.draw()\n",
    "cascade_ax.set_xlim(45.0, 58.0)\n",
    "cascade_ax.set_ylim(2.0, 3.0)"
   ]
  },
  {
   "cell_type": "markdown",
   "id": "48",
   "metadata": {},
   "source": [
    "We now update our workflow with the new choppers and raw data,\n",
    "compute the frame bounds and overlay them on the figure."
   ]
  },
  {
   "cell_type": "code",
   "execution_count": null,
   "id": "49",
   "metadata": {},
   "outputs": [],
   "source": [
    "workflow[unwrap.Choppers] = choppers\n",
    "workflow[unwrap.Ltotal] = Ltotal\n",
    "workflow[unwrap.RawData] = ess_beamline.get_monitor(\"detector\")\n",
    "\n",
    "\n",
    "bounds = workflow.compute(unwrap.CleanFrameAtDetector).subbounds()\n",
    "\n",
    "for b in sc.collapse(bounds[\"time\"], keep=\"bound\").values():\n",
    "    cascade_ax.axvspan(\n",
    "        b[0].to(unit=\"ms\").value,\n",
    "        b[1].to(unit=\"ms\").value,\n",
    "        color=\"gray\",\n",
    "        alpha=0.2,\n",
    "        zorder=-5,\n",
    "    )\n",
    "\n",
    "cascade_fig"
   ]
  },
  {
   "cell_type": "markdown",
   "id": "50",
   "metadata": {},
   "source": [
    "We see that instead of having overlapping bounds, the region in the middle has been excluded.\n",
    "\n",
    "This means that the neutrons in the overlapping region will be discarded in the time-of-flight calculation\n",
    "(in practice, they are given a NaN value as a time-of-flight).\n",
    "\n",
    "This is visible when comparing to the true neutron wavelengths,\n",
    "where we see that some counts were lost between the two frames."
   ]
  },
  {
   "cell_type": "code",
   "execution_count": null,
   "id": "51",
   "metadata": {},
   "outputs": [],
   "source": [
    "# Compute time-of-flight\n",
    "tofs = workflow.compute(unwrap.TofData)\n",
    "# Compute wavelength\n",
    "wav_wfm = tofs.transform_coords(\"wavelength\", graph=graph)\n",
    "\n",
    "# Compare to the true wavelengths\n",
    "ground_truth = ess_beamline.model_result[\"detector\"].data.flatten(to=\"event\")\n",
    "ground_truth = ground_truth[~ground_truth.masks[\"blocked_by_others\"]]\n",
    "\n",
    "pp.plot(\n",
    "    {\n",
    "        \"wfm\": wav_wfm.hist(wavelength=wavs).sum(\"pulse\"),\n",
    "        \"ground_truth\": ground_truth.hist(wavelength=wavs),\n",
    "    }\n",
    ")"
   ]
  }
 ],
 "metadata": {
  "kernelspec": {
   "display_name": "Python 3 (ipykernel)",
   "language": "python",
   "name": "python3"
  },
  "language_info": {
   "codemirror_mode": {
    "name": "ipython",
    "version": 3
   },
   "file_extension": ".py",
   "mimetype": "text/x-python",
   "name": "python",
   "nbconvert_exporter": "python",
   "pygments_lexer": "ipython3"
  }
 },
 "nbformat": 4,
 "nbformat_minor": 5
}
