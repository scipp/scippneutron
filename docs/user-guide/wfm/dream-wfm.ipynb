{
 "cells": [
  {
   "cell_type": "markdown",
   "id": "0",
   "metadata": {},
   "source": [
    "# DREAM in WFM mode\n",
    "\n",
    "In this notebook, we show how to use Scippneutron's `tof` module to find the boundaries of the WFM frames for the DREAM instrument.\n",
    "We then apply a time correction to each frame to compute a time-of-flight coordinate, from which a wavelength can be derived."
   ]
  },
  {
   "cell_type": "code",
   "execution_count": null,
   "id": "1",
   "metadata": {},
   "outputs": [],
   "source": [
    "import plopp as pp\n",
    "import scipp as sc\n",
    "import sciline as sl\n",
    "from scippneutron.chopper import DiskChopper\n",
    "from scippneutron.tof import unwrap"
   ]
  },
  {
   "cell_type": "markdown",
   "id": "2",
   "metadata": {},
   "source": [
    "## Setting up the beamline\n",
    "\n",
    "### Creating the beamline choppers\n",
    "\n",
    "We begin by defining the chopper settings for our beamline.\n",
    "In principle, the chopper setting could simply be read from a NeXus file.\n",
    "\n",
    "The DREAM instrument has\n",
    "\n",
    "- 2 pulse-shaping choppers (PSC)\n",
    "- 1 overlap chopper (OC)\n",
    "- 1 band-control chopper (BCC)\n",
    "- 1 T0 chopper"
   ]
  },
  {
   "cell_type": "code",
   "execution_count": null,
   "id": "3",
   "metadata": {},
   "outputs": [],
   "source": [
    "psc1 = DiskChopper(\n",
    "    frequency=sc.scalar(14.0, unit=\"Hz\"),\n",
    "    beam_position=sc.scalar(0.0, unit=\"deg\"),\n",
    "    phase=sc.scalar(286 - 180, unit=\"deg\"),\n",
    "    axle_position=sc.vector(value=[0, 0, 6.145], unit=\"m\"),\n",
    "    slit_begin=sc.array(\n",
    "        dims=[\"cutout\"],\n",
    "        values=[-1.23, 70.49, 84.765, 113.565, 170.29, 271.635, 286.035, 301.17],\n",
    "        unit=\"deg\",\n",
    "    ),\n",
    "    slit_end=sc.array(\n",
    "        dims=[\"cutout\"],\n",
    "        values=[1.23, 73.51, 88.035, 116.835, 175.31, 275.565, 289.965, 303.63],\n",
    "        unit=\"deg\",\n",
    "    ),\n",
    "    slit_height=sc.scalar(10.0, unit=\"cm\"),\n",
    "    radius=sc.scalar(30.0, unit=\"cm\"),\n",
    ")\n",
    "\n",
    "psc2 = DiskChopper(\n",
    "    frequency=sc.scalar(-14.0, unit=\"Hz\"),\n",
    "    beam_position=sc.scalar(0.0, unit=\"deg\"),\n",
    "    phase=sc.scalar(-236, unit=\"deg\"),\n",
    "    axle_position=sc.vector(value=[0, 0, 6.155], unit=\"m\"),\n",
    "    slit_begin=sc.array(\n",
    "        dims=[\"cutout\"],\n",
    "        values=[-1.23, 27.0, 55.8, 142.385, 156.765, 214.115, 257.23, 315.49],\n",
    "        unit=\"deg\",\n",
    "    ),\n",
    "    slit_end=sc.array(\n",
    "        dims=[\"cutout\"],\n",
    "        values=[1.23, 30.6, 59.4, 145.615, 160.035, 217.885, 261.17, 318.11],\n",
    "        unit=\"deg\",\n",
    "    ),\n",
    "    slit_height=sc.scalar(10.0, unit=\"cm\"),\n",
    "    radius=sc.scalar(30.0, unit=\"cm\"),\n",
    ")\n",
    "\n",
    "oc = DiskChopper(\n",
    "    frequency=sc.scalar(14.0, unit=\"Hz\"),\n",
    "    beam_position=sc.scalar(0.0, unit=\"deg\"),\n",
    "    phase=sc.scalar(297 - 180 - 90, unit=\"deg\"),\n",
    "    axle_position=sc.vector(value=[0, 0, 6.174], unit=\"m\"),\n",
    "    slit_begin=sc.array(dims=[\"cutout\"], values=[-27.6 * 0.5], unit=\"deg\"),\n",
    "    slit_end=sc.array(dims=[\"cutout\"], values=[27.6 * 0.5], unit=\"deg\"),\n",
    "    slit_height=sc.scalar(10.0, unit=\"cm\"),\n",
    "    radius=sc.scalar(30.0, unit=\"cm\"),\n",
    ")\n",
    "\n",
    "bcc = DiskChopper(\n",
    "    frequency=sc.scalar(112.0, unit=\"Hz\"),\n",
    "    beam_position=sc.scalar(0.0, unit=\"deg\"),\n",
    "    phase=sc.scalar(240 - 180, unit=\"deg\"),\n",
    "    axle_position=sc.vector(value=[0, 0, 9.78], unit=\"m\"),\n",
    "    slit_begin=sc.array(dims=[\"cutout\"], values=[-36.875, 143.125], unit=\"deg\"),\n",
    "    slit_end=sc.array(dims=[\"cutout\"], values=[36.875, 216.875], unit=\"deg\"),\n",
    "    slit_height=sc.scalar(10.0, unit=\"cm\"),\n",
    "    radius=sc.scalar(30.0, unit=\"cm\"),\n",
    ")\n",
    "\n",
    "t0 = DiskChopper(\n",
    "    frequency=sc.scalar(28.0, unit=\"Hz\"),\n",
    "    beam_position=sc.scalar(0.0, unit=\"deg\"),\n",
    "    phase=sc.scalar(280 - 180, unit=\"deg\"),\n",
    "    axle_position=sc.vector(value=[0, 0, 13.05], unit=\"m\"),\n",
    "    slit_begin=sc.array(dims=[\"cutout\"], values=[-314.9 * 0.5], unit=\"deg\"),\n",
    "    slit_end=sc.array(dims=[\"cutout\"], values=[314.9 * 0.5], unit=\"deg\"),\n",
    "    slit_height=sc.scalar(10.0, unit=\"cm\"),\n",
    "    radius=sc.scalar(30.0, unit=\"cm\"),\n",
    ")\n",
    "\n",
    "disk_choppers = {\"psc1\": psc1, \"psc2\": psc2, \"oc\": oc, \"bcc\": bcc, \"t0\": t0}"
   ]
  },
  {
   "cell_type": "markdown",
   "id": "4",
   "metadata": {},
   "source": [
    "It is possible to visualize the properties of the choppers by inspecting their `repr`:"
   ]
  },
  {
   "cell_type": "code",
   "execution_count": null,
   "id": "5",
   "metadata": {},
   "outputs": [],
   "source": [
    "psc2"
   ]
  },
  {
   "cell_type": "markdown",
   "id": "6",
   "metadata": {},
   "source": [
    "### Adding a detector"
   ]
  },
  {
   "cell_type": "code",
   "execution_count": null,
   "id": "7",
   "metadata": {},
   "outputs": [],
   "source": [
    "Ltotal = sc.scalar(76.55 + 1.125, unit=\"m\")"
   ]
  },
  {
   "cell_type": "markdown",
   "id": "8",
   "metadata": {},
   "source": [
    "## Creating some neutron events\n",
    "\n",
    "We create a semi-realistic set of neutron events based on the ESS pulse."
   ]
  },
  {
   "cell_type": "code",
   "execution_count": null,
   "id": "9",
   "metadata": {},
   "outputs": [],
   "source": [
    "from scippneutron.tof.fakes import FakeBeamlineEss\n",
    "\n",
    "ess_beamline = FakeBeamlineEss(\n",
    "    choppers=disk_choppers,\n",
    "    monitors={\"detector\": Ltotal},\n",
    "    run_length=sc.scalar(1 / 14, unit=\"s\") * 4,\n",
    "    events_per_pulse=200_000,\n",
    ")"
   ]
  },
  {
   "cell_type": "markdown",
   "id": "10",
   "metadata": {},
   "source": [
    "The initial birth times and wavelengths of the generated neutrons can be visualized (for a single pulse):"
   ]
  },
  {
   "cell_type": "code",
   "execution_count": null,
   "id": "11",
   "metadata": {},
   "outputs": [],
   "source": [
    "one_pulse = ess_beamline.source.data[\"pulse\", 0]\n",
    "one_pulse.hist(time=300).plot() + one_pulse.hist(wavelength=300).plot()"
   ]
  },
  {
   "cell_type": "code",
   "execution_count": null,
   "id": "12",
   "metadata": {},
   "outputs": [],
   "source": [
    "ess_beamline.model_result.plot()"
   ]
  },
  {
   "cell_type": "markdown",
   "id": "13",
   "metadata": {},
   "source": [
    "From this fake beamline, we extract the raw neutron signal at our detector:"
   ]
  },
  {
   "cell_type": "code",
   "execution_count": null,
   "id": "14",
   "metadata": {},
   "outputs": [],
   "source": [
    "raw_data = ess_beamline.get_monitor(\"detector\")[0]\n",
    "\n",
    "# Visualize\n",
    "raw_data.hist(event_time_offset=300).sum(\"pulse\").plot()"
   ]
  },
  {
   "cell_type": "markdown",
   "id": "15",
   "metadata": {},
   "source": [
    "The total number of neutrons in our sample data that make it through the to detector is:"
   ]
  },
  {
   "cell_type": "code",
   "execution_count": null,
   "id": "16",
   "metadata": {},
   "outputs": [],
   "source": [
    "raw_data.sum().value"
   ]
  },
  {
   "cell_type": "markdown",
   "id": "17",
   "metadata": {},
   "source": [
    "## Computing time-of-flight\n",
    "\n",
    "The chopper information is next used to construct a lookup table that provides an estimate of the real time-of-flight as a function of neutron time-of-arrival.\n",
    "\n",
    "We use the `tof` module to propagate a pulse of neutrons through the chopper system to the detectors,\n",
    "and predict the most likely neutron wavelength for a given time-of-arrival and distance from source.\n",
    "\n",
    "From this,\n",
    "we build a lookup table on which bilinear interpolation is used to compute a wavelength (and its corresponding time-of-flight)\n",
    "for every neutron event.\n",
    "\n",
    "### Setting up the workflow"
   ]
  },
  {
   "cell_type": "code",
   "execution_count": null,
   "id": "18",
   "metadata": {},
   "outputs": [],
   "source": [
    "workflow = sl.Pipeline(unwrap.providers(), params=unwrap.params())\n",
    "\n",
    "workflow[unwrap.Facility] = \"ess\"\n",
    "workflow[unwrap.Choppers] = disk_choppers\n",
    "workflow[unwrap.RawData] = raw_data\n",
    "workflow[unwrap.Ltotal] = Ltotal\n",
    "\n",
    "workflow.visualize(unwrap.TofData)"
   ]
  },
  {
   "cell_type": "markdown",
   "id": "19",
   "metadata": {},
   "source": [
    "### Inspecting the lookup table\n",
    "\n",
    "The workflow first runs a `tof` simulation using the chopper parameters above,\n",
    "and the result is stored in `SimulationResults` (see graph above).\n",
    "\n",
    "From these simulated neutrons, we create figures displaying the neutron wavelengths and time-of-flight,\n",
    "as a function of arrival time at the detector.\n",
    "\n",
    "This is the basis for creating our lookup table."
   ]
  },
  {
   "cell_type": "code",
   "execution_count": null,
   "id": "20",
   "metadata": {},
   "outputs": [],
   "source": [
    "sim = workflow.compute(unwrap.SimulationResults)\n",
    "# Compute time-of-arrival at the detector\n",
    "tarrival = sim.time_of_arrival + ((Ltotal - sim.distance) / sim.speed).to(unit=\"us\")\n",
    "# Compute time-of-flight at the detector\n",
    "tflight = (Ltotal / sim.speed).to(unit=\"us\")\n",
    "\n",
    "events = sc.DataArray(\n",
    "    data=sim.weight,\n",
    "    coords={\"wavelength\": sim.wavelength, \"toa\": tarrival, \"tof\": tflight},\n",
    ")\n",
    "fig1 = events.hist(wavelength=300, toa=300).plot(norm=\"log\")\n",
    "fig2 = events.hist(tof=300, toa=300).plot(norm=\"log\")\n",
    "fig1 + fig2"
   ]
  },
  {
   "cell_type": "markdown",
   "id": "21",
   "metadata": {},
   "source": [
    "The lookup table is then obtained by computing the weighted mean of the time-of-flight inside each time-of-arrival bin.\n",
    "\n",
    "This is illustrated by the orange line in the figure below:"
   ]
  },
  {
   "cell_type": "code",
   "execution_count": null,
   "id": "22",
   "metadata": {},
   "outputs": [],
   "source": [
    "table = workflow.compute(unwrap.TimeOfFlightLookupTable)\n",
    "\n",
    "# Overlay mean on the figure above\n",
    "table[\"distance\", 1].plot(ax=fig2.ax, color=\"C1\")"
   ]
  },
  {
   "attachments": {},
   "cell_type": "markdown",
   "id": "23",
   "metadata": {},
   "source": [
    "### Computing a time-of-flight coordinate\n",
    "\n",
    "We will now use our workflow to obtain our event data with a time-of-flight coordinate:"
   ]
  },
  {
   "cell_type": "code",
   "execution_count": null,
   "id": "24",
   "metadata": {},
   "outputs": [],
   "source": [
    "tofs = workflow.compute(unwrap.TofData)\n",
    "tofs"
   ]
  },
  {
   "cell_type": "markdown",
   "id": "25",
   "metadata": {},
   "source": [
    "Histogramming the data for a plot should show a profile with 6 bumps that correspond to the frames:"
   ]
  },
  {
   "cell_type": "code",
   "execution_count": null,
   "id": "26",
   "metadata": {},
   "outputs": [],
   "source": [
    "tofs.bins.concat().hist(tof=300).plot()"
   ]
  },
  {
   "cell_type": "markdown",
   "id": "27",
   "metadata": {},
   "source": [
    "### Converting to wavelength\n",
    "\n",
    "We can now convert our new time-of-flight coordinate to a neutron wavelength, using `tranform_coords`:"
   ]
  },
  {
   "cell_type": "code",
   "execution_count": null,
   "id": "28",
   "metadata": {},
   "outputs": [],
   "source": [
    "from scippneutron.conversion.graph.beamline import beamline\n",
    "from scippneutron.conversion.graph.tof import elastic\n",
    "\n",
    "# Perform coordinate transformation\n",
    "graph = {**beamline(scatter=False), **elastic(\"tof\")}\n",
    "wav_wfm = tofs.transform_coords(\"wavelength\", graph=graph)\n",
    "\n",
    "# Define wavelength bin edges\n",
    "wavs = sc.linspace(\"wavelength\", 0.8, 4.6, 201, unit=\"angstrom\")\n",
    "\n",
    "wav_wfm.hist(wavelength=wavs).sum(\"pulse\").plot()"
   ]
  },
  {
   "cell_type": "markdown",
   "id": "29",
   "metadata": {},
   "source": [
    "### Comparing to the ground truth\n",
    "\n",
    "As a consistency check, because we actually know the wavelengths of the neutrons we created,\n",
    "we can compare the true neutron wavelengths to those we computed above."
   ]
  },
  {
   "cell_type": "code",
   "execution_count": null,
   "id": "30",
   "metadata": {},
   "outputs": [],
   "source": [
    "ground_truth = ess_beamline.model_result[\"detector\"].data.flatten(to=\"event\")\n",
    "ground_truth = ground_truth[~ground_truth.masks[\"blocked_by_others\"]]\n",
    "\n",
    "pp.plot(\n",
    "    {\n",
    "        \"wfm\": wav_wfm.hist(wavelength=wavs).sum(\"pulse\"),\n",
    "        \"ground_truth\": ground_truth.hist(wavelength=wavs),\n",
    "    }\n",
    ")"
   ]
  },
  {
   "cell_type": "markdown",
   "id": "31",
   "metadata": {},
   "source": [
    "## Multiple detector pixels\n",
    "\n",
    "It is also possible to compute the neutron time-of-flight for multiple detector pixels at once,\n",
    "where every pixel has different frame bounds\n",
    "(because every pixel is at a different distance from the source).\n",
    "\n",
    "In our setup, we simply propagate the same neutrons to multiple detector pixels,\n",
    "as if they were not absorbed by the first pixel they meet."
   ]
  },
  {
   "cell_type": "code",
   "execution_count": null,
   "id": "32",
   "metadata": {},
   "outputs": [],
   "source": [
    "Ltotal = sc.array(dims=[\"detector_number\"], values=[77.675, 76.0], unit=\"m\")\n",
    "monitors = {f\"detector{i}\": ltot for i, ltot in enumerate(Ltotal)}\n",
    "\n",
    "ess_beamline = FakeBeamlineEss(\n",
    "    choppers=disk_choppers,\n",
    "    monitors=monitors,\n",
    "    run_length=sc.scalar(1 / 14, unit=\"s\") * 4,\n",
    "    events_per_pulse=200_000,\n",
    ")"
   ]
  },
  {
   "cell_type": "markdown",
   "id": "33",
   "metadata": {},
   "source": [
    "Our raw data has now a `detector_number` dimension of length 2.\n",
    "\n",
    "We can plot the neutron `event_time_offset` for the two detector pixels and see that the offsets are shifted to the left for the pixel that is closest to the source."
   ]
  },
  {
   "cell_type": "code",
   "execution_count": null,
   "id": "34",
   "metadata": {},
   "outputs": [],
   "source": [
    "raw_data = sc.concat(\n",
    "    [ess_beamline.get_monitor(key)[0] for key in monitors.keys()],\n",
    "    dim=\"detector_number\",\n",
    ")\n",
    "\n",
    "# Visualize\n",
    "pp.plot(\n",
    "    sc.collapse(\n",
    "        raw_data.hist(event_time_offset=300).sum(\"pulse\"), keep=\"event_time_offset\"\n",
    "    )\n",
    ")"
   ]
  },
  {
   "cell_type": "markdown",
   "id": "35",
   "metadata": {},
   "source": [
    "Computing time-of-flight is done in the same way as above.\n",
    "We need to remember to update our workflow:"
   ]
  },
  {
   "cell_type": "code",
   "execution_count": null,
   "id": "36",
   "metadata": {},
   "outputs": [],
   "source": [
    "# Update workflow\n",
    "workflow[unwrap.Ltotal] = Ltotal\n",
    "workflow[unwrap.RawData] = raw_data\n",
    "\n",
    "# Compute tofs and wavelengths\n",
    "tofs = workflow.compute(unwrap.TofData)\n",
    "wav_wfm = tofs.transform_coords(\"wavelength\", graph=graph)\n",
    "\n",
    "# Compare in plot\n",
    "ground_truth = []\n",
    "for det in ess_beamline.monitors:\n",
    "    data = ess_beamline.model_result[det.name].data.flatten(to=\"event\")\n",
    "    ground_truth.append(data[~data.masks[\"blocked_by_others\"]])\n",
    "\n",
    "figs = [\n",
    "    pp.plot(\n",
    "        {\n",
    "            \"wfm\": wav_wfm[\"detector_number\", i].bins.concat().hist(wavelength=wavs),\n",
    "            \"ground_truth\": ground_truth[i].hist(wavelength=wavs),\n",
    "        },\n",
    "        title=f\"Pixel {i+1}\",\n",
    "    )\n",
    "    for i in range(len(Ltotal))\n",
    "]\n",
    "\n",
    "figs[0] + figs[1]"
   ]
  },
  {
   "cell_type": "markdown",
   "id": "37",
   "metadata": {},
   "source": [
    "## Handling time overlap between subframes\n",
    "\n",
    "In some (relatively rare) cases, where a chopper cascade is slightly ill-defined,\n",
    "it is sometimes possible for some subframes to overlap in time with other subframes.\n",
    "\n",
    "This is basically when neutrons passed through different pulse-shaping chopper openings,\n",
    "but arrive at the same time at the detector.\n",
    "\n",
    "In this case, it is actually not possible to accurately determine the wavelength of the neutrons.\n",
    "ScippNeutron handles this by masking the overlapping regions and throwing away any neutrons that lie within it.\n",
    "\n",
    "To simulate this, we modify slightly the phase and the cutouts of the band-control chopper:"
   ]
  },
  {
   "cell_type": "code",
   "execution_count": null,
   "id": "38",
   "metadata": {},
   "outputs": [],
   "source": [
    "disk_choppers[\"bcc\"] = DiskChopper(\n",
    "    frequency=sc.scalar(112.0, unit=\"Hz\"),\n",
    "    beam_position=sc.scalar(0.0, unit=\"deg\"),\n",
    "    phase=sc.scalar(240 - 180, unit=\"deg\"),\n",
    "    axle_position=sc.vector(value=[0, 0, 9.78], unit=\"m\"),\n",
    "    slit_begin=sc.array(dims=[\"cutout\"], values=[-36.875, 143.125], unit=\"deg\"),\n",
    "    slit_end=sc.array(dims=[\"cutout\"], values=[46.875, 216.875], unit=\"deg\"),\n",
    "    slit_height=sc.scalar(10.0, unit=\"cm\"),\n",
    "    radius=sc.scalar(30.0, unit=\"cm\"),\n",
    ")\n",
    "\n",
    "# Go back to a single detector pixel\n",
    "Ltotal = sc.scalar(76.55 + 1.125, unit=\"m\")\n",
    "\n",
    "ess_beamline = FakeBeamlineEss(\n",
    "    choppers=disk_choppers,\n",
    "    monitors={\"detector\": Ltotal},\n",
    "    run_length=sc.scalar(1 / 14, unit=\"s\") * 4,\n",
    "    events_per_pulse=200_000,\n",
    ")\n",
    "\n",
    "# Update workflow\n",
    "workflow[unwrap.Ltotal] = Ltotal\n",
    "workflow[unwrap.RawData] = ess_beamline.get_monitor(\"detector\")[0]\n",
    "\n",
    "ess_beamline.model_result.plot()"
   ]
  },
  {
   "cell_type": "markdown",
   "id": "39",
   "metadata": {},
   "source": [
    "We can now see that there is no longer a gap between the two frames at the center of each pulse (green region).\n",
    "\n",
    "Another way of looking at this is looking at the wavelength vs time-of-arrival plot,\n",
    "which also shows overlap in time at the junction between the two frames:"
   ]
  },
  {
   "cell_type": "code",
   "execution_count": null,
   "id": "40",
   "metadata": {},
   "outputs": [],
   "source": [
    "sim = workflow.compute(unwrap.SimulationResults)\n",
    "# Compute time-of-arrival at the detector\n",
    "tarrival = sim.time_of_arrival + ((Ltotal - sim.distance) / sim.speed).to(unit=\"us\")\n",
    "# Compute time-of-flight at the detector\n",
    "tflight = (Ltotal / sim.speed).to(unit=\"us\")\n",
    "\n",
    "events = sc.DataArray(\n",
    "    data=sim.weight,\n",
    "    coords={\"wavelength\": sim.wavelength, \"toa\": tarrival, \"tof\": tflight},\n",
    ")\n",
    "events.hist(wavelength=300, toa=300).plot(norm=\"log\")"
   ]
  },
  {
   "cell_type": "markdown",
   "id": "41",
   "metadata": {},
   "source": [
    "The data in the lookup table contains both the mean time-of-flight for each distance and time-of-arrival bin,\n",
    "but also the variance inside each bin.\n",
    "\n",
    "In the regions where there is no time overlap,\n",
    "the variance is small (the regions are close to a thin line).\n",
    "However, in the central region where overlap occurs,\n",
    "we are computing a mean between two regions which have similar 'brightness'.\n",
    "\n",
    "This leads to a large variance, and this is visible when plotting the variances on a 2D figure."
   ]
  },
  {
   "cell_type": "code",
   "execution_count": null,
   "id": "42",
   "metadata": {},
   "outputs": [],
   "source": [
    "table = workflow.compute(unwrap.TimeOfFlightLookupTable)\n",
    "table.plot() / sc.variances(table).plot(norm=\"log\")"
   ]
  },
  {
   "cell_type": "markdown",
   "id": "43",
   "metadata": {},
   "source": [
    "The workflow has a parameter which is used to mask out regions where the variance is above a certain threshold.\n",
    "\n",
    "It is difficult to automatically detector this threshold,\n",
    "as it can vary a lot depending on how much signal is received by the detectors,\n",
    "and how far the detectors are from the source.\n",
    "It is thus more robust to simply have a user tunable parameter on the workflow."
   ]
  },
  {
   "cell_type": "code",
   "execution_count": null,
   "id": "44",
   "metadata": {},
   "outputs": [],
   "source": [
    "workflow[unwrap.LookupTableVarianceThreshold] = 1.0e-3\n",
    "\n",
    "workflow.compute(unwrap.MaskedTimeOfFlightLookupTable).plot()"
   ]
  },
  {
   "cell_type": "markdown",
   "id": "45",
   "metadata": {},
   "source": [
    "We can now see that the central region is masked out.\n",
    "\n",
    "The neutrons in that region will be discarded in the time-of-flight calculation\n",
    "(in practice, they are given a NaN value as a time-of-flight).\n",
    "\n",
    "This is visible when comparing to the true neutron wavelengths,\n",
    "where we see that some counts were lost between the two frames."
   ]
  },
  {
   "cell_type": "code",
   "execution_count": null,
   "id": "46",
   "metadata": {},
   "outputs": [],
   "source": [
    "# Compute time-of-flight\n",
    "tofs = workflow.compute(unwrap.TofData)\n",
    "# Compute wavelength\n",
    "wav_wfm = tofs.transform_coords(\"wavelength\", graph=graph)\n",
    "\n",
    "# Compare to the true wavelengths\n",
    "ground_truth = ess_beamline.model_result[\"detector\"].data.flatten(to=\"event\")\n",
    "ground_truth = ground_truth[~ground_truth.masks[\"blocked_by_others\"]]\n",
    "\n",
    "pp.plot(\n",
    "    {\n",
    "        \"wfm\": wav_wfm.hist(wavelength=wavs).sum(\"pulse\"),\n",
    "        \"ground_truth\": ground_truth.hist(wavelength=wavs),\n",
    "    }\n",
    ")"
   ]
  }
 ],
 "metadata": {
  "kernelspec": {
   "display_name": "Python 3 (ipykernel)",
   "language": "python",
   "name": "python3"
  },
  "language_info": {
   "codemirror_mode": {
    "name": "ipython",
    "version": 3
   },
   "file_extension": ".py",
   "mimetype": "text/x-python",
   "name": "python",
   "nbconvert_exporter": "python",
   "pygments_lexer": "ipython3"
  }
 },
 "nbformat": 4,
 "nbformat_minor": 5
}
