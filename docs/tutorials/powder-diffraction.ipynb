{
 "cells": [
  {
   "cell_type": "markdown",
   "metadata": {},
   "source": [
    "# Neutron Powder Diffraction\n",
    "\n",
    "In this tutorial demonstrates how neutron-scattering data can be loaded, visualized, and manipulated with generic functionality from `scipp` as well as neutron-specific functionality from `scippneutron`. It focuses on reducing data from the ORNL [POWGEN](https://neutrons.ornl.gov/powgen) neutron diffractometer."
   ]
  },
  {
   "cell_type": "code",
   "execution_count": null,
   "metadata": {},
   "outputs": [],
   "source": [
    "import numpy as np\n",
    "import scipp as sc\n",
    "import scippneutron as scn"
   ]
  },
  {
   "cell_type": "markdown",
   "metadata": {},
   "source": [
    "### Loading Nexus files\n",
    "\n",
    "Loading Nexus files requires [Mantid](https://www.mantidproject.org).\n",
    "See, e.g., [Installation](https://scipp.github.io/getting-started/installation.html) on how to install scipp and Mantid with `conda`.\n",
    "\n",
    "We start by loading two files: the sample and the vanadium runs."
   ]
  },
  {
   "cell_type": "code",
   "execution_count": null,
   "metadata": {},
   "outputs": [],
   "source": [
    "sample = scn.load(\n",
    "    scn.data.get_path('PG3_4844_event.nxs'),\n",
    "    load_pulse_times=False,\n",
    "    mantid_args={'LoadMonitors': True},\n",
    ")\n",
    "vanadium = scn.load(scn.data.get_path('PG3_4866_event.nxs'), load_pulse_times=False)"
   ]
  },
  {
   "cell_type": "markdown",
   "metadata": {},
   "source": [
    "The optional `mantid_args` dict is forwarded to the Mantid algorithm used for loading the files &ndash; in this case [LoadEventNexus](https://docs.mantidproject.org/nightly/algorithms/LoadEventNexus-v1.html) &ndash; and can be used to control, e.g., which part of a file to load.\n",
    "Here we request loading monitors, which Mantid does not load by default.\n",
    "The resulting dataset looks as follows:"
   ]
  },
  {
   "cell_type": "code",
   "execution_count": null,
   "metadata": {},
   "outputs": [],
   "source": [
    "sample"
   ]
  },
  {
   "cell_type": "code",
   "execution_count": null,
   "metadata": {},
   "outputs": [],
   "source": [
    "sc.plot(sample.hist(spectrum=500, tof=400))"
   ]
  },
  {
   "cell_type": "markdown",
   "metadata": {},
   "source": [
    "### Instrument view\n",
    "\n",
    "Scipp provides a simple 3D instrument view inspired by Mantid's own [instrument view](https://www.mantidproject.org/MantidPlot:_Instrument_View), which can be used to take a quick look at the neutron counts on the detector panels in 3D space or using various cylindrical and spherical projections"
   ]
  },
  {
   "cell_type": "markdown",
   "metadata": {},
   "source": [
    "<div class=\"alert alert-info\">\n",
    "\n",
    "**Note**\n",
    "\n",
    "The support and handling of event data is currently being rewritten.\n",
    "The interface for manipulating event data (binned) data is not representative for the final API.\n",
    "\n",
    "</div>"
   ]
  },
  {
   "cell_type": "code",
   "execution_count": null,
   "metadata": {},
   "outputs": [],
   "source": [
    "scn.instrument_view(sample.hist())"
   ]
  },
  {
   "cell_type": "markdown",
   "metadata": {},
   "source": [
    "### Plot against scattering angle $\\theta$ using `bin`\n",
    "\n",
    "*This is not an essential step and can be skipped.*\n",
    "\n",
    "Plotting raw data directly yields a hard-to-interpret figure.\n",
    "We can obtain something more useful by binning the spectrum axis based on its $\\theta$ value:"
   ]
  },
  {
   "cell_type": "code",
   "execution_count": null,
   "metadata": {
    "tags": []
   },
   "outputs": [],
   "source": [
    "sample.coords['two_theta'] = scn.two_theta(sample)\n",
    "vanadium.coords['two_theta'] = scn.two_theta(vanadium)\n",
    "two_theta = sc.linspace(dim='two_theta', unit='rad', start=0.0, stop=np.pi, num=2001)"
   ]
  },
  {
   "cell_type": "markdown",
   "metadata": {},
   "source": [
    "We concatenate events lists from different spectra that fall into a given $2\\theta$ range into longer combined lists:"
   ]
  },
  {
   "cell_type": "code",
   "execution_count": null,
   "metadata": {
    "tags": []
   },
   "outputs": [],
   "source": [
    "theta_sample = sample.bin(two_theta=two_theta)"
   ]
  },
  {
   "cell_type": "code",
   "execution_count": null,
   "metadata": {
    "tags": []
   },
   "outputs": [],
   "source": [
    "theta_sample"
   ]
  },
  {
   "cell_type": "code",
   "execution_count": null,
   "metadata": {
    "tags": []
   },
   "outputs": [],
   "source": [
    "sc.plot(theta_sample.hist(tof=400))"
   ]
  },
  {
   "cell_type": "markdown",
   "metadata": {},
   "source": [
    "### Unit conversion\n",
    "\n",
    "*Note: We are back to working with `sample`, not `theta_sample`.*\n",
    "\n",
    "`scippneutron` provides means to convert between units (dimensions) related to time-of-flight.\n",
    "The loaded raw data has dimension `tof`, and we convert to interplanar lattice spacing (dspacing):"
   ]
  },
  {
   "cell_type": "code",
   "execution_count": null,
   "metadata": {
    "tags": []
   },
   "outputs": [],
   "source": [
    "dspacing_vanadium = scn.convert(vanadium, 'tof', 'dspacing', scatter=True)\n",
    "dspacing_sample = scn.convert(sample, 'tof', 'dspacing', scatter=True)\n",
    "dspacing_sample"
   ]
  },
  {
   "cell_type": "markdown",
   "metadata": {},
   "source": [
    "### Neutron monitors\n",
    "\n",
    "*This is an optional section.\n",
    "The next section does not use the monitor-normalized data produced here.\n",
    "This section could thus be skipped.*\n",
    "\n",
    "If available, neutron monitors are stored as attributes of a data array:"
   ]
  },
  {
   "cell_type": "code",
   "execution_count": null,
   "metadata": {
    "tags": []
   },
   "outputs": [],
   "source": [
    "mon = sample.attrs['monitor1'].value\n",
    "mon"
   ]
  },
  {
   "cell_type": "markdown",
   "metadata": {},
   "source": [
    "The monitor could, e.g., be used to normalize the data.\n",
    "To do so, both data and monitor need to be converted to a unit that accounts for differing flight paths, e.g., wavelength or energy:"
   ]
  },
  {
   "cell_type": "code",
   "execution_count": null,
   "metadata": {
    "tags": []
   },
   "outputs": [],
   "source": [
    "sample_lambda = scn.convert(sample, 'tof', 'wavelength', scatter=True)\n",
    "mon = scn.convert(mon, 'tof', 'wavelength', scatter=False)"
   ]
  },
  {
   "cell_type": "markdown",
   "metadata": {},
   "source": [
    "The sample data is in event-mode, i.e., is not histogrammed.\n",
    "Event data *can* be divided by a histogram (such as `mon` in this case), using a specialized function for scaling (see [Binned data](https://scipp.github.io/user-guide/binned-data.html)).\n",
    "First we rebin the monitor since the original binning is very fine:"
   ]
  },
  {
   "cell_type": "code",
   "execution_count": null,
   "metadata": {
    "tags": []
   },
   "outputs": [],
   "source": [
    "edges = sc.linspace(dim='wavelength', unit='Angstrom', start=0.0, stop=1.0, num=1001)\n",
    "mon = sc.rebin(mon, wavelength=edges)\n",
    "mon"
   ]
  },
  {
   "cell_type": "markdown",
   "metadata": {},
   "source": [
    "Normalizing by (that is dividing by) the monitor would introduce correlations between different detector pixels if the monitor has variances.\n",
    "This is because the same monitor bin is applied to many detector bins.\n",
    "Scipp would reject such an operation.\n",
    "To work around this, we drop the variances of the monitor.\n",
    "In practice, we have to carefully examine the uncertainties to find out if they really can be neglected!"
   ]
  },
  {
   "cell_type": "code",
   "execution_count": null,
   "metadata": {
    "tags": []
   },
   "outputs": [],
   "source": [
    "mon = sc.values(mon)"
   ]
  },
  {
   "cell_type": "markdown",
   "metadata": {},
   "source": [
    "We intend to normalize each event to the relative monitor counts (compared to the total monitor counts).\n",
    "We use `sum` to compute the total monitor counts and obtain the relative counts using division:"
   ]
  },
  {
   "cell_type": "code",
   "execution_count": null,
   "metadata": {
    "tags": []
   },
   "outputs": [],
   "source": [
    "mon /= mon.sum('wavelength')"
   ]
  },
  {
   "cell_type": "markdown",
   "metadata": {},
   "source": [
    "The sample data is *event data in bins* and the monitor is a histogram.\n",
    "Multiplication and division operations for such cases are supported by modifying the weights (values) for each event using the operators of the `bins` property, in combination with the `sc.lookup` helper, a wrapper for a discrete \"function\", given by the monitor:"
   ]
  },
  {
   "cell_type": "code",
   "execution_count": null,
   "metadata": {
    "tags": []
   },
   "outputs": [],
   "source": [
    "sample_over_mon = sample_lambda.bins / sc.lookup(func=mon, dim='wavelength')\n",
    "sample_over_mon"
   ]
  },
  {
   "cell_type": "markdown",
   "metadata": {},
   "source": [
    "Finally, we can plot the data, which needs to be histogrammed before being plotted.\n",
    "By default, `.hist()` uses the coordinates of the binned data to define histogram edges,\n",
    "which, in this case, would give a single bin along the `'wavelength'` dimension.\n",
    "For a better representation of the data, we supply a finer binning, yielding a more meaningful figure:"
   ]
  },
  {
   "cell_type": "code",
   "execution_count": null,
   "metadata": {
    "tags": []
   },
   "outputs": [],
   "source": [
    "sc.plot(sample_over_mon.hist(wavelength=400).hist(spectrum=500).transpose())"
   ]
  },
  {
   "cell_type": "code",
   "execution_count": null,
   "metadata": {
    "tags": []
   },
   "outputs": [],
   "source": [
    "del sample_lambda\n",
    "del sample_over_mon\n",
    "del sample\n",
    "del vanadium"
   ]
  },
  {
   "cell_type": "markdown",
   "metadata": {},
   "source": [
    "### From events to histogram\n",
    "\n",
    "*Note: We are continuing here with data that has not been normalized to the monitors.*\n",
    "\n",
    "We histogram the event data:"
   ]
  },
  {
   "cell_type": "code",
   "execution_count": null,
   "metadata": {
    "tags": []
   },
   "outputs": [],
   "source": [
    "dspacing = sc.arange(dim='dspacing', start=0.3, stop=2.0, step=0.001, unit='Angstrom')\n",
    "hist = sc.Dataset(\n",
    "    data={\n",
    "        'sample': dspacing_sample.hist(dspacing=dspacing),\n",
    "        'vanadium': dspacing_vanadium.hist(dspacing=dspacing),\n",
    "    }\n",
    ")\n",
    "sc.show(hist['spectrum', 0:3]['dspacing', 0:7])"
   ]
  },
  {
   "cell_type": "code",
   "execution_count": null,
   "metadata": {
    "tags": []
   },
   "outputs": [],
   "source": [
    "sc.plot(hist['sample'].hist(spectrum=500).transpose())"
   ]
  },
  {
   "cell_type": "markdown",
   "metadata": {},
   "source": [
    "### Summing (focussing) and normalizing\n",
    "\n",
    "After conversion to `'dspacing'`, generic `sum` and `/` operations can be used to \"focus\" and normalize the diffraction data to the vanadium run:"
   ]
  },
  {
   "cell_type": "code",
   "execution_count": null,
   "metadata": {
    "tags": []
   },
   "outputs": [],
   "source": [
    "summed = sc.sum(hist, 'spectrum')\n",
    "sc.plot(summed)"
   ]
  },
  {
   "cell_type": "code",
   "execution_count": null,
   "metadata": {
    "tags": []
   },
   "outputs": [],
   "source": [
    "normalized = summed['sample'] / summed['vanadium']\n",
    "sc.plot(normalized)"
   ]
  },
  {
   "cell_type": "markdown",
   "metadata": {
    "tags": []
   },
   "source": [
    "### Focussing with $\\theta$ dependence in event-mode\n",
    "\n",
    "The approach used above combines reflections from all crystallographic planes and is therefore of limited use.\n",
    "We can use `bin` to focus each of multiple groups of spectra into a distinct output spectrum.\n",
    "Here we define groups based on a range of scattering angles &ndash; a simple $\\theta$-dependent binning.\n",
    "This also demonstrates how we can postpone histogramming until after the focussing step."
   ]
  },
  {
   "cell_type": "code",
   "execution_count": null,
   "metadata": {
    "tags": []
   },
   "outputs": [],
   "source": [
    "two_theta = sc.linspace(dim='two_theta', unit='rad', start=0.0, stop=np.pi, num=16)\n",
    "\n",
    "focussed_sample = dspacing_sample.bin(two_theta=two_theta)\n",
    "focussed_vanadium = dspacing_vanadium.bin(two_theta=two_theta)\n",
    "norm = focussed_vanadium.hist(dspacing=dspacing)"
   ]
  },
  {
   "cell_type": "markdown",
   "metadata": {},
   "source": [
    "Similarly as when normalizing by monitor, we have to drop the variances of the normalization term.\n",
    "Otherwise, the normalization would be broadcast to `focussed_sample` which would introduce correlations.\n",
    "In practice, we have to make sure that the uncertainties of the vanadium measurement can be neglected!"
   ]
  },
  {
   "cell_type": "code",
   "execution_count": null,
   "metadata": {},
   "outputs": [],
   "source": [
    "norm = sc.values(norm)"
   ]
  },
  {
   "cell_type": "code",
   "execution_count": null,
   "metadata": {
    "tags": []
   },
   "outputs": [],
   "source": [
    "focussed_sample.bins /= sc.lookup(func=norm, dim='dspacing')\n",
    "normalized = focussed_sample.hist(dspacing=dspacing)"
   ]
  },
  {
   "cell_type": "markdown",
   "metadata": {},
   "source": [
    "The normalized output looks as follows:"
   ]
  },
  {
   "cell_type": "code",
   "execution_count": null,
   "metadata": {
    "tags": []
   },
   "outputs": [],
   "source": [
    "normalized.plot(vmin=sc.scalar(0), vmax=sc.scalar(0.4))"
   ]
  },
  {
   "cell_type": "markdown",
   "metadata": {},
   "source": [
    "As a bonus, we can use slicing and a dict-comprehension to quickly create of plot comparing the spectra for different scattering angle bins:"
   ]
  },
  {
   "cell_type": "code",
   "execution_count": null,
   "metadata": {
    "tags": []
   },
   "outputs": [],
   "source": [
    "# compute centers of theta bins\n",
    "angle = normalized.coords['two_theta'].values\n",
    "angle = 0.5 * (angle[1:] + angle[:-1])\n",
    "results = {\n",
    "    f'{round(angle[group], 3)} rad': normalized['dspacing', 300:500]['two_theta', group]\n",
    "    for group in range(2, 6)\n",
    "}\n",
    "sc.plot(results)"
   ]
  }
 ],
 "metadata": {
  "kernelspec": {
   "display_name": "Python 3 (ipykernel)",
   "language": "python",
   "name": "python3"
  },
  "language_info": {
   "codemirror_mode": {
    "name": "ipython",
    "version": 3
   },
   "file_extension": ".py",
   "mimetype": "text/x-python",
   "name": "python",
   "nbconvert_exporter": "python",
   "pygments_lexer": "ipython3"
  }
 },
 "nbformat": 4,
 "nbformat_minor": 4
}
