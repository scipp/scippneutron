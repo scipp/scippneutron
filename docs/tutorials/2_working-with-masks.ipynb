{
 "cells": [
  {
   "cell_type": "markdown",
   "metadata": {},
   "source": [
    "# Working with masks\n",
    "\n",
    "## Introduction\n",
    "\n",
    "Scipp supports non-destructive masks stored alongside data.\n",
    "In this tutorial we learn how to create and use masks.\n",
    "\n",
    "This tutorial contains exercises, but solutions are included directly.\n",
    "We encourage you to download this notebook and run through it step by step before looking at the solutions.\n",
    "We recommend to use a recent version of *JupyterLab*:\n",
    "The solutions are included as hidden cells and shown only on demand.\n",
    "\n",
    "As a side effect, the exercises will help in getting more familiar with the basic concepts of operations.\n",
    "\n",
    "First, in addition to importing `scipp`, we import `scippneutron` since this is required for loading Nexus files:"
   ]
  },
  {
   "cell_type": "code",
   "execution_count": null,
   "metadata": {},
   "outputs": [],
   "source": [
    "import scipp as sc\n",
    "import scippneutron as scn\n",
    "import numpy as np"
   ]
  },
  {
   "cell_type": "markdown",
   "metadata": {},
   "source": [
    "We  start by loading some data, in this case measured with a prototype of the [LoKI](https://europeanspallationsource.se/instruments/loki) detectors at the [LARMOR beamline](https://www.isis.stfc.ac.uk/Pages/Larmor.aspx):"
   ]
  },
  {
   "cell_type": "code",
   "execution_count": null,
   "metadata": {},
   "outputs": [],
   "source": [
    "data = scn.data.tutorial_dense_data()\n",
    "counts = data.sum('tof')  # used later\n",
    "data"
   ]
  },
  {
   "cell_type": "markdown",
   "metadata": {},
   "source": [
    "Note that the exercises in the following are fictional and do not represent the actual SANS data reduction workflow."
   ]
  },
  {
   "cell_type": "markdown",
   "metadata": {},
   "source": [
    "Masks are variables with `dtype=bool`, stored in the `masks` dict of a data array.\n",
    "The result of comparison between variables can thus be used as masks:"
   ]
  },
  {
   "cell_type": "code",
   "execution_count": null,
   "metadata": {},
   "outputs": [],
   "source": [
    "data.coords['spectrum'] < sc.scalar(100)"
   ]
  },
  {
   "cell_type": "markdown",
   "metadata": {
    "tags": []
   },
   "source": [
    "## Exercise 1: Masking a prompt pulse\n",
    "\n",
    "1. Create a prompt-pulse mask for the region between $17500~\\mathrm{\\mu s}$ and $19000~\\mathrm{\\mu s}$.\n",
    "   Notes:\n",
    "   - Define, e.g., `prompt_start = 17500 * sc.Unit('us')` and the same for the upper bound of the prompt pulse.\n",
    "   - Use comparison operators such as `==`, `<=` or `>`.\n",
    "   - Combine multiple conditions into one using `&` (\"and\"), `|` (\"or\"), or `^` (\"exclusive or\").\n",
    "   - Masks are stored in a data array by storing them in the `masks` dictionary, e.g., `data.masks['prompt-pulse'] = ...`.\n",
    "   - If something goes wrong, masks can be removed with Python's `del`, e.g., `del data.masks['wrong']`.\n",
    "   - If you run into an error regarding a length mismatch when inserting the coordinate, remember that `'tof'` is a bin-edge coordinate, i.e., it is by 1 longer than the number of bins.\n",
    "     Use, e.g., only the left bin edges, i.e., all but the last, to create the masks.\n",
    "     This can be achieved using slicing, e.g., `array[dim_name, start_index:end_index]`.\n",
    "2. Use the HTML view and plot the data after masking to explore the effect.\n",
    "3. Pass a `dict` containing `counts` (computed above as `counts = data.sum('tof')`) and the equivalent counts computed *after* masking to `sc.plot`.\n",
    "   Use this to verify that the prompt-pulse mask results in removal of counts.\n",
    "\n",
    "### Solution"
   ]
  },
  {
   "cell_type": "code",
   "execution_count": null,
   "metadata": {
    "tags": [
     "solution"
    ]
   },
   "outputs": [],
   "source": [
    "prompt_start = 17500 * sc.Unit('us')\n",
    "prompt_stop = 19000 * sc.Unit('us')\n",
    "tof = data.coords['tof']\n",
    "mask = (tof['tof', :-1] > prompt_start) & (tof['tof', :-1] < prompt_stop)\n",
    "data.masks['prompt-pulse'] = mask\n",
    "data"
   ]
  },
  {
   "cell_type": "code",
   "execution_count": null,
   "metadata": {
    "tags": [
     "solution"
    ]
   },
   "outputs": [],
   "source": [
    "data.hist(spectrum=500).transpose().plot()"
   ]
  },
  {
   "cell_type": "code",
   "execution_count": null,
   "metadata": {
    "tags": [
     "solution"
    ]
   },
   "outputs": [],
   "source": [
    "tof = data.coords['tof']\n",
    "sc.plot({'before': counts, 'after': data.sum('tof')})"
   ]
  },
  {
   "cell_type": "markdown",
   "metadata": {
    "tags": []
   },
   "source": [
    "## Exercise 2: Masking spatially\n",
    "\n",
    "By masking an `x` range, mask the end of the tubes.\n",
    "\n",
    "- Define `x = data.coords['position'].fields.x` to extract only the x-component of the position coordinate.\n",
    "- Create the masks.\n",
    "- Use the instrument view (`scn.instrument_view(data)`) to inspect the result.\n",
    "\n",
    "### Solution"
   ]
  },
  {
   "cell_type": "code",
   "execution_count": null,
   "metadata": {
    "tags": [
     "solution"
    ]
   },
   "outputs": [],
   "source": [
    "x = data.coords['position'].fields.x\n",
    "data.masks['tube-ends'] = sc.abs(x) > 0.5 * sc.Unit('m')\n",
    "scn.instrument_view(sc.sum(data, 'tof'), norm='log')  # norm='log' is optional"
   ]
  },
  {
   "cell_type": "markdown",
   "metadata": {},
   "source": [
    "## Exercise 3: Combining conditions\n",
    "\n",
    "Mask the broken pixels with zero counts near the beam stop (center).\n",
    "\n",
    "- Note that there are pixels at larger scattering angles (larger x) which have real zeros.\n",
    "  These should not be masked.\n",
    "- Combine the condition for zero counts with a spatial mask, e.g., based on `x`, to ensure the mask takes only effect close to the direct beam / beam stop."
   ]
  },
  {
   "cell_type": "code",
   "execution_count": null,
   "metadata": {},
   "outputs": [],
   "source": [
    "# This would mask too much, what needs to be added?\n",
    "counts.data == 0.0 * sc.Unit('counts')"
   ]
  },
  {
   "cell_type": "markdown",
   "metadata": {
    "tags": []
   },
   "source": [
    "### Solution"
   ]
  },
  {
   "cell_type": "code",
   "execution_count": null,
   "metadata": {
    "tags": [
     "solution"
    ]
   },
   "outputs": [],
   "source": [
    "broken = (counts.data == 0.0 * sc.Unit('counts')) & (sc.abs(x) < 0.1 * sc.Unit('m'))\n",
    "data.masks['bad-pixels'] = broken\n",
    "scn.instrument_view(sc.sum(data, 'tof'))"
   ]
  },
  {
   "cell_type": "markdown",
   "metadata": {
    "tags": []
   },
   "source": [
    "## Exercise 4: More spatial masking\n",
    "\n",
    "Pick one (or more, if desired):\n",
    "\n",
    "- Mask a \"circle\" (in $x$-$y$ plane, i.e., a cylinder aligned with $\\hat z$)\n",
    "- Mask a ring based on $x$ and $y$\n",
    "- Mask a scattering-angle ($\\theta$) range.\n",
    "  Hint: The scattering angle can be computed as `theta = 0.5 * scn.two_theta(data)`\n",
    "- Mask a wedge.\n",
    "  Hint: `phi = sc.atan2(y=y,x=x)`\n",
    "  \n",
    "### Solution"
   ]
  },
  {
   "cell_type": "code",
   "execution_count": null,
   "metadata": {
    "tags": [
     "solution"
    ]
   },
   "outputs": [],
   "source": [
    "pos = data.coords['position']\n",
    "x = pos.fields.x\n",
    "y = pos.fields.y\n",
    "z = pos.fields.z\n",
    "\n",
    "# could use offsets x0 and y0 to mask away from z axis\n",
    "r = sc.sqrt(x * x + y * y)\n",
    "data.masks['circle'] = r < 0.09 * sc.units.m\n",
    "\n",
    "data.masks['ring'] = (0.14 * sc.units.m < r) & (r < 0.19 * sc.units.m)\n",
    "\n",
    "theta = 0.5 * scn.two_theta(data)\n",
    "data.masks['theta'] = (0.03 * sc.units.rad < theta) & (theta < 0.04 * sc.units.rad)\n",
    "\n",
    "# sc.to_unit is optional, but useful if we prefer degrees rather than radians\n",
    "phi = sc.to_unit(sc.atan2(y=y, x=x), unit='deg')\n",
    "data.masks['wedge'] = (10.0 * sc.units.deg < phi) & (phi < 20.0 * sc.units.deg)\n",
    "\n",
    "scn.instrument_view(sc.sum(data, 'tof'), norm='log')"
   ]
  },
  {
   "cell_type": "markdown",
   "metadata": {},
   "source": [
    "## Masks in (grouped) reduction operations\n",
    "\n",
    "Finally, let us group according to scattering angle and sum spectra.\n",
    "Questions:\n",
    "\n",
    "- Can you see the effect of the circle/ring/theta-range that you masked above?\n",
    "- Why is the prompt-pulse mask preserved, but not the other masks?"
   ]
  },
  {
   "cell_type": "code",
   "execution_count": null,
   "metadata": {},
   "outputs": [],
   "source": [
    "theta_edges = sc.array(dims=['theta'], unit='rad', values=np.linspace(0, 0.1, num=100))\n",
    "data.coords['theta'] = 0.5 * scn.two_theta(data)\n",
    "data.groupby(group='theta', bins=theta_edges).sum('spectrum').plot()"
   ]
  },
  {
   "cell_type": "markdown",
   "metadata": {
    "tags": []
   },
   "source": [
    "### Solution"
   ]
  },
  {
   "cell_type": "markdown",
   "metadata": {
    "tags": [
     "solution"
    ]
   },
   "source": [
    " - The prompt-pulse mask is preserved since we did not sum over time-of-flight.\n",
    " - Masked pixels (spectra) cannot be preserved since we sum over spectra, and the sum simply skips the masked spectra."
   ]
  }
 ],
 "metadata": {
  "kernelspec": {
   "display_name": "Python 3 (ipykernel)",
   "language": "python",
   "name": "python3"
  },
  "language_info": {
   "codemirror_mode": {
    "name": "ipython",
    "version": 3
   },
   "file_extension": ".py",
   "mimetype": "text/x-python",
   "name": "python",
   "nbconvert_exporter": "python",
   "pygments_lexer": "ipython3",
   "version": "3.9.15"
  }
 },
 "nbformat": 4,
 "nbformat_minor": 4
}
