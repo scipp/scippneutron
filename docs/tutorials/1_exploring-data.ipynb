{
 "cells": [
  {
   "cell_type": "markdown",
   "metadata": {
    "tags": []
   },
   "source": [
    "# Exploring data\n",
    "\n",
    "When working with a dataset, the first step is usually to understand what data and metadata it contains.\n",
    "In this chapter we explore how scipp supports this.\n",
    "\n",
    "This tutorial contains exercises, but solutions are included directly.\n",
    "We encourage you to download this notebook and run through it step by step before looking at the solutions.\n",
    "We recommend to use a recent version of *JupyterLab*:\n",
    "The solutions are included as hidden cells and shown only on demand.\n",
    "\n",
    "First, in addition to importing `scipp`, we import `scippneutron` since this is required for loading Nexus files.\n",
    "We also enable the interactive backend (`widget`) for plots."
   ]
  },
  {
   "cell_type": "code",
   "execution_count": null,
   "metadata": {},
   "outputs": [],
   "source": [
    "import scipp as sc\n",
    "import scippneutron as scn\n",
    "import plopp as pp"
   ]
  },
  {
   "cell_type": "markdown",
   "metadata": {},
   "source": [
    "We  start by loading some data, in this case measured with a prototype of the [LoKI](https://europeanspallationsource.se/instruments/loki) detectors at the [LARMOR beamline](https://www.isis.stfc.ac.uk/Pages/Larmor.aspx):"
   ]
  },
  {
   "cell_type": "code",
   "execution_count": null,
   "metadata": {},
   "outputs": [],
   "source": [
    "data = scn.data.tutorial_dense_data()"
   ]
  },
  {
   "cell_type": "markdown",
   "metadata": {},
   "source": [
    "In practice, we would use [scippneutron.load](../generated/functions/scippneutron.load.rst#scippneutron.load) or [scippneutron.load_nexus](../generated/functions/scippneutron.load_nexus.rst#scippneutron.load_nexus) to load the data from a NeXus file, but the tutorial data comes bundled with scippneutron to make it easily available.\n",
    "See [Tutorial and Test Data](../developer/getting-started.rst#tutorial-and-test-data) for a way to customize where the data is stored.\n",
    "\n",
    "Note that the exercises in the following are fictional and do not represent the actual SANS data reduction workflow."
   ]
  },
  {
   "cell_type": "markdown",
   "metadata": {},
   "source": [
    "## Step 1: Use the HTML representation to see what the loaded data contains\n",
    "\n",
    "The HTML representation is what Jupyter displays for a scipp object.\n",
    "\n",
    "- Take some time to explore this view and try to understand all the information (dimensions, dtypes, units, ...).\n",
    "- Note that sections can be expanded, and values can shown by clicking the icons to the right."
   ]
  },
  {
   "cell_type": "code",
   "execution_count": null,
   "metadata": {},
   "outputs": [],
   "source": [
    "data"
   ]
  },
  {
   "cell_type": "markdown",
   "metadata": {},
   "source": [
    "Whenever you get stuck with one of the exercises below we recommend consulting the HTML representations of the objects you are working with."
   ]
  },
  {
   "cell_type": "markdown",
   "metadata": {
    "tags": []
   },
   "source": [
    "## Step 2: Plot the data\n",
    "\n",
    "Scipp objects (variables, data arrays, or datasets) can be plotted using the `plot()` method.\n",
    "Alternatively `sc.plot(obj)` can be used, e.g., when `obj` is a Python `dict` of scipp data arrays.\n",
    "Since this is neutron-scattering data, we can also use the \"instrument view\", provided by `scn.instrument_view(obj)` (assuming `scippneutron` was imported as `scn`).\n",
    "\n",
    "### Exercise\n",
    "\n",
    "- Plot the loaded data and familiarize yourself with the controls.\n",
    "- Create the instrument view and familiarize yourself with the controls.\n",
    "\n",
    "### Solution"
   ]
  },
  {
   "cell_type": "code",
   "execution_count": null,
   "metadata": {
    "tags": [
     "solution"
    ]
   },
   "outputs": [],
   "source": [
    "data.sum('spectrum').plot()"
   ]
  },
  {
   "cell_type": "code",
   "execution_count": null,
   "metadata": {
    "tags": [
     "solution"
    ]
   },
   "outputs": [],
   "source": [
    "scn.instrument_view(data.sum('tof'), norm='log')"
   ]
  },
  {
   "cell_type": "markdown",
   "metadata": {},
   "source": [
    "## Step 3: Exploring meta data\n",
    "\n",
    "Above we saw that many attributes are scalar variables with `dtype=DataArray`.\n",
    "The single value in a scalar variable is accessed using the `value` property.\n",
    "Compare:"
   ]
  },
  {
   "cell_type": "code",
   "execution_count": null,
   "metadata": {},
   "outputs": [],
   "source": [
    "data.attrs['proton_charge_by_period']"
   ]
  },
  {
   "cell_type": "code",
   "execution_count": null,
   "metadata": {},
   "outputs": [],
   "source": [
    "data.attrs['proton_charge_by_period'].value"
   ]
  },
  {
   "cell_type": "markdown",
   "metadata": {
    "tags": []
   },
   "source": [
    "### Exercise\n",
    "\n",
    "1. Find some attributes of `data` with `dtype=DataArray` and plot their `value`.\n",
    "   Also try `sc.table(attr.value)` to show a table representation (where `attr` is an attribute of your choice).\n",
    "2. Find and plot a monitor.\n",
    "3. Try to normalize `data` to monitor 1.\n",
    "   Why does this fail?\n",
    "4. Plot all the monitors on the same plot.\n",
    "   Note that `sc.plot()` can be used with a Python `dict` for this purpose: `sc.plot({'a':something, 'b':else})`.\n",
    "5. Convert all the monitors from `'tof'` to `'wavelength'` using, e.g., `mon1_wav = scn.convert(mon1, 'tof', 'wavelength', scatter=False)`.\n",
    "6. Inspect the HTML view and note how the \"unit conversion\" changed the dimensions and units.\n",
    "7. Re-plot all the monitors on the same plot, now in `'wavelength'`.\n",
    "\n",
    "### Solution"
   ]
  },
  {
   "cell_type": "code",
   "execution_count": null,
   "metadata": {
    "tags": [
     "solution"
    ]
   },
   "outputs": [],
   "source": [
    "sc.table(data.attrs['DCMagField2'].value)"
   ]
  },
  {
   "cell_type": "code",
   "execution_count": null,
   "metadata": {
    "tags": [
     "solution"
    ]
   },
   "outputs": [],
   "source": [
    "try:\n",
    "    data / data.attrs['monitor1'].value\n",
    "except sc.DatasetError:\n",
    "    print(\n",
    "        \"\"\"Data and monitor are in unit TOF, but pixels and monitors\n",
    "are at different position, so data is not comparable.\"\"\"\n",
    "    )"
   ]
  },
  {
   "cell_type": "markdown",
   "metadata": {
    "tags": [
     "solution"
    ]
   },
   "source": [
    "A monitor can be converted to wavelength as follows:"
   ]
  },
  {
   "cell_type": "code",
   "execution_count": null,
   "metadata": {
    "tags": [
     "solution"
    ]
   },
   "outputs": [],
   "source": [
    "mon1 = data.attrs['monitor1'].value\n",
    "scn.convert(mon1, 'tof', 'wavelength', scatter=False)"
   ]
  },
  {
   "cell_type": "code",
   "execution_count": null,
   "metadata": {
    "tags": [
     "solution"
    ]
   },
   "outputs": [],
   "source": [
    "monitors = {f'monitor{i}': data.attrs[f'monitor{i}'].value for i in [1, 2, 3, 4, 5]}\n",
    "sc.plot(monitors, norm='log')"
   ]
  },
  {
   "cell_type": "code",
   "execution_count": null,
   "metadata": {
    "tags": [
     "solution"
    ]
   },
   "outputs": [],
   "source": [
    "converted_monitors = {\n",
    "    f'monitor{i}': scn.convert(\n",
    "        data.attrs[f'monitor{i}'].value, 'tof', 'wavelength', scatter=False\n",
    "    )\n",
    "    for i in [1, 2, 3, 4, 5]\n",
    "}\n",
    "sc.plot(converted_monitors, norm='log')"
   ]
  },
  {
   "cell_type": "markdown",
   "metadata": {
    "tags": []
   },
   "source": [
    "## Step 4: Fixing metadata\n",
    "\n",
    "### Exercise\n",
    "\n",
    "Consider the following (hypothetical) problems with the metadata stored in `data`:\n",
    "\n",
    "1. The `sample_position` coord (`data.coords['sample_position']`) is wrong, shift the sample by `delta = sc.vector(value=np.array([0.01,0.01,0.04]), unit='m')`.\n",
    "2. Because of a glitch in the timing system the time-of-flight has an offset of $2.3~\\mu s$.\n",
    "   Fix the corresponding coordinate.\n",
    "3. Use the HTML view of `data` to verify that you applied the corrections/calibrations there, rather than in a copy.\n",
    "\n",
    "### Solution"
   ]
  },
  {
   "cell_type": "code",
   "execution_count": null,
   "metadata": {
    "tags": [
     "solution"
    ]
   },
   "outputs": [],
   "source": [
    "data.coords['sample_position'] += sc.vector(value=[0.01, 0.01, 0.04], unit='m')\n",
    "data.coords['tof'] += 2.3 * sc.Unit('us')  # note how we forgot to fix the monitor's TOF\n",
    "data"
   ]
  },
  {
   "cell_type": "markdown",
   "metadata": {
    "tags": [
     "solution"
    ]
   },
   "source": [
    "Note how adding such offsets fails if we fail to specify a unit:"
   ]
  },
  {
   "cell_type": "code",
   "execution_count": null,
   "metadata": {
    "tags": [
     "solution"
    ]
   },
   "outputs": [],
   "source": [
    "try:\n",
    "    data.coords['tof'] += 2.3\n",
    "except sc.UnitError as e:\n",
    "    print(e)"
   ]
  },
  {
   "cell_type": "markdown",
   "metadata": {
    "tags": [
     "solution"
    ]
   },
   "source": [
    "This has several advantages:\n",
    "- We are protected from accidental errors.\n",
    "  If someone changes the unit of data or metadata without our knowledge, e.g., from `us` to `ms` this mechanism protects us from silent errors corrupting the data.\n",
    "- It makes the code clearer and more readable, both for others as well as for our future selves."
   ]
  },
  {
   "cell_type": "markdown",
   "metadata": {
    "tags": [
     "solution"
    ]
   },
   "source": [
    "The offset to the sample could also be done component-wise using the special `fields` property of variables with \"vector\" dtype, e.g.,"
   ]
  },
  {
   "cell_type": "code",
   "execution_count": null,
   "metadata": {
    "tags": [
     "solution"
    ]
   },
   "outputs": [],
   "source": [
    "data.coords['sample_position'].fields.z += 0.001 * sc.Unit('m')"
   ]
  },
  {
   "cell_type": "markdown",
   "metadata": {},
   "source": [
    "## Step 5: A closer look at the data\n",
    "\n",
    "In the very first task, we summed the data along the `spectrum` dimension before plotting,\n",
    "yielding a pixel-integrated time-of-flight spectrum of the data.\n",
    "Here, we sum along the `tof` dimension to inspect the contents of individual pixels:"
   ]
  },
  {
   "cell_type": "code",
   "execution_count": null,
   "metadata": {
    "tags": []
   },
   "outputs": [],
   "source": [
    "counts = data.sum('tof')"
   ]
  },
  {
   "cell_type": "markdown",
   "metadata": {
    "tags": []
   },
   "source": [
    "### Exercise\n",
    "\n",
    "1. Create a plot of `counts` and also try the instrument view.\n",
    "2. How many counts are there in total, in all spectra combined?\n",
    "3. Plot a single spectrum of `data` as a 1-D plot using the slicing syntax `array[dim_name, integer_index]` to access the spectrum.\n",
    "\n",
    "### Solution"
   ]
  },
  {
   "cell_type": "code",
   "execution_count": null,
   "metadata": {
    "tags": [
     "solution"
    ]
   },
   "outputs": [],
   "source": [
    "# slice is optional, making plot more readable in the documentation\n",
    "counts['spectrum', 56000:62000].plot()"
   ]
  },
  {
   "cell_type": "code",
   "execution_count": null,
   "metadata": {
    "tags": [
     "solution"
    ]
   },
   "outputs": [],
   "source": [
    "scn.instrument_view(counts, norm='log')"
   ]
  },
  {
   "cell_type": "code",
   "execution_count": null,
   "metadata": {
    "tags": [
     "solution"
    ]
   },
   "outputs": [],
   "source": [
    "# counts.sum('spectrum') # would be another solution\n",
    "data.sum().value"
   ]
  },
  {
   "cell_type": "code",
   "execution_count": null,
   "metadata": {
    "tags": [
     "solution"
    ]
   },
   "outputs": [],
   "source": [
    "data['spectrum', 10000].plot()"
   ]
  },
  {
   "cell_type": "markdown",
   "metadata": {},
   "source": [
    "### Volumetric detectors\n",
    "\n",
    "As seen in the instrument view the detectors consist of 4 layers of tubes, each containing 7 straws.\n",
    "Let us try to split up our data, so we can compare layers.\n",
    "There are other (and probably better) ways to do this, but here we try to define an integer variable containing a layer index:"
   ]
  },
  {
   "cell_type": "code",
   "execution_count": null,
   "metadata": {
    "tags": []
   },
   "outputs": [],
   "source": [
    "z = data.coords['position'].fields.z\n",
    "near = z.min()\n",
    "far = z.max()\n",
    "layer = ((z - near) * 400).astype('int32')\n",
    "layer.unit = ''\n",
    "layer.plot()"
   ]
  },
  {
   "cell_type": "markdown",
   "metadata": {
    "tags": []
   },
   "source": [
    "### Exercise\n",
    "\n",
    "- Change the magic parameter `400` in the cell above until pixels fall cleanly into layers, either 4 layers of tubes or 12 layers of straws.\n",
    "- Store `layer` as a new coord in `data`.\n",
    "- Use `data.groupby(group='layer').sum('spectrum')` to group spectra into layers.\n",
    "- Inspect and understand the HTML view of the result.\n",
    "- Plot the result.\n",
    "  There are two options:\n",
    "  - Use [Plopp's `slicer` utility](https://scipp.github.io/plopp/basics/slicer-plot.html) to navigate the different layers using a slider (requires `%matplotlib widget` to enable interactive figures)\n",
    "  - Use `sc.plot` after collapsing dimensions, `sc.collapse(grouped, keep='tof')`\n",
    "- Bonus: When grouping by straw layers, there is a different number of straws in the center layer of each tube (3 instead of 2) due to the flower-pattern arrangement of straws.\n",
    "  Define a helper data array with data set to 1 for each spectrum (using, e.g., `norm = sc.DataArray(data=sc.ones_like(layer), coords={'layer':layer})`), group by layers and sum over spectrum as above, and use this result to normalize the layer-grouped data from above to spectrum count.\n",
    "\n",
    "### Solution"
   ]
  },
  {
   "cell_type": "code",
   "execution_count": null,
   "metadata": {
    "tags": [
     "solution"
    ]
   },
   "outputs": [],
   "source": [
    "%matplotlib widget\n",
    "# NOTE:\n",
    "# - set magic factor to, e.g., 150 to group by straw layer\n",
    "# - set magic factor to, e.g., 40 to group by tube layer\n",
    "layer = ((z - near) * 150).astype(sc.DType.int32)\n",
    "layer.unit = ''\n",
    "data.coords['layer'] = layer\n",
    "grouped = data.groupby(group='layer').sum('spectrum')\n",
    "pp.slicer(grouped)"
   ]
  },
  {
   "cell_type": "code",
   "execution_count": null,
   "metadata": {
    "tags": [
     "solution"
    ]
   },
   "outputs": [],
   "source": [
    "sc.plot(sc.collapse(grouped, keep='tof'))"
   ]
  },
  {
   "cell_type": "code",
   "execution_count": null,
   "metadata": {
    "tags": [
     "solution"
    ]
   },
   "outputs": [],
   "source": [
    "norm = sc.DataArray(data=sc.ones_like(layer), coords={'layer': layer})\n",
    "norm = norm.groupby(group='layer').sum('spectrum')\n",
    "sc.plot(sc.collapse(grouped / norm, keep='tof'))"
   ]
  }
 ],
 "metadata": {
  "kernelspec": {
   "display_name": "Python 3 (ipykernel)",
   "language": "python",
   "name": "python3"
  },
  "language_info": {
   "codemirror_mode": {
    "name": "ipython",
    "version": 3
   },
   "file_extension": ".py",
   "mimetype": "text/x-python",
   "name": "python",
   "nbconvert_exporter": "python",
   "pygments_lexer": "ipython3"
  }
 },
 "nbformat": 4,
 "nbformat_minor": 4
}
