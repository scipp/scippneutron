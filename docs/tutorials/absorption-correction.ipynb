{
 "cells": [
  {
   "cell_type": "code",
   "execution_count": null,
   "id": "07bd8cdb-c18a-48e4-a60a-041a0d4cd07c",
   "metadata": {},
   "outputs": [],
   "source": [
    "from dataclasses import dataclass\n",
    "from collections.abc import Callable\n",
    "\n",
    "import scipp as sc\n",
    "import numpy as np\n",
    "\n",
    "from scippneutron.absorption.base import compute_transmission_map\n",
    "from scippneutron.absorption.cylinder import Cylinder\n",
    "\n",
    "\n",
    "@dataclass\n",
    "class Material:\n",
    "    c: sc.Variable\n",
    "    mu: Callable[[sc.Variable], sc.Variable]\n",
    "\n",
    "\n",
    "sample_shape = Cylinder(\n",
    "    symmetry_line=sc.vector([0, 1, 0,]),\n",
    "    center_of_base=sc.vector([-4, 12, 5]),\n",
    "    radius=sc.scalar(1),\n",
    "    height=sc.scalar(1.5)\n",
    ")\n",
    "# Some model for the wavelength dependence, not sure what makes sense to put here\n",
    "material = Material(1, lambda wav: 0.4 * wav * (3 - wav))\n",
    "\n",
    "\n",
    "def transmission(quadrature_kind):\n",
    "    return compute_transmission_map(\n",
    "        sample_shape, material,\n",
    "        beam_direction=sc.vector([1, 0, 0]),\n",
    "        # Wavelengts to compute correction for\n",
    "        wavelength=sc.linspace('wavelength', 0.5, 2.5, 10),\n",
    "        # Spherical coordinates\n",
    "        theta=sc.linspace('theta', 0, np.pi, 100, endpoint=False, unit='rad'),\n",
    "        phi=sc.linspace('phi', 0, 2 * np.pi, 200, endpoint=False, unit='rad'),\n",
    "        quadrature_kind=quadrature_kind,\n",
    "    )\n",
    "\n",
    "\n",
    "def show_correction_map(da):\n",
    "    return (\n",
    "        da['wavelength', 0].plot() /\n",
    "        da['wavelength', 0]['theta', 50].plot() /\n",
    "        da['wavelength', 0]['theta', 50]['phi', 30:70].plot()\n",
    "    )"
   ]
  },
  {
   "cell_type": "code",
   "execution_count": null,
   "id": "6f03111b-8d1c-4c82-a9e9-b2fcde5c1003",
   "metadata": {},
   "outputs": [],
   "source": [
    "transmission('cheap')"
   ]
  },
  {
   "cell_type": "code",
   "execution_count": null,
   "id": "abb0d783-9a57-4daa-b4dc-7295044beb78",
   "metadata": {},
   "outputs": [],
   "source": [
    "show_correction_map(transmission('cheap'))"
   ]
  },
  {
   "cell_type": "code",
   "execution_count": null,
   "id": "1512c244-118e-40a0-ac88-1510504603da",
   "metadata": {},
   "outputs": [],
   "source": [
    "show_correction_map(transmission('medium'))"
   ]
  },
  {
   "cell_type": "code",
   "execution_count": null,
   "id": "d34de43c-0341-4656-b739-656cb3aff4a1",
   "metadata": {},
   "outputs": [],
   "source": [
    "show_correction_map(transmission('expensive'))"
   ]
  }
 ],
 "metadata": {
  "kernelspec": {
   "display_name": "Python 3 (ipykernel)",
   "language": "python",
   "name": "python3"
  },
  "language_info": {
   "codemirror_mode": {
    "name": "ipython",
    "version": 3
   },
   "file_extension": ".py",
   "mimetype": "text/x-python",
   "name": "python",
   "nbconvert_exporter": "python",
   "pygments_lexer": "ipython3",
   "version": "3.10.13"
  }
 },
 "nbformat": 4,
 "nbformat_minor": 5
}
