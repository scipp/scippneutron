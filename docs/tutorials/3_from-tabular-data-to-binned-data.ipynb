{
 "cells": [
  {
   "cell_type": "markdown",
   "id": "6ecd99b0-ab05-43ee-94c7-e2c645621ec8",
   "metadata": {},
   "source": [
    "# From tabular data to binned data\n",
    "\n",
    "## Loading tabular data\n",
    "\n",
    "In this tutorial we will use a file created by a McStas simulation for a diamond sample, with Geant4 simulating the detectors.\n",
    "The file looks as follows:"
   ]
  },
  {
   "cell_type": "code",
   "execution_count": null,
   "id": "84e15684-8129-4889-8145-54ba3e4bb261",
   "metadata": {},
   "outputs": [],
   "source": [
    "filename = '/home/simon/mantid/instruments/DREAM/data_dream_diamond.csv'\n",
    "\n",
    "with open(filename) as f:\n",
    "    header = f.readline()\n",
    "    print(header, f.readline())"
   ]
  },
  {
   "cell_type": "markdown",
   "id": "7150425d-4dce-43b2-9896-2a159ef0a565",
   "metadata": {},
   "source": [
    "The header line defines columns names and (in some cases) units.\n",
    "We extract them:"
   ]
  },
  {
   "cell_type": "code",
   "execution_count": null,
   "id": "39bb7604-fdb6-4f4a-848f-9445e728914e",
   "metadata": {},
   "outputs": [],
   "source": [
    "import re\n",
    "\n",
    "pattern = re.compile(r'(\\w+)(?:\\s*\\[(\\w+)\\])?')\n",
    "name_to_unit = {m[1]: m[2] for m in pattern.finditer(header)}"
   ]
  },
  {
   "cell_type": "markdown",
   "id": "ab704f47-d1eb-4a1c-a438-e157ba5c84c5",
   "metadata": {},
   "source": [
    "We can now use [pandas.read_csv](https://pandas.pydata.org/docs/reference/api/pandas.read_csv.html) to load the table as a [pandas.Dataframe](https://pandas.pydata.org/docs/reference/api/pandas.DataFrame.html).\n",
    "It is about 10 times faster than [numpy.loadtxt](https://numpy.org/doc/stable/reference/generated/numpy.loadtxt.html) and also slightly more convenient:"
   ]
  },
  {
   "cell_type": "code",
   "execution_count": null,
   "id": "bb4b7dc4-ac8d-474e-ac84-7a6abd6ce912",
   "metadata": {},
   "outputs": [],
   "source": [
    "import pandas as pd\n",
    "\n",
    "df = pd.read_csv(filename, sep='\\t', header=0, names=name_to_unit)\n",
    "df"
   ]
  },
  {
   "cell_type": "markdown",
   "id": "6538b9ff-be91-44ec-940b-f1b0eb646c4f",
   "metadata": {},
   "source": [
    "`scipp.compat.from_pandas` can convert the `pandas.Dataframe` to a `scipp.Dataset`.\n",
    "Only the units must be set manually:"
   ]
  },
  {
   "cell_type": "code",
   "execution_count": null,
   "id": "90a0ab57-6628-4660-b88a-71dd6eabf1fa",
   "metadata": {},
   "outputs": [],
   "source": [
    "import scipp as sc\n",
    "ds = sc.compat.from_pandas(df)\n",
    "for name, unit in name_to_unit.items():\n",
    "    ds[name].unit = unit\n",
    "ds"
   ]
  },
  {
   "cell_type": "code",
   "execution_count": null,
   "id": "b50a0f22-07f4-409d-929d-9199d2a48ada",
   "metadata": {},
   "outputs": [],
   "source": [
    "import pandas as pd\n",
    "\n",
    "filename = '/home/simon/mantid/instruments/DREAM/data_dream_diamond.zip'\n",
    "df = pd.read_csv(filename, sep='\\t')\n",
    "import scipp as sc\n",
    "ds = sc.compat.from_pandas(df)\n",
    "for key in list(ds.keys()):\n",
    "    name, *remainder = key.split(' ')\n",
    "    ds[name] = ds.pop(key)\n",
    "    ds[name].unit = remainder[0][1:-1] if remainder else None\n",
    "ds"
   ]
  },
  {
   "cell_type": "markdown",
   "id": "0c9562d4-77f6-4538-8bd0-c91c06d6aa0c",
   "metadata": {},
   "source": [
    "This 1-D dataset represents the tabular data that was read from the file:"
   ]
  },
  {
   "cell_type": "code",
   "execution_count": null,
   "id": "76aa1d91-37c3-4631-acbd-aecda77b561f",
   "metadata": {},
   "outputs": [],
   "source": [
    "sc.table(ds[:10])"
   ]
  },
  {
   "cell_type": "markdown",
   "id": "a98e75fe-3620-4531-8ffa-8851f3305dcf",
   "metadata": {},
   "source": [
    "In the above table, each row (record) describes and *event*, in this case the detection of a neutron, with its associated metadata such as the detector module or the x, y, and z position.\n",
    "The table is thus actually a table of metadata values for events with a value of \"1 count\" each.\n",
    "To continue we convert this into a data array:"
   ]
  },
  {
   "cell_type": "code",
   "execution_count": null,
   "id": "5cd0106c-c935-4180-a1f6-9aae1e7d234f",
   "metadata": {},
   "outputs": [],
   "source": [
    "da = sc.DataArray(sc.ones(sizes=ds.sizes, unit='counts'))\n",
    "da.coords.update({name: ds[name].data for name in ds})\n",
    "da"
   ]
  },
  {
   "cell_type": "markdown",
   "id": "d644045b-a8d2-469b-81c6-a61e68d2ad0a",
   "metadata": {},
   "source": [
    "## Basic histogramming and binning\n",
    "\n",
    "We are now ready to bin or histogram our data.\n",
    "In both cases we need to define bin edges or grouping coordinates.\n",
    "As an initial 1-D example, we will compute a wavelength histogram:"
   ]
  },
  {
   "cell_type": "code",
   "execution_count": null,
   "id": "f73a6379-3369-40a3-aae8-74b6cb026681",
   "metadata": {},
   "outputs": [],
   "source": [
    "wavelength = sc.linspace('lambda',\n",
    "                         da.coords['lambda'].min().value,\n",
    "                         da.coords['lambda'].max().value, num=1001, unit='Angstrom' )"
   ]
  },
  {
   "cell_type": "markdown",
   "id": "f5f6428e-bfb7-44c5-9af1-c4cf9a63a6bf",
   "metadata": {},
   "source": [
    "This can be histogrammed using `sc.histogram`:"
   ]
  },
  {
   "cell_type": "code",
   "execution_count": null,
   "id": "f7a0f173-0224-4932-b34a-e11b85301390",
   "metadata": {},
   "outputs": [],
   "source": [
    "histogrammed = sc.histogram(da, bins=wavelength)\n",
    "histogrammed"
   ]
  },
  {
   "cell_type": "markdown",
   "id": "e5619166-bc29-4e5c-b486-4e3f651ce625",
   "metadata": {},
   "source": [
    "Alternatively, we can use `sc.bin`, which keeps the underlying events and their metadata:"
   ]
  },
  {
   "cell_type": "code",
   "execution_count": null,
   "id": "469a26d1-7cff-4e14-90a4-faefecb8e3fe",
   "metadata": {},
   "outputs": [],
   "source": [
    "binned = sc.bin(da, edges=[wavelength])\n",
    "binned"
   ]
  },
  {
   "cell_type": "markdown",
   "id": "3075af2f-f272-47f5-9683-4c5042bf92eb",
   "metadata": {},
   "source": [
    "Since we used the same bin edges for histogramming and binning, computing the sum of values within each bin (given by `binned.bins.sum()`) gives the same result as histogramming directly.\n",
    "Therefore only a single line is visible in the following plot:"
   ]
  },
  {
   "cell_type": "code",
   "execution_count": null,
   "id": "5ecd8c4f-e0c9-43ae-9a71-13bc6ba54447",
   "metadata": {},
   "outputs": [],
   "source": [
    "sc.plot({'histogrammed':histogrammed, 'binned':binned.bins.sum()})"
   ]
  },
  {
   "cell_type": "markdown",
   "id": "0bcc22ca-6dff-47ec-9ee8-fb58b59fb644",
   "metadata": {},
   "source": [
    "Since the above combines data from all pixels, the wavelength distribution is not really meaningful."
   ]
  },
  {
   "cell_type": "markdown",
   "id": "ff069405-a2a7-441e-b5bb-b22567f579d7",
   "metadata": {},
   "source": [
    "## Multi-dimensional binning\n",
    "\n",
    "Binning is more powerful than `sc.histogram`.\n",
    "Let us bin in multiple dimensions:"
   ]
  },
  {
   "cell_type": "code",
   "execution_count": null,
   "id": "97965f28-1bd4-45dd-856a-2b55d0d53894",
   "metadata": {},
   "outputs": [],
   "source": [
    "x = da.coords['x_pos']\n",
    "y = da.coords['y_pos']\n",
    "z = da.coords['z_pos']\n",
    "x_pos = sc.linspace('x_pos', x.min().value, x.max().value, num=31, unit='mm')\n",
    "y_pos = sc.linspace('y_pos', y.min().value, y.max().value, num=31, unit='mm')\n",
    "z_pos = sc.linspace('z_pos', z.min().value, z.max().value, num=31, unit='mm')\n",
    "binned = sc.bin(da, edges=[z_pos, y_pos, x_pos])\n",
    "binned['z_pos', 20:].bins.sum().plot(norm='log', aspect='equal')"
   ]
  },
  {
   "cell_type": "markdown",
   "id": "040d88fa-e938-463a-bfbd-d90edd5eb80c",
   "metadata": {},
   "source": [
    "Above we can see a cut through the detector, which has the shape of a thick cylinder mantle.\n",
    "The advantage of binned data over histogrammed data is that the meta data for each underlying event is still present.\n",
    "We can therefore change the binning, or bin in additional dimensions.\n",
    "For example, we can select the slice containing $z = 0$ and turn it into a higher-resolution cut:"
   ]
  },
  {
   "cell_type": "code",
   "execution_count": null,
   "id": "2488e51c-db3f-419f-80c7-b3be8cb50d51",
   "metadata": {},
   "outputs": [],
   "source": [
    "x_fine = sc.linspace('x_pos', x.min().value, x.max().value, num=41, unit='mm')\n",
    "y_fine = sc.linspace('y_pos', y.min().value, y.max().value, num=101, unit='mm')\n",
    "xy_cut = sc.bin(binned['z_pos', sc.scalar(0.0, unit='mm')], edges=[y_fine, x_fine])\n",
    "xy_cut"
   ]
  },
  {
   "cell_type": "code",
   "execution_count": null,
   "id": "122a7df6-8172-433b-8ac3-4d870389291f",
   "metadata": {},
   "outputs": [],
   "source": [
    "xy_cut.bins.sum().transpose().plot(aspect='equal')"
   ]
  },
  {
   "cell_type": "markdown",
   "id": "57456755-a7e6-462c-88ba-3974f97873eb",
   "metadata": {},
   "source": [
    "Above we binned according to x, y, and z.\n",
    "This reflects neither the physics nor the logical structure of the detectors and is generally not very useful.\n",
    "The original table additionally contains information about the logical structure of the detector array.\n",
    "In this case it is divided into modules, segments, counters, wires, and strips.\n",
    "Instead of using `scipp.bin` with the `edges` keyword argument we can use the`groups` keyword argument to perform a binning based on discrete values.\n",
    "The result is 5-D:"
   ]
  },
  {
   "cell_type": "code",
   "execution_count": null,
   "id": "abfcb043-1e01-4383-b990-6ff9e6a57fc4",
   "metadata": {},
   "outputs": [],
   "source": [
    "groups = {\n",
    "    dim: sc.arange(dim, 1, da.coords[dim].max().value + 1, unit=None, dtype='int64')\n",
    "    for dim in ['module', 'segment', 'counter', 'wire', 'strip']\n",
    "}\n",
    "binned = sc.bin(da, groups=list(groups.values()))\n",
    "binned"
   ]
  },
  {
   "cell_type": "markdown",
   "id": "1458bf7f-424c-4795-92b3-d467ec85c6c9",
   "metadata": {},
   "source": [
    "We can select an plot slices as usual:"
   ]
  },
  {
   "cell_type": "code",
   "execution_count": null,
   "id": "da2b37aa-57d6-4027-a6e6-302ae6422ce3",
   "metadata": {},
   "outputs": [],
   "source": [
    "binned['module', 4]['segment', 3]['counter', 1].bins.sum().plot()"
   ]
  },
  {
   "cell_type": "markdown",
   "id": "4bcd271e-1b48-4037-adb1-d57a785baeb0",
   "metadata": {},
   "source": [
    "Each of the bins in the above data array corresponds to a detector voxel."
   ]
  },
  {
   "cell_type": "code",
   "execution_count": null,
   "id": "740ca447-4059-4bde-84f5-448ba2bc9e28",
   "metadata": {},
   "outputs": [],
   "source": [
    "binned.bins.sum().data.max()"
   ]
  },
  {
   "cell_type": "code",
   "execution_count": null,
   "id": "5d1af1e5-1bb7-44f5-be48-228fce04bcd0",
   "metadata": {},
   "outputs": [],
   "source": [
    "voxel = binned['module', 4]['segment', 3]['counter', 1]['strip', 152]['wire', 4]\n",
    "sc.bin(voxel, edges=[wavelength]).bins.sum().plot()"
   ]
  },
  {
   "cell_type": "markdown",
   "id": "bdd70f1d-c8c8-48b7-bcf8-c208a119c672",
   "metadata": {},
   "source": [
    "Our data contains, for each detected neutron, the position of the associated voxel.\n",
    "It is more practical to store this for every bin (voxel) instead of very every event.\n",
    "We can also combine the x, y, and z components into a single array of position vectors:"
   ]
  },
  {
   "cell_type": "code",
   "execution_count": null,
   "id": "b01f58f1-a3cc-4d90-a503-841aaeb56401",
   "metadata": {},
   "outputs": [],
   "source": [
    "pos = sc.zeros(sizes=binned.sizes, dtype=sc.DType.vector3, unit='mm')\n",
    "pos.fields.x = binned.bins.coords['voxel_x'].bins.mean()\n",
    "pos.fields.y = binned.bins.coords['voxel_y'].bins.mean()\n",
    "pos.fields.z = binned.bins.coords['voxel_z'].bins.mean()\n",
    "binned.coords['position'] = pos\n",
    "binned"
   ]
  },
  {
   "cell_type": "markdown",
   "id": "dfe06d18-68ba-4e50-ae9b-184a92f6535d",
   "metadata": {},
   "source": [
    "This can be used to createa 3-D scatter plot:"
   ]
  },
  {
   "cell_type": "code",
   "execution_count": null,
   "id": "dce0e153-1ddd-4b86-a342-32cb1e7cd3c4",
   "metadata": {},
   "outputs": [],
   "source": [
    "binned.plot(projection='3d', positions='position', pixel_size=10)"
   ]
  },
  {
   "cell_type": "markdown",
   "id": "87645003-b739-4203-a8cb-4c682aa7f35a",
   "metadata": {},
   "source": [
    "We can also inspect an individual component such as a strip:"
   ]
  },
  {
   "cell_type": "code",
   "execution_count": null,
   "id": "c665f5af-0252-4e7b-97ae-b725c88091f8",
   "metadata": {},
   "outputs": [],
   "source": [
    "binned['strip', 200].plot(projection='3d', positions='position', pixel_size=10)"
   ]
  },
  {
   "cell_type": "markdown",
   "id": "5ccd4b70-569a-410c-9722-2d70ce5f81d6",
   "metadata": {},
   "source": [
    "It is also possible to \"group\" and \"bin\" at the same time.\n",
    "Since strips roughly correspond to scattering angle, a plot against wavelength and strip may be useful:"
   ]
  },
  {
   "cell_type": "code",
   "execution_count": null,
   "id": "5e6bac6c-db4b-45ae-9812-436ce330fedb",
   "metadata": {},
   "outputs": [],
   "source": [
    "sc.bin(da, groups=[groups['strip']], edges=[wavelength]).bins.sum().plot(norm='log')"
   ]
  }
 ],
 "metadata": {
  "kernelspec": {
   "display_name": "Python 3 (ipykernel)",
   "language": "python",
   "name": "python3"
  },
  "language_info": {
   "codemirror_mode": {
    "name": "ipython",
    "version": 3
   },
   "file_extension": ".py",
   "mimetype": "text/x-python",
   "name": "python",
   "nbconvert_exporter": "python",
   "pygments_lexer": "ipython3",
   "version": "3.8.13"
  }
 },
 "nbformat": 4,
 "nbformat_minor": 5
}
