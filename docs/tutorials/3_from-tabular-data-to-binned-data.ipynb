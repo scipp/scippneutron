{
 "cells": [
  {
   "cell_type": "markdown",
   "id": "5e7661da-24fc-434e-b0ec-75ce2b22af0f",
   "metadata": {
    "tags": []
   },
   "source": [
    "# From tabular data to binned data"
   ]
  },
  {
   "cell_type": "markdown",
   "id": "faa8d831-a5c1-44e4-b3be-602f23cd1dbd",
   "metadata": {
    "tags": []
   },
   "source": [
    "## Overview"
   ]
  },
  {
   "cell_type": "markdown",
   "id": "3eb1e88d-4725-4dea-8eb6-ace2514c4b06",
   "metadata": {
    "tags": []
   },
   "source": [
    "Binned data in scipp is conceptually equivalent to an array of tables.\n",
    "In other words, it represents an array of records (table rows) sorted into an (often multi-dimensional) array of \"bins\".\n",
    "In this tutorial we begin by learning how to setup tabular data appropriate for histogramming and binning with scipp.\n",
    "The main focus will then be binning the tabular data and basic usage of the resulting binned data.\n",
    "\n",
    "We will use a file of a simulated neutron-scattering experiment &mdash; at the powder diffractometer *DREAM* at the European Spallation Source.\n",
    "The approach and techniques displayed here are however applicable for more generally and not specific to this scientific area."
   ]
  },
  {
   "cell_type": "markdown",
   "id": "27a8267c-b5d1-4be3-9379-b4df15bb94dd",
   "metadata": {
    "tags": []
   },
   "source": [
    "## Loading tabular data"
   ]
  },
  {
   "cell_type": "markdown",
   "id": "7dd7a8d3-14b0-46fc-a126-97383fcec56d",
   "metadata": {
    "tags": []
   },
   "source": [
    "We will use a file created by a McStas simulation for a diamond sample, with Geant4 simulating the detectors.\n",
    "We can use [pandas.read_csv](https://pandas.pydata.org/docs/reference/api/pandas.read_csv.html) to load the table as a [pandas.Dataframe](https://pandas.pydata.org/docs/reference/api/pandas.DataFrame.html).\n",
    "`pandas.read_csv` is much faster than [numpy.loadtxt](https://numpy.org/doc/stable/reference/generated/numpy.loadtxt.html) and also slightly more convenient:"
   ]
  },
  {
   "cell_type": "code",
   "execution_count": null,
   "id": "b52a76b6-75ff-42b9-ad1f-843c7d4de5ba",
   "metadata": {},
   "outputs": [],
   "source": [
    "import pandas as pd\n",
    "\n",
    "filename = 'https://public.esss.dk/groups/scipp/scippneutron/4/data_dream_diamond.zip'\n",
    "df = pd.read_csv(filename, sep='\\t')\n",
    "df"
   ]
  },
  {
   "cell_type": "markdown",
   "id": "4b53eb28-08e9-4085-a4be-f96db3da5ca5",
   "metadata": {},
   "source": [
    "`scipp.compat.from_pandas` can convert the `pandas.Dataframe` to a `scipp.Dataset`.\n",
    "The column names encode the physical units so we must extract them manually:"
   ]
  },
  {
   "cell_type": "code",
   "execution_count": null,
   "id": "64ef53f4-c6d2-497c-af60-b25e28beee46",
   "metadata": {},
   "outputs": [],
   "source": [
    "import scipp as sc\n",
    "\n",
    "ds = sc.compat.from_pandas(df)\n",
    "ds.coords.pop('row')  # we have no use for this row index\n",
    "for key in list(ds):\n",
    "    name, *remainder = key.split(' ')\n",
    "    ds[name] = ds.pop(key)\n",
    "    ds[name].unit = remainder[0][1:-1] if remainder else None\n",
    "sc.table(ds[:10])"
   ]
  },
  {
   "cell_type": "markdown",
   "id": "a98e75fe-3620-4531-8ffa-8851f3305dcf",
   "metadata": {},
   "source": [
    "This 1-D dataset represents the tabular data that was read from the file.\n",
    "In the above table, each row (record) describes an *event*, in this case the detection of a neutron, with its associated metadata such as the detector module or the x, y, and z position.\n",
    "\n",
    "To histogram or bin data by a column, scipp must know which columns are metadata and which column holds data values.\n",
    "The table is actually a table of metadata values for events with an implicit data value of \"1 count\" each.\n",
    "To continue we convert this into a data array:"
   ]
  },
  {
   "cell_type": "code",
   "execution_count": null,
   "id": "5cd0106c-c935-4180-a1f6-9aae1e7d234f",
   "metadata": {},
   "outputs": [],
   "source": [
    "table = sc.DataArray(sc.ones(sizes=ds.sizes, unit='counts'))\n",
    "for name in ds:\n",
    "    table.coords[name] = ds[name].data\n",
    "table"
   ]
  },
  {
   "cell_type": "markdown",
   "id": "f85246ca-c3b7-4b7f-9a42-de39f300ee62",
   "metadata": {},
   "source": [
    "## Histogramming and binning"
   ]
  },
  {
   "cell_type": "markdown",
   "id": "851054b3-23c7-4b7e-bec4-e3613d87b9d6",
   "metadata": {},
   "source": [
    "We are now ready to bin or histogram our data.\n",
    "Scipp uses the following terminology:\n",
    "\n",
    "- Binning preserves the original data records as a table associated with each bin.\n",
    "- Histogramming adds up the values from all contributing records into a single value per bin.\n",
    "\n",
    "In both cases we need to define bin edges.\n",
    "As an initial 1-D example, we will compute a wavelength histogram, so we create a variable of wavelength edges:"
   ]
  },
  {
   "cell_type": "code",
   "execution_count": null,
   "id": "f73a6379-3369-40a3-aae8-74b6cb026681",
   "metadata": {},
   "outputs": [],
   "source": [
    "wavelength = sc.linspace(\n",
    "    'wavelength',\n",
    "    table.coords['wavelength'].min().value,\n",
    "    table.coords['wavelength'].max().value,\n",
    "    num=1001,\n",
    "    unit='angstrom',\n",
    ")"
   ]
  },
  {
   "cell_type": "markdown",
   "id": "f5f6428e-bfb7-44c5-9af1-c4cf9a63a6bf",
   "metadata": {},
   "source": [
    "The table can now be histogrammed using `sc.histogram`:"
   ]
  },
  {
   "cell_type": "code",
   "execution_count": null,
   "id": "f7a0f173-0224-4932-b34a-e11b85301390",
   "metadata": {},
   "outputs": [],
   "source": [
    "histogrammed = sc.histogram(table, bins=wavelength)\n",
    "histogrammed"
   ]
  },
  {
   "cell_type": "markdown",
   "id": "e5619166-bc29-4e5c-b486-4e3f651ce625",
   "metadata": {},
   "source": [
    "Alternatively, we can use `sc.bin`, which keeps the underlying events and their metadata:"
   ]
  },
  {
   "cell_type": "code",
   "execution_count": null,
   "id": "469a26d1-7cff-4e14-90a4-faefecb8e3fe",
   "metadata": {},
   "outputs": [],
   "source": [
    "binned = sc.bin(table, edges=[wavelength])\n",
    "binned"
   ]
  },
  {
   "cell_type": "markdown",
   "id": "3075af2f-f272-47f5-9683-4c5042bf92eb",
   "metadata": {},
   "source": [
    "Since we used the same bin edges for histogramming and binning, computing the sum of values within each bin (given by `binned.bins.sum()`) yields the same result as histogramming directly.\n",
    "Therefore only a single line is visible in the following plot:"
   ]
  },
  {
   "cell_type": "code",
   "execution_count": null,
   "id": "5ecd8c4f-e0c9-43ae-9a71-13bc6ba54447",
   "metadata": {},
   "outputs": [],
   "source": [
    "bin_sums = binned.bins.sum()\n",
    "sc.plot({'histogrammed': histogrammed, 'binned': bin_sums})"
   ]
  },
  {
   "cell_type": "markdown",
   "id": "0bcc22ca-6dff-47ec-9ee8-fb58b59fb644",
   "metadata": {},
   "source": [
    "Since the above combines data from all pixels, the wavelength distribution is not really meaningful.\n",
    "\n",
    "While the result of histogramming may appear similar or identical, the internal structure is very different.\n",
    "The histogrammed data consists of essentially two arrays, one for the values (yellow) and one for the wavelengths (green):"
   ]
  },
  {
   "cell_type": "code",
   "execution_count": null,
   "id": "74ce6bf9-7ef7-4a1f-ac7a-46fd6f752815",
   "metadata": {},
   "outputs": [],
   "source": [
    "sc.show(histogrammed)"
   ]
  },
  {
   "cell_type": "markdown",
   "id": "ceddb439-6643-4243-aaef-e15408d4d75f",
   "metadata": {},
   "source": [
    "The top level structure of the binned data is the same, i.e., we have and array of values and an array of wavelengths.\n",
    "The difference is that each value (bin) stores all contributing table rows:"
   ]
  },
  {
   "cell_type": "code",
   "execution_count": null,
   "id": "fc4c3303-537a-4ea1-908c-5db7d77e7f2d",
   "metadata": {},
   "outputs": [],
   "source": [
    "sc.show(binned)"
   ]
  },
  {
   "cell_type": "markdown",
   "id": "e83a97e1-4e07-45bd-8ad2-7dd66db65c69",
   "metadata": {},
   "source": [
    "### Exercise 1\n",
    "\n",
    "- Define bin edges for `z_pos` and use it to histogram and bin `table`.\n",
    "  Plot the results.\n",
    "- Define different bin edges for `z_pos`, e.g., with more values.\n",
    "  Use `sc.bin` with the new edges *on the result of the binning from the first bullet*, i.e., *not* on the original table `table`.\n",
    "  Why is this possible?"
   ]
  },
  {
   "cell_type": "code",
   "execution_count": null,
   "id": "ffb72ab5-0bc8-40ba-92b3-8bd86429bc5c",
   "metadata": {},
   "outputs": [],
   "source": [
    "# your code here"
   ]
  },
  {
   "cell_type": "markdown",
   "id": "96f30fb7-1ff3-45c3-bb3b-21a23ddd08e6",
   "metadata": {},
   "source": [
    "## Multi-dimensional spatial binning"
   ]
  },
  {
   "cell_type": "markdown",
   "id": "9ee28604-8ec5-46bf-a9a9-26667eb7f314",
   "metadata": {},
   "source": [
    "`sc.bin` can handle multiple dimensions:"
   ]
  },
  {
   "cell_type": "code",
   "execution_count": null,
   "id": "97965f28-1bd4-45dd-856a-2b55d0d53894",
   "metadata": {},
   "outputs": [],
   "source": [
    "x = table.coords['x_pos']\n",
    "y = table.coords['y_pos']\n",
    "z = table.coords['z_pos']\n",
    "x_pos = sc.linspace('x_pos', x.min().value, x.max().value, num=31, unit='mm')\n",
    "y_pos = sc.linspace('y_pos', y.min().value, y.max().value, num=31, unit='mm')\n",
    "z_pos = sc.linspace('z_pos', z.min().value, z.max().value, num=31, unit='mm')\n",
    "binned = sc.bin(table, edges=[z_pos, y_pos, x_pos])\n",
    "binned['z_pos', 20:].bins.sum().plot(norm='log', aspect='equal')"
   ]
  },
  {
   "cell_type": "markdown",
   "id": "040d88fa-e938-463a-bfbd-d90edd5eb80c",
   "metadata": {},
   "source": [
    "Above we can see a cut through the detector assembly, which has the shape of a thick cylinder mantle.\n",
    "\n",
    "The advantage of binned data over histogrammed data is that metadata for each underlying event is still present.\n",
    "We can therefore change the binning, or bin in additional dimensions.\n",
    "For example, we can select the slice containing $z = 0$ and turn it into a higher-resolution cut:"
   ]
  },
  {
   "cell_type": "code",
   "execution_count": null,
   "id": "2488e51c-db3f-419f-80c7-b3be8cb50d51",
   "metadata": {},
   "outputs": [],
   "source": [
    "x_fine = sc.linspace('x_pos', x.min().value, x.max().value, num=41, unit='mm')\n",
    "y_fine = sc.linspace('y_pos', y.min().value, y.max().value, num=101, unit='mm')\n",
    "z_slice = binned['z_pos', sc.scalar(0.0, unit='mm')]\n",
    "xy_cut = sc.bin(z_slice, edges=[y_fine, x_fine])\n",
    "xy_cut"
   ]
  },
  {
   "cell_type": "code",
   "execution_count": null,
   "id": "122a7df6-8172-433b-8ac3-4d870389291f",
   "metadata": {},
   "outputs": [],
   "source": [
    "xy_cut.bins.sum().transpose().plot(aspect='equal')"
   ]
  },
  {
   "cell_type": "markdown",
   "id": "2e3a73ba-f911-46e0-b858-2a79cd5f992b",
   "metadata": {},
   "source": [
    "### Exercise 2\n",
    "\n",
    "- Compute the radius from `x` and `y` (defined above) and store it as a new coordinate in `table`.\n",
    "- Define bin edges for the radius.\n",
    "- Bin `table` by `z_pos` and the radius.\n",
    "- Plot the result."
   ]
  },
  {
   "cell_type": "code",
   "execution_count": null,
   "id": "cb79e667-e184-48b1-a8f5-44294a4700f0",
   "metadata": {},
   "outputs": [],
   "source": [
    "# your code here"
   ]
  },
  {
   "cell_type": "code",
   "execution_count": null,
   "id": "4fa0b2a8-fd78-41d0-8c2e-27fda47c9e1b",
   "metadata": {},
   "outputs": [],
   "source": [
    "# TODO remove\n",
    "radius = sc.sqrt(x**2+y**2)\n",
    "table.coords['radius'] = radius\n",
    "radius = sc.linspace('radius', radius.min().value, radius.max().value, num=13, unit='mm')\n",
    "sc.bin(table, edges=[z_pos,radius]).bins.sum().plot()\n",
    "#da.coords['phi'] = sc.atan2(y=y,x=x)\n",
    "#phi = sc.linspace('phi', 0.0, 0.7, num=200, unit='rad')\n",
    "#da.coords['theta'] = sc.atan(sc.sqrt(x**2+y**2)/z)\n",
    "#theta = sc.linspace('theta', 0.7, 1.6, num=400, unit='rad')"
   ]
  },
  {
   "cell_type": "markdown",
   "id": "922574fd-cc8e-407c-81d1-ce4cd3eeabc1",
   "metadata": {},
   "source": [
    "## Multi-dimensional logical binning"
   ]
  },
  {
   "cell_type": "markdown",
   "id": "0186673f-56f8-4daf-8cfc-e5de77ae4459",
   "metadata": {},
   "source": [
    "Above we binned according to x, y, and z.\n",
    "This reflects neither the physics nor the logical structure of the detectors and is generally not very useful.\n",
    "The original table additionally contains information about the logical structure of the detector array.\n",
    "In this case it is divided into modules, segments, counters, wires, and strips.\n",
    "We define:"
   ]
  },
  {
   "cell_type": "code",
   "execution_count": null,
   "id": "fbc8d773-9271-46a6-8a39-eec7525f7463",
   "metadata": {},
   "outputs": [],
   "source": [
    "# Note that indices in the file are 1-based, not 0-based\n",
    "groups = {\n",
    "    dim: sc.arange(dim, 1, table.coords[dim].max().value + 1, unit=None, dtype='int64')\n",
    "    for dim in ['module', 'segment', 'counter', 'wire', 'strip']\n",
    "}\n",
    "groups"
   ]
  },
  {
   "cell_type": "markdown",
   "id": "14a4ec01-4649-4dc3-ad2e-e92432e690e1",
   "metadata": {},
   "source": [
    "Instead of using `sc.bin` with the `edges` keyword argument we can use the `groups` keyword argument to perform a binning based on discrete values.\n",
    "The result is 5-D:"
   ]
  },
  {
   "cell_type": "code",
   "execution_count": null,
   "id": "e800d4f1-5851-4394-af7c-bcf07d54e7d8",
   "metadata": {},
   "outputs": [],
   "source": [
    "binned = sc.bin(table, groups=list(groups.values()))\n",
    "binned"
   ]
  },
  {
   "cell_type": "markdown",
   "id": "1dbcbc78-2f57-45b7-94b2-d8b42d8c0b0d",
   "metadata": {},
   "source": [
    "### Exercise 3\n",
    "\n",
    "- Group `table` using `sc.bin` but only by strip and wire.\n",
    "- Plot the result.\n",
    "- The wire index increases with the cylinder radius, the strip index increases with z (or decreases with scattering angle).\n",
    "  Explain the plot, e.g., why is intensity decreasing with increasing wire index?"
   ]
  },
  {
   "cell_type": "code",
   "execution_count": null,
   "id": "19f9c04c-6e07-4d44-86a1-d757866658d6",
   "metadata": {},
   "outputs": [],
   "source": [
    "# your code here"
   ]
  },
  {
   "cell_type": "code",
   "execution_count": null,
   "id": "9d8493c5-2c6e-412b-b31c-b85a0a131882",
   "metadata": {},
   "outputs": [],
   "source": [
    "#TODO remove\n",
    "sc.bin(table, groups=[groups['strip'], groups['wire']]).bins.sum().plot()"
   ]
  },
  {
   "cell_type": "markdown",
   "id": "8aefdeff-0d4f-4930-8162-ecd4a58cd08f",
   "metadata": {},
   "source": [
    "## From event-based metadata to bin-based metadata"
   ]
  },
  {
   "cell_type": "markdown",
   "id": "4323a62a-20cd-42a0-b4fc-62a301ae0e99",
   "metadata": {},
   "source": [
    "For each detected neutron our data records the position of the associated voxel.\n",
    "After the logical grouping above, every bin corresponds to a voxel.\n",
    "\n",
    "It can be more practical to store the voxel position for every bin (voxel) instead of for every event.\n",
    "This can be achieved, e.g., by computing the mean for every bin.\n",
    "Note that in this case all events in a voxel record the same voxel position so this proceedure is wasteful &mdash; in practice we may prefer loading the voxel positions directly from a file.\n",
    "\n",
    "We can also combine the x, y, and z components into a single array of position vectors:"
   ]
  },
  {
   "cell_type": "code",
   "execution_count": null,
   "id": "b01f58f1-a3cc-4d90-a503-841aaeb56401",
   "metadata": {},
   "outputs": [],
   "source": [
    "pos = sc.zeros(sizes=binned.sizes, dtype=sc.DType.vector3, unit='mm')\n",
    "pos.fields.x = binned.bins.coords['voxel_x'].bins.mean()\n",
    "pos.fields.y = binned.bins.coords['voxel_y'].bins.mean()\n",
    "pos.fields.z = binned.bins.coords['voxel_z'].bins.mean()\n",
    "binned.coords['position'] = pos\n",
    "binned"
   ]
  },
  {
   "cell_type": "markdown",
   "id": "dfe06d18-68ba-4e50-ae9b-184a92f6535d",
   "metadata": {},
   "source": [
    "Equipped with the position of every voxel, we can compute the number of neutrons counted per voxel and create a 3-D scatter plot.\n",
    "The \"scatter points\" correspond to the voxel positions.\n",
    "In this particular case some voxels had no associated neutrons so the computed position is invalid and no scatter point is shown:"
   ]
  },
  {
   "cell_type": "code",
   "execution_count": null,
   "id": "dce0e153-1ddd-4b86-a342-32cb1e7cd3c4",
   "metadata": {},
   "outputs": [],
   "source": [
    "counts_per_voxel = binned.bins.sum()\n",
    "counts_per_voxel.plot(projection='3d', positions='position', pixel_size=10)"
   ]
  },
  {
   "cell_type": "markdown",
   "id": "87645003-b739-4203-a8cb-4c682aa7f35a",
   "metadata": {},
   "source": [
    "We can also inspect an individual component such as a strip:"
   ]
  },
  {
   "cell_type": "code",
   "execution_count": null,
   "id": "c665f5af-0252-4e7b-97ae-b725c88091f8",
   "metadata": {},
   "outputs": [],
   "source": [
    "binned['strip', 200].bins.sum().plot(projection='3d', positions='position', pixel_size=10)"
   ]
  },
  {
   "cell_type": "markdown",
   "id": "03a9f73f-43a8-466e-b070-c7a0649daa35",
   "metadata": {},
   "source": [
    "### Exercise 4\n",
    "\n",
    "Above, in [Logical binning](#Logical-binning), we binned into individual voxels (based on 5 distinct logical indices) and then computed voxel positions.\n",
    "\n",
    "- Repeat this without binning by wire, i.e., use only module, segment, counter, and strip.\n",
    "- Compute the resulting mean positions analogously to before.\n",
    "- Create a scatter plot as before.\n",
    "  This should yield a rough projection onto a cylinder."
   ]
  },
  {
   "cell_type": "code",
   "execution_count": null,
   "id": "0cc035a7-1f49-4c87-94c5-2381e6976464",
   "metadata": {},
   "outputs": [],
   "source": [
    "# your code here\n",
    "# TODO remove\n",
    "proj = sc.bin(table, groups=[groups[key] for key in groups if key != 'wire'])\n",
    "pos = sc.zeros(sizes=proj.sizes, dtype=sc.DType.vector3, unit='mm')\n",
    "pos.fields.x = proj.bins.coords['voxel_x'].bins.mean()\n",
    "pos.fields.y = proj.bins.coords['voxel_y'].bins.mean()\n",
    "pos.fields.z = proj.bins.coords['voxel_z'].bins.mean()\n",
    "proj.bins.sum().plot(projection='3d', positions=pos, pixel_size=10, norm='log')"
   ]
  },
  {
   "cell_type": "markdown",
   "id": "a38994a6-6b52-403c-99ea-d0ac47f16c79",
   "metadata": {
    "tags": []
   },
   "source": [
    "## Binning with edges and groups combined"
   ]
  },
  {
   "cell_type": "markdown",
   "id": "5ccd4b70-569a-410c-9722-2d70ce5f81d6",
   "metadata": {},
   "source": [
    "It is also possible to \"group\" and \"bin\" at the same time.\n",
    "Since strips roughly correspond to scattering angle, a plot against wavelength and strip may be useful.\n",
    "\n",
    "### Exercise 5\n",
    "\n",
    "- Use `sc.bin` to bin `table` by strip and wavelength.\n",
    "- Plot the result.\n",
    "\n",
    "#### Solution"
   ]
  },
  {
   "cell_type": "code",
   "execution_count": null,
   "id": "5e6bac6c-db4b-45ae-9812-436ce330fedb",
   "metadata": {},
   "outputs": [],
   "source": [
    "sc.bin(table, groups=[groups['strip']], edges=[wavelength]).bins.sum().plot(norm='log')"
   ]
  }
 ],
 "metadata": {
  "kernelspec": {
   "display_name": "Python 3 (ipykernel)",
   "language": "python",
   "name": "python3"
  },
  "language_info": {
   "codemirror_mode": {
    "name": "ipython",
    "version": 3
   },
   "file_extension": ".py",
   "mimetype": "text/x-python",
   "name": "python",
   "nbconvert_exporter": "python",
   "pygments_lexer": "ipython3",
   "version": "3.8.13"
  }
 },
 "nbformat": 4,
 "nbformat_minor": 5
}
